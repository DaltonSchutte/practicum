{
 "cells": [
  {
   "cell_type": "code",
   "execution_count": 1,
   "id": "23bcbcc2",
   "metadata": {},
   "outputs": [],
   "source": [
    "import os\n",
    "import pickle \n",
    "import random\n",
    "import warnings\n",
    "\n",
    "import matplotlib.pyplot as plt\n",
    "import seaborn as sns\n",
    "\n",
    "import numpy as np\n",
    "import pandas as pd\n",
    "\n",
    "import torch\n",
    "\n",
    "import sys\n",
    "sys.path.insert(0, '..')\n",
    "from src.data import TimeSeries\n",
    "from src.methods import rl\n",
    "from src.environment import TimeSeriesEnv"
   ]
  },
  {
   "cell_type": "code",
   "execution_count": 2,
   "id": "270a169f",
   "metadata": {},
   "outputs": [],
   "source": [
    "# GLOBALS\n",
    "SEED = 3141\n",
    "random.seed(SEED)\n",
    "np.random.seed(SEED)\n",
    "torch.manual_seed(SEED)\n",
    "\n",
    "warnings.filterwarnings('ignore', category=FutureWarning)"
   ]
  },
  {
   "cell_type": "code",
   "execution_count": 3,
   "id": "652b2de7",
   "metadata": {
    "scrolled": false
   },
   "outputs": [
    {
     "name": "stdout",
     "output_type": "stream",
     "text": [
      "BLOOD-REFRIGERATOR\n",
      "Features:  12\n",
      "Hidden Dim:  16\n"
     ]
    },
    {
     "data": {
      "application/vnd.jupyter.widget-view+json": {
       "model_id": "ffd70997c3fd4586a60c8bd6d311f25c",
       "version_major": 2,
       "version_minor": 0
      },
      "text/plain": [
       "Epochs:   0%|          | 0/30 [00:00<?, ?it/s]"
      ]
     },
     "metadata": {},
     "output_type": "display_data"
    },
    {
     "data": {
      "application/vnd.jupyter.widget-view+json": {
       "model_id": "ffad501d3ac7419d8a187cc020f26730",
       "version_major": 2,
       "version_minor": 0
      },
      "text/plain": [
       "  0%|          | 0/60166 [00:00<?, ?it/s]"
      ]
     },
     "metadata": {},
     "output_type": "display_data"
    },
    {
     "ename": "AttributeError",
     "evalue": "'NeuralNetGuidedMCTS' object has no attribute 'current_time'",
     "output_type": "error",
     "traceback": [
      "\u001b[0;31m---------------------------------------------------------------------------\u001b[0m",
      "\u001b[0;31mAttributeError\u001b[0m                            Traceback (most recent call last)",
      "Cell \u001b[0;32mIn[3], line 77\u001b[0m\n\u001b[1;32m     75\u001b[0m \u001b[38;5;66;03m# Train\u001b[39;00m\n\u001b[1;32m     76\u001b[0m epochs \u001b[38;5;241m=\u001b[39m \u001b[38;5;241m30\u001b[39m\n\u001b[0;32m---> 77\u001b[0m train_actions, train_rewards \u001b[38;5;241m=\u001b[39m \u001b[43malpha_stop\u001b[49m\u001b[38;5;241;43m.\u001b[39;49m\u001b[43mtrain\u001b[49m\u001b[43m(\u001b[49m\u001b[43mepochs\u001b[49m\u001b[43m,\u001b[49m\u001b[43m \u001b[49m\u001b[43mtrain_env\u001b[49m\u001b[43m,\u001b[49m\u001b[43m \u001b[49m\u001b[43mvalid_env\u001b[49m\u001b[43m)\u001b[49m\n\u001b[1;32m     79\u001b[0m \u001b[38;5;66;03m# Load and test best model\u001b[39;00m\n\u001b[1;32m     80\u001b[0m alpha_stop\u001b[38;5;241m.\u001b[39mnet\u001b[38;5;241m.\u001b[39mload_state_dict(\n\u001b[1;32m     81\u001b[0m     torch\u001b[38;5;241m.\u001b[39mload(\n\u001b[1;32m     82\u001b[0m         os\u001b[38;5;241m.\u001b[39mpath\u001b[38;5;241m.\u001b[39mjoin(\u001b[38;5;124m'\u001b[39m\u001b[38;5;124m../results/rl\u001b[39m\u001b[38;5;124m'\u001b[39m,\u001b[38;5;28mdir\u001b[39m,\u001b[38;5;124m'\u001b[39m\u001b[38;5;124mnetwork.pt\u001b[39m\u001b[38;5;124m'\u001b[39m)\n\u001b[1;32m     83\u001b[0m     )\n\u001b[1;32m     84\u001b[0m )\n",
      "File \u001b[0;32m~/projects/practicum/notebooks/../src/methods/rl.py:245\u001b[0m, in \u001b[0;36mNeuralNetGuidedMCTS.train\u001b[0;34m(self, epochs, train_env, valid_env)\u001b[0m\n\u001b[1;32m    242\u001b[0m daily_rewards[train_env\u001b[38;5;241m.\u001b[39mcurrent_date]\u001b[38;5;241m.\u001b[39mappend(reward)\n\u001b[1;32m    243\u001b[0m pbar\u001b[38;5;241m.\u001b[39mupdate(\u001b[38;5;241m1\u001b[39m)\n\u001b[0;32m--> 245\u001b[0m \u001b[38;5;28;01mif\u001b[39;00m day_done \u001b[38;5;129;01mor\u001b[39;00m done \u001b[38;5;129;01mor\u001b[39;00m (\u001b[38;5;28;43mself\u001b[39;49m\u001b[38;5;241;43m.\u001b[39;49m\u001b[43mcurrent_time\u001b[49m \u001b[38;5;241m%\u001b[39m \u001b[38;5;241m4\u001b[39m \u001b[38;5;241m==\u001b[39m \u001b[38;5;241m0\u001b[39m):\n\u001b[1;32m    246\u001b[0m     \u001b[38;5;28mprint\u001b[39m(\u001b[38;5;124m'\u001b[39m\u001b[38;5;124mlearning\u001b[39m\u001b[38;5;124m'\u001b[39m)\n\u001b[1;32m    247\u001b[0m     \u001b[38;5;28mself\u001b[39m\u001b[38;5;241m.\u001b[39mlearn()\n",
      "\u001b[0;31mAttributeError\u001b[0m: 'NeuralNetGuidedMCTS' object has no attribute 'current_time'"
     ]
    }
   ],
   "source": [
    "for dir in os.listdir('../data'):\n",
    "    if dir == 'wrapper-machine':\n",
    "        continue\n",
    "\n",
    "    print(dir.upper())\n",
    "    # Data loading\n",
    "    data_dir_path = os.path.join('../data', dir)\n",
    "    if dir == 'nitrogen-generator':\n",
    "        tf = '%Y-%m-%d %H:%M:%S'\n",
    "    else:\n",
    "        tf = '%Y-%m-%d %H:%M:%S.%f'\n",
    "\n",
    "    train_ts = TimeSeries.from_csv(\n",
    "        'pandas',\n",
    "        os.path.join(data_dir_path, 'train.csv')\n",
    "    )\n",
    "    valid_ts = TimeSeries.from_csv(\n",
    "        'pandas',\n",
    "        os.path.join(data_dir_path, 'val.csv')\n",
    "    )\n",
    "    test_ts = TimeSeries.from_csv(\n",
    "        'pandas',\n",
    "        os.path.join(data_dir_path, 'test.csv')\n",
    "    )\n",
    "\n",
    "    # Data prep\n",
    "    train_ts.parse_datetime('timestamp', tf)\n",
    "    valid_ts.parse_datetime('timestamp', tf)\n",
    "    test_ts.parse_datetime('timestamp', tf)\n",
    "\n",
    "    train_ts.split_by_day()\n",
    "    valid_ts.split_by_day()\n",
    "    test_ts.split_by_day()\n",
    "\n",
    "    temp = pd.concat(\n",
    "        train_ts.time_series[k].drop(\n",
    "            columns=['timestamp','PW_0.5h','date','time']\n",
    "        ) for k in train_ts.time_series.keys()\n",
    "    )\n",
    "\n",
    "    FEATURE_COLS = [\n",
    "        c for c in temp.columns if np.std(temp[c])!=0\n",
    "    ]\n",
    "    LABEL_COL = 'PW_0.5h'\n",
    "\n",
    "    temp = None\n",
    "    del temp\n",
    "\n",
    "    # Make environments\n",
    "    train_env = TimeSeriesEnv(train_ts, FEATURE_COLS, LABEL_COL)\n",
    "    valid_env = TimeSeriesEnv(valid_ts, FEATURE_COLS, LABEL_COL)\n",
    "    test_env = TimeSeriesEnv(test_ts, FEATURE_COLS, LABEL_COL)\n",
    "\n",
    "    # Model prep\n",
    "    hid_dim = 0\n",
    "    for i in range(10):\n",
    "        if 2**i > len(FEATURE_COLS):\n",
    "            hid_dim = 2**i\n",
    "            break\n",
    "    print('Features: ', len(FEATURE_COLS))\n",
    "    print('Hidden Dim: ',hid_dim)\n",
    "    alpha_stop = rl.NeuralNetGuidedMCTS(\n",
    "        in_dim=len(FEATURE_COLS),\n",
    "        hid_dim=hid_dim,\n",
    "        save_dir=os.path.join('../results/rl',dir),\n",
    "        n_actions=2,\n",
    "        n_sim=100,\n",
    "        lr=1e-4,\n",
    "        weight_decay=0.01,\n",
    "        gamma=0.99,\n",
    "        bsz=128,\n",
    "        device='cpu'\n",
    "    )\n",
    "\n",
    "    # Train\n",
    "    epochs = 30\n",
    "    train_actions, train_rewards = alpha_stop.train(epochs, train_env, valid_env)\n",
    "\n",
    "    # Load and test best model\n",
    "    alpha_stop.net.load_state_dict(\n",
    "        torch.load(\n",
    "            os.path.join('../results/rl',dir,'network.pt')\n",
    "        )\n",
    "    )\n",
    "    alpha_stop.mcts = pickle.load(open(os.path.join('../results/rl',dir,'mcts.pkl'),'rb'))\n",
    "    test_actions, test_rewards = alpha_stop.run(test_env)\n",
    "    \n",
    "    # Save output\n",
    "    pickle.dump(train_actions, open(os.path.join('../results/rl',dir,'train_actions.pkl'), 'wb'))\n",
    "    pickle.dump(train_rewards, open(os.path.join('../results/rl',dir,'train_rewards.pkl'), 'wb'))\n",
    "    pickle.dump(test_actions, open(os.path.join('../results/rl',dir,'test_actions.pkl'), 'wb'))\n",
    "    pickle.dump(test_rewards, open(os.path.join('../results/rl',dir,'test_rewards.pkl'), 'wb'))\n",
    "\n",
    "print(\"<< PROCESS COMPELTE >>\")"
   ]
  }
 ],
 "metadata": {
  "kernelspec": {
   "display_name": "Python 3 (ipykernel)",
   "language": "python",
   "name": "python3"
  },
  "language_info": {
   "codemirror_mode": {
    "name": "ipython",
    "version": 3
   },
   "file_extension": ".py",
   "mimetype": "text/x-python",
   "name": "python",
   "nbconvert_exporter": "python",
   "pygments_lexer": "ipython3",
   "version": "3.10.12"
  }
 },
 "nbformat": 4,
 "nbformat_minor": 5
}
