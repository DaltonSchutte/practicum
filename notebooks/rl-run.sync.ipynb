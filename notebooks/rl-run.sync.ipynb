{
 "cells": [
  {
   "cell_type": "code",
   "execution_count": 1,
   "id": "23bcbcc2",
   "metadata": {},
   "outputs": [],
   "source": [
    "import os\n",
    "import pickle \n",
    "import random\n",
    "import warnings\n",
    "\n",
    "import matplotlib.pyplot as plt\n",
    "import seaborn as sns\n",
    "\n",
    "import numpy as np\n",
    "import pandas as pd\n",
    "\n",
    "import torch\n",
    "\n",
    "import sys\n",
    "sys.path.insert(0, '..')\n",
    "from src.data import TimeSeries\n",
    "from src.methods import rl\n",
    "from src.environment import TimeSeriesEnv"
   ]
  },
  {
   "cell_type": "code",
   "execution_count": 2,
   "id": "270a169f",
   "metadata": {},
   "outputs": [],
   "source": [
    "# GLOBALS\n",
    "SEED = 3141\n",
    "random.seed(SEED)\n",
    "np.random.seed(SEED)\n",
    "torch.manual_seed(SEED)\n",
    "\n",
    "warnings.filterwarnings('ignore', category=FutureWarning)"
   ]
  },
  {
   "cell_type": "code",
   "execution_count": 3,
   "id": "652b2de7",
   "metadata": {
    "scrolled": false
   },
   "outputs": [
    {
     "name": "stdout",
     "output_type": "stream",
     "text": [
      "BLOOD-REFRIGERATOR\n",
      "Features:  12\n",
      "Hidden Dim:  16\n"
     ]
    },
    {
     "data": {
      "application/vnd.jupyter.widget-view+json": {
       "model_id": "54d72bb9dffd4525b9037bb6bdd623f5",
       "version_major": 2,
       "version_minor": 0
      },
      "text/plain": [
       "Epochs:   0%|          | 0/20 [00:00<?, ?it/s]"
      ]
     },
     "metadata": {},
     "output_type": "display_data"
    },
    {
     "data": {
      "application/vnd.jupyter.widget-view+json": {
       "model_id": "eaaaa93c934944179b9bbae56f1327ad",
       "version_major": 2,
       "version_minor": 0
      },
      "text/plain": [
       "  0%|          | 0/60166 [00:00<?, ?it/s]"
      ]
     },
     "metadata": {},
     "output_type": "display_data"
    },
    {
     "name": "stdout",
     "output_type": "stream",
     "text": [
      "Better mean reward! Saving...\n"
     ]
    },
    {
     "data": {
      "application/vnd.jupyter.widget-view+json": {
       "model_id": "b27a7eaa344845018697de2c72453f11",
       "version_major": 2,
       "version_minor": 0
      },
      "text/plain": [
       "  0%|          | 0/60166 [00:00<?, ?it/s]"
      ]
     },
     "metadata": {},
     "output_type": "display_data"
    },
    {
     "data": {
      "application/vnd.jupyter.widget-view+json": {
       "model_id": "6e1e81dea5d64ee4b2156fa8108d6774",
       "version_major": 2,
       "version_minor": 0
      },
      "text/plain": [
       "  0%|          | 0/60166 [00:00<?, ?it/s]"
      ]
     },
     "metadata": {},
     "output_type": "display_data"
    },
    {
     "name": "stdout",
     "output_type": "stream",
     "text": [
      "Better mean reward! Saving...\n"
     ]
    },
    {
     "data": {
      "application/vnd.jupyter.widget-view+json": {
       "model_id": "e299cdd654ba44768b10d6834c4df24c",
       "version_major": 2,
       "version_minor": 0
      },
      "text/plain": [
       "  0%|          | 0/60166 [00:00<?, ?it/s]"
      ]
     },
     "metadata": {},
     "output_type": "display_data"
    },
    {
     "data": {
      "application/vnd.jupyter.widget-view+json": {
       "model_id": "65896e5ec65c4ccf9c0ed0960910d482",
       "version_major": 2,
       "version_minor": 0
      },
      "text/plain": [
       "  0%|          | 0/60166 [00:00<?, ?it/s]"
      ]
     },
     "metadata": {},
     "output_type": "display_data"
    },
    {
     "data": {
      "application/vnd.jupyter.widget-view+json": {
       "model_id": "e935e78e50784b9bb34722c974e1f23f",
       "version_major": 2,
       "version_minor": 0
      },
      "text/plain": [
       "  0%|          | 0/60166 [00:00<?, ?it/s]"
      ]
     },
     "metadata": {},
     "output_type": "display_data"
    },
    {
     "data": {
      "application/vnd.jupyter.widget-view+json": {
       "model_id": "9a139854021b47b3af3ef4d2ad517583",
       "version_major": 2,
       "version_minor": 0
      },
      "text/plain": [
       "  0%|          | 0/60166 [00:00<?, ?it/s]"
      ]
     },
     "metadata": {},
     "output_type": "display_data"
    },
    {
     "data": {
      "application/vnd.jupyter.widget-view+json": {
       "model_id": "13a1279af4594fb38b7cf2ada4a05959",
       "version_major": 2,
       "version_minor": 0
      },
      "text/plain": [
       "  0%|          | 0/60166 [00:00<?, ?it/s]"
      ]
     },
     "metadata": {},
     "output_type": "display_data"
    },
    {
     "name": "stdout",
     "output_type": "stream",
     "text": [
      "NITROGEN-GENERATOR\n",
      "Features:  4\n",
      "Hidden Dim:  8\n"
     ]
    },
    {
     "data": {
      "application/vnd.jupyter.widget-view+json": {
       "model_id": "f198f686962a4dcaa3dddd5dbcd538ee",
       "version_major": 2,
       "version_minor": 0
      },
      "text/plain": [
       "Epochs:   0%|          | 0/20 [00:00<?, ?it/s]"
      ]
     },
     "metadata": {},
     "output_type": "display_data"
    },
    {
     "data": {
      "application/vnd.jupyter.widget-view+json": {
       "model_id": "04a111170f19485a96b339fcf88928a9",
       "version_major": 2,
       "version_minor": 0
      },
      "text/plain": [
       "  0%|          | 0/40354 [00:00<?, ?it/s]"
      ]
     },
     "metadata": {},
     "output_type": "display_data"
    },
    {
     "name": "stdout",
     "output_type": "stream",
     "text": [
      "Better mean reward! Saving...\n"
     ]
    },
    {
     "data": {
      "application/vnd.jupyter.widget-view+json": {
       "model_id": "9e48f2698a8e4048b8b7dacbdee72f34",
       "version_major": 2,
       "version_minor": 0
      },
      "text/plain": [
       "  0%|          | 0/40354 [00:00<?, ?it/s]"
      ]
     },
     "metadata": {},
     "output_type": "display_data"
    },
    {
     "name": "stdout",
     "output_type": "stream",
     "text": [
      "Better mean reward! Saving...\n"
     ]
    },
    {
     "data": {
      "application/vnd.jupyter.widget-view+json": {
       "model_id": "68126dd2ed57498ba340f5ad48f86a43",
       "version_major": 2,
       "version_minor": 0
      },
      "text/plain": [
       "  0%|          | 0/40354 [00:00<?, ?it/s]"
      ]
     },
     "metadata": {},
     "output_type": "display_data"
    },
    {
     "data": {
      "application/vnd.jupyter.widget-view+json": {
       "model_id": "82948dbc706b4b96b940efce68c327d3",
       "version_major": 2,
       "version_minor": 0
      },
      "text/plain": [
       "  0%|          | 0/40354 [00:00<?, ?it/s]"
      ]
     },
     "metadata": {},
     "output_type": "display_data"
    },
    {
     "data": {
      "application/vnd.jupyter.widget-view+json": {
       "model_id": "bb1d722b0f944c96a8314cb0914f006f",
       "version_major": 2,
       "version_minor": 0
      },
      "text/plain": [
       "  0%|          | 0/40354 [00:00<?, ?it/s]"
      ]
     },
     "metadata": {},
     "output_type": "display_data"
    },
    {
     "data": {
      "application/vnd.jupyter.widget-view+json": {
       "model_id": "5cfd08e2230146e5beafab22ab6903f8",
       "version_major": 2,
       "version_minor": 0
      },
      "text/plain": [
       "  0%|          | 0/40354 [00:00<?, ?it/s]"
      ]
     },
     "metadata": {},
     "output_type": "display_data"
    },
    {
     "data": {
      "application/vnd.jupyter.widget-view+json": {
       "model_id": "f859d182c4414658966aab560ca9d804",
       "version_major": 2,
       "version_minor": 0
      },
      "text/plain": [
       "  0%|          | 0/40354 [00:00<?, ?it/s]"
      ]
     },
     "metadata": {},
     "output_type": "display_data"
    },
    {
     "name": "stdout",
     "output_type": "stream",
     "text": [
      "<< PROCESS COMPELTE >>\n"
     ]
    }
   ],
   "source": [
    "for dir in os.listdir('../data'):\n",
    "    if dir == 'wrapper-machine':\n",
    "        continue\n",
    "\n",
    "    print(dir.upper())\n",
    "    # Data loading\n",
    "    data_dir_path = os.path.join('../data', dir)\n",
    "    if dir == 'nitrogen-generator':\n",
    "        tf = '%Y-%m-%d %H:%M:%S'\n",
    "    else:\n",
    "        tf = '%Y-%m-%d %H:%M:%S.%f'\n",
    "\n",
    "    train_ts = TimeSeries.from_csv(\n",
    "        'pandas',\n",
    "        os.path.join(data_dir_path, 'train.csv')\n",
    "    )\n",
    "    valid_ts = TimeSeries.from_csv(\n",
    "        'pandas',\n",
    "        os.path.join(data_dir_path, 'val.csv')\n",
    "    )\n",
    "    test_ts = TimeSeries.from_csv(\n",
    "        'pandas',\n",
    "        os.path.join(data_dir_path, 'test.csv')\n",
    "    )\n",
    "\n",
    "    # Data prep\n",
    "    train_ts.parse_datetime('timestamp', tf)\n",
    "    valid_ts.parse_datetime('timestamp', tf)\n",
    "    test_ts.parse_datetime('timestamp', tf)\n",
    "\n",
    "    train_ts.split_by_day()\n",
    "    valid_ts.split_by_day()\n",
    "    test_ts.split_by_day()\n",
    "\n",
    "    temp = pd.concat(\n",
    "        train_ts.time_series[k].drop(\n",
    "            columns=['timestamp','PW_0.5h','date','time']\n",
    "        ) for k in train_ts.time_series.keys()\n",
    "    )\n",
    "\n",
    "    FEATURE_COLS = [\n",
    "        c for c in temp.columns if np.std(temp[c])!=0\n",
    "    ]\n",
    "    LABEL_COL = 'PW_0.5h'\n",
    "\n",
    "    temp = None\n",
    "    del temp\n",
    "\n",
    "    # Make environments\n",
    "    train_env = TimeSeriesEnv(train_ts, FEATURE_COLS, LABEL_COL)\n",
    "    valid_env = TimeSeriesEnv(valid_ts, FEATURE_COLS, LABEL_COL)\n",
    "    test_env = TimeSeriesEnv(test_ts, FEATURE_COLS, LABEL_COL)\n",
    "\n",
    "    # Model prep\n",
    "    hid_dim = 0\n",
    "    for i in range(10):\n",
    "        if 2**i > len(FEATURE_COLS):\n",
    "            hid_dim = 2**(i-1) * 2\n",
    "            break\n",
    "    print('Features: ', len(FEATURE_COLS))\n",
    "    print('Hidden Dim: ',hid_dim)\n",
    "    alpha_stop = rl.NeuralNetGuidedMCTS(\n",
    "        in_dim=len(FEATURE_COLS),\n",
    "        hid_dim=hid_dim,\n",
    "        save_dir=os.path.join('../results/rl',dir),\n",
    "        n_actions=2,\n",
    "        n_sim=55,\n",
    "        lr=1e-4,\n",
    "        weight_decay=0.01,\n",
    "        gamma=0.99,\n",
    "        bsz=64,\n",
    "        device='cpu'\n",
    "    )\n",
    "\n",
    "    # Train\n",
    "    epochs = 20\n",
    "    train_actions, train_rewards = alpha_stop.train(epochs, train_env, valid_env)\n",
    "\n",
    "    # Load and test best model\n",
    "    alpha_stop.net.load_state_dict(os.path.join('../results/rl',dir,'network.pt'))\n",
    "    alpha_stop.mcts = pickle.load(open(os.path.join('../results/rl',dir,'mcts.pkl'),)'rb')\n",
    "    test_actions, test_rewards = alpha_stop.run(test_env)\n",
    "    \n",
    "    # Save output\n",
    "    pickle.dump(train_actions, open(os.path.join('../results/rl',dir,'train_actions.pkl'), 'wb'))\n",
    "    pickle.dump(train_rewards, open(os.path.join('../results/rl',dir,'train_rewards.pkl'), 'wb'))\n",
    "    pickle.dump(test_actions, open(os.path.join('../results/rl',dir,'test_actions.pkl'), 'wb'))\n",
    "    pickle.dump(test_rewards, open(os.path.join('../results/rl',dir,'test_rewards.pkl'), 'wb'))\n",
    "\n",
    "print(\"<< PROCESS COMPELTE >>\")"
   ]
  }
 ],
 "metadata": {
  "kernelspec": {
   "display_name": "Python 3 (ipykernel)",
   "language": "python",
   "name": "python3"
  },
  "language_info": {
   "codemirror_mode": {
    "name": "ipython",
    "version": 3
   },
   "file_extension": ".py",
   "mimetype": "text/x-python",
   "name": "python",
   "nbconvert_exporter": "python",
   "pygments_lexer": "ipython3",
   "version": "3.10.12"
  }
 },
 "nbformat": 4,
 "nbformat_minor": 5
}
