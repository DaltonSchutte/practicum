{
 "cells": [
  {
   "cell_type": "code",
   "execution_count": 1,
   "id": "23bcbcc2",
   "metadata": {},
   "outputs": [],
   "source": [
    "import os\n",
    "import pickle \n",
    "import random\n",
    "import warnings\n",
    "\n",
    "import matplotlib.pyplot as plt\n",
    "import seaborn as sns\n",
    "\n",
    "import numpy as np\n",
    "import pandas as pd\n",
    "\n",
    "import torch\n",
    "\n",
    "import sys\n",
    "sys.path.insert(0, '..')\n",
    "from src.data import TimeSeries\n",
    "from src.methods import rl\n",
    "from src.environment import TimeSeriesEnv"
   ]
  },
  {
   "cell_type": "code",
   "execution_count": 2,
   "id": "270a169f",
   "metadata": {},
   "outputs": [],
   "source": [
    "# GLOBALS\n",
    "SEED = 3141\n",
    "random.seed(SEED)\n",
    "np.random.seed(SEED)\n",
    "torch.manual_seed(SEED)\n",
    "\n",
    "warnings.filterwarnings('ignore', category=FutureWarning)"
   ]
  },
  {
   "cell_type": "code",
   "execution_count": null,
   "id": "652b2de7",
   "metadata": {
    "scrolled": true
   },
   "outputs": [],
   "source": [
    "for dir in os.listdir('../data'):\n",
    "    if dir in ['nitrogen-generator','wrapper-machine']:\n",
    "        continue\n",
    "\n",
    "    print(dir.upper())\n",
    "    # Data loading\n",
    "    data_dir_path = os.path.join('../data', dir)\n",
    "    \n",
    "    X_train = pickle.load(open(os.path.join('../data',dir,'preprocessed/X_train.pkl'), 'rb'))\n",
    "    X_valid = pickle.load(open(os.path.join('../data',dir,'preprocessed/X_valid.pkl'), 'rb'))\n",
    "    X_test = pickle.load(open(os.path.join('../data',dir,'preprocessed/X_test.pkl'), 'rb'))\n",
    "    y_train = pickle.load(open(os.path.join('../data',dir,'preprocessed/y_train.pkl'), 'rb'))\n",
    "    y_valid = pickle.load(open(os.path.join('../data',dir,'preprocessed/y_valid.pkl'), 'rb'))\n",
    "    y_test = pickle.load(open(os.path.join('../data',dir,'preprocessed/y_test.pkl'), 'rb'))\n",
    "    \n",
    "\n",
    "    # Data loading\n",
    "    data_dir_path = os.path.join('../data', dir)\n",
    "    if dir == 'nitrogen-generator':\n",
    "        tf = '%Y-%m-%d %H:%M:%S'\n",
    "    else:\n",
    "        tf = '%Y-%m-%d %H:%M:%S.%f'\n",
    "\n",
    "    train_ts = TimeSeries.from_csv(\n",
    "        'pandas',\n",
    "        os.path.join(data_dir_path, 'train.csv')\n",
    "    )\n",
    "    valid_ts = TimeSeries.from_csv(\n",
    "        'pandas',\n",
    "        os.path.join(data_dir_path, 'val.csv')\n",
    "    )\n",
    "    test_ts = TimeSeries.from_csv(\n",
    "        'pandas',\n",
    "        os.path.join(data_dir_path, 'test.csv')\n",
    "    )\n",
    "\n",
    "    # Data prep\n",
    "    train_ts.parse_datetime('timestamp', tf)\n",
    "    valid_ts.parse_datetime('timestamp', tf)\n",
    "    test_ts.parse_datetime('timestamp', tf)\n",
    "\n",
    "    train_ts.split_by_day()\n",
    "    valid_ts.split_by_day()\n",
    "    test_ts.split_by_day()\n",
    "\n",
    "    temp = pd.concat(\n",
    "        train_ts.time_series[k].drop(\n",
    "            columns=['timestamp','PW_0.5h','date','time']\n",
    "        ) for k in train_ts.time_series.keys()\n",
    "    )\n",
    "\n",
    "    FEATURE_COLS = [\n",
    "        c for c in temp.columns if np.std(temp[c])!=0\n",
    "    ]\n",
    "    LABEL_COL = 'PW_0.5h'\n",
    "\n",
    "    temp = None\n",
    "    del temp\n",
    "\n",
    "    # Make environments\n",
    "    train_env = TimeSeriesEnv(train_ts, FEATURE_COLS, LABEL_COL, True)\n",
    "    valid_env = TimeSeriesEnv(valid_ts, FEATURE_COLS, LABEL_COL, False)\n",
    "    test_env = TimeSeriesEnv(test_ts, FEATURE_COLS, LABEL_COL, False)\n",
    "\n",
    "    # Model prep\n",
    "    hid_dim = 0\n",
    "    for i in range(10):\n",
    "        if 2**i > len(FEATURE_COLS):\n",
    "            hid_dim = 2**(i+1)\n",
    "            break\n",
    "    print('Features: ', len(FEATURE_COLS))\n",
    "    print('Hidden Dim: ',hid_dim)\n",
    "    alpha_stop = rl.NeuralNetGuidedMCTS(\n",
    "        in_dim=len(FEATURE_COLS),\n",
    "        hid_dim=hid_dim,\n",
    "        save_dir=os.path.join('../results/rl',dir),\n",
    "        n_actions=2,\n",
    "        n_sim=100,\n",
    "        lr=1e-4,\n",
    "        weight_decay=0.01,\n",
    "        gamma=0.999,\n",
    "        bsz=64,\n",
    "        device='cpu'\n",
    "    )\n",
    "\n",
    "    # Train\n",
    "    epochs = 100\n",
    "    train_actions, train_rewards = alpha_stop.train(epochs, train_env, valid_env)\n",
    "\n",
    "    # Load and test best model\n",
    "    alpha_stop.net.load_state_dict(\n",
    "        torch.load(\n",
    "            os.path.join('../results/rl',dir,'network.pt')\n",
    "        )\n",
    "    )\n",
    "    alpha_stop.mcts = pickle.load(open(os.path.join('../results/rl',dir,'mcts.pkl'),'rb'))\n",
    "    test_actions, test_rewards = alpha_stop.run(test_env)\n",
    "    \n",
    "    # Save output\n",
    "    pickle.dump(train_actions, open(os.path.join('../results/rl',dir,'train_actions.pkl'), 'wb'))\n",
    "    pickle.dump(train_rewards, open(os.path.join('../results/rl',dir,'train_rewards.pkl'), 'wb'))\n",
    "    pickle.dump(test_actions, open(os.path.join('../results/rl',dir,'test_actions.pkl'), 'wb'))\n",
    "    pickle.dump(test_rewards, open(os.path.join('../results/rl',dir,'test_rewards.pkl'), 'wb'))\n",
    "\n",
    "print(\"<< PROCESS COMPELTE >>\")"
   ]
  },
  {
   "cell_type": "code",
   "execution_count": null,
   "id": "6c78fae3",
   "metadata": {},
   "outputs": [
    {
     "name": "stdout",
     "output_type": "stream",
     "text": [
      "BLOOD-REFRIGERATOR\n",
      "Features:  12\n",
      "Hidden Dim:  32\n"
     ]
    },
    {
     "data": {
      "application/vnd.jupyter.widget-view+json": {
       "model_id": "3646097b7bd04046bc6aba8c4e228ece",
       "version_major": 2,
       "version_minor": 0
      },
      "text/plain": [
       "Epochs:   0%|          | 0/1000 [00:00<?, ?it/s]"
      ]
     },
     "metadata": {},
     "output_type": "display_data"
    },
    {
     "data": {
      "application/vnd.jupyter.widget-view+json": {
       "model_id": "e7ca8a9cad8a45d5afa0183d5733c969",
       "version_major": 2,
       "version_minor": 0
      },
      "text/plain": [
       "  0%|          | 0/60166 [00:00<?, ?it/s]"
      ]
     },
     "metadata": {},
     "output_type": "display_data"
    },
    {
     "name": "stdout",
     "output_type": "stream",
     "text": [
      "Date:   2022-11-07  stopped at:  0\n",
      "Date:   2022-11-18  stopped at:  0\n",
      "Date:   2022-11-08  stopped at:  0\n",
      "Date:   2022-11-11  stopped at:  0\n",
      "Date:   2022-11-19  stopped at:  0\n",
      "Date:   2022-11-15  stopped at:  0\n",
      "Date:   2022-11-12  stopped at:  0\n",
      "Date:   2022-11-03  stopped at:  1\n",
      "Date:   2022-11-06  stopped at:  0\n",
      "Date:   2022-11-24  stopped at:  2\n",
      "Date:   2022-10-31  stopped at:  5\n",
      "Date:   2022-11-02  stopped at:  0\n",
      "Date:   2022-11-10  stopped at:  1\n",
      "Date:   2022-11-09  stopped at:  1\n",
      "Date:   2022-11-13  stopped at:  0\n",
      "Date:   2022-11-20  stopped at:  5\n",
      "Date:   2022-11-17  stopped at:  4\n",
      "Date:   2022-11-21  stopped at:  10\n",
      "Date:   2022-11-14  stopped at:  0\n",
      "Date:   2022-11-01  stopped at:  0\n",
      "Date:   2022-11-23  stopped at:  0\n",
      "Date:   2022-11-05  stopped at:  1\n",
      "Date:   2022-11-22  stopped at:  1\n",
      "Date:   2022-11-04  stopped at:  3\n",
      "Date:   2022-11-16  stopped at:  1\n",
      "Date:   2022-11-24  stopped at:  4\n",
      "Date:   2022-11-25  stopped at:  1\n",
      "Date:   2022-11-26  stopped at:  1\n",
      "Date:   2022-11-27  stopped at:  4\n",
      "Date:   2022-11-28  stopped at:  0\n",
      "Date:   2022-11-29  stopped at:  0\n",
      "Date:   2022-11-30  stopped at:  4\n",
      "Better mean reward! Saving...\n"
     ]
    },
    {
     "data": {
      "application/vnd.jupyter.widget-view+json": {
       "model_id": "9722c71f412f4eb093974add5c352158",
       "version_major": 2,
       "version_minor": 0
      },
      "text/plain": [
       "  0%|          | 0/60166 [00:00<?, ?it/s]"
      ]
     },
     "metadata": {},
     "output_type": "display_data"
    },
    {
     "name": "stdout",
     "output_type": "stream",
     "text": [
      "Date:   2022-11-14  stopped at:  0\n",
      "Date:   2022-11-23  stopped at:  1\n",
      "Date:   2022-11-24  stopped at:  0\n",
      "Date:   2022-11-12  stopped at:  0\n",
      "Date:   2022-11-05  stopped at:  9\n",
      "Date:   2022-11-18  stopped at:  4\n",
      "Date:   2022-11-15  stopped at:  5\n",
      "Date:   2022-11-17  stopped at:  1\n",
      "Date:   2022-11-02  stopped at:  1\n",
      "Date:   2022-11-11  stopped at:  0\n",
      "Date:   2022-11-04  stopped at:  0\n",
      "Date:   2022-11-19  stopped at:  0\n",
      "Date:   2022-11-01  stopped at:  1\n",
      "Date:   2022-11-21  stopped at:  0\n",
      "Date:   2022-11-03  stopped at:  0\n",
      "Date:   2022-11-10  stopped at:  1\n",
      "Date:   2022-11-20  stopped at:  0\n",
      "Date:   2022-11-16  stopped at:  0\n",
      "Date:   2022-10-31  stopped at:  0\n",
      "Date:   2022-11-07  stopped at:  5\n",
      "Date:   2022-11-09  stopped at:  0\n",
      "Date:   2022-11-06  stopped at:  1\n",
      "Date:   2022-11-22  stopped at:  0\n",
      "Date:   2022-11-08  stopped at:  0\n",
      "Date:   2022-11-13  stopped at:  1\n",
      "Date:   2022-11-24  stopped at:  9\n",
      "Date:   2022-11-25  stopped at:  4\n",
      "Date:   2022-11-26  stopped at:  0\n",
      "Date:   2022-11-27  stopped at:  1\n",
      "Date:   2022-11-28  stopped at:  1\n",
      "Date:   2022-11-29  stopped at:  0\n",
      "Date:   2022-11-30  stopped at:  3\n",
      "Better mean reward! Saving...\n"
     ]
    },
    {
     "data": {
      "application/vnd.jupyter.widget-view+json": {
       "model_id": "040c72ea0a994828ada168551da3cfc1",
       "version_major": 2,
       "version_minor": 0
      },
      "text/plain": [
       "  0%|          | 0/60166 [00:00<?, ?it/s]"
      ]
     },
     "metadata": {},
     "output_type": "display_data"
    },
    {
     "name": "stdout",
     "output_type": "stream",
     "text": [
      "Date:   2022-11-20  stopped at:  0\n",
      "Date:   2022-10-31  stopped at:  0\n",
      "Date:   2022-11-13  stopped at:  0\n",
      "Date:   2022-11-06  stopped at:  0\n",
      "Date:   2022-11-04  stopped at:  0\n",
      "Date:   2022-11-08  stopped at:  2\n",
      "Date:   2022-11-09  stopped at:  1\n",
      "Date:   2022-11-03  stopped at:  1\n",
      "Date:   2022-11-14  stopped at:  3\n",
      "Date:   2022-11-22  stopped at:  0\n",
      "Date:   2022-11-16  stopped at:  12\n",
      "Date:   2022-11-11  stopped at:  0\n",
      "Date:   2022-11-02  stopped at:  0\n",
      "Date:   2022-11-12  stopped at:  0\n",
      "Date:   2022-11-10  stopped at:  0\n",
      "Date:   2022-11-18  stopped at:  2\n",
      "Date:   2022-11-05  stopped at:  0\n",
      "Date:   2022-11-07  stopped at:  7\n",
      "Date:   2022-11-21  stopped at:  2\n",
      "Date:   2022-11-15  stopped at:  4\n",
      "Date:   2022-11-01  stopped at:  0\n",
      "Date:   2022-11-17  stopped at:  1\n",
      "Date:   2022-11-23  stopped at:  0\n",
      "Date:   2022-11-19  stopped at:  1\n",
      "Date:   2022-11-24  stopped at:  1\n",
      "Date:   2022-11-24  stopped at:  0\n",
      "Date:   2022-11-25  stopped at:  7\n",
      "Date:   2022-11-26  stopped at:  0\n",
      "Date:   2022-11-27  stopped at:  0\n",
      "Date:   2022-11-28  stopped at:  1\n",
      "Date:   2022-11-29  stopped at:  2\n",
      "Date:   2022-11-30  stopped at:  4\n"
     ]
    },
    {
     "data": {
      "application/vnd.jupyter.widget-view+json": {
       "model_id": "0c148493aa2048e394b43540f5787d8e",
       "version_major": 2,
       "version_minor": 0
      },
      "text/plain": [
       "  0%|          | 0/60166 [00:00<?, ?it/s]"
      ]
     },
     "metadata": {},
     "output_type": "display_data"
    },
    {
     "name": "stdout",
     "output_type": "stream",
     "text": [
      "Date:   2022-11-06  stopped at:  1\n",
      "Date:   2022-11-19  stopped at:  0\n",
      "Date:   2022-11-03  stopped at:  1\n",
      "Date:   2022-11-11  stopped at:  3\n",
      "Date:   2022-11-12  stopped at:  2\n",
      "Date:   2022-11-21  stopped at:  0\n",
      "Date:   2022-11-16  stopped at:  0\n",
      "Date:   2022-11-04  stopped at:  2\n",
      "Date:   2022-11-01  stopped at:  1\n",
      "Date:   2022-11-15  stopped at:  2\n",
      "Date:   2022-11-07  stopped at:  1\n",
      "Date:   2022-11-17  stopped at:  0\n",
      "Date:   2022-11-22  stopped at:  0\n",
      "Date:   2022-11-13  stopped at:  3\n",
      "Date:   2022-11-14  stopped at:  0\n",
      "Date:   2022-11-05  stopped at:  2\n",
      "Date:   2022-11-08  stopped at:  5\n",
      "Date:   2022-11-20  stopped at:  0\n",
      "Date:   2022-11-24  stopped at:  0\n",
      "Date:   2022-11-18  stopped at:  0\n",
      "Date:   2022-11-23  stopped at:  4\n",
      "Date:   2022-11-10  stopped at:  2\n",
      "Date:   2022-10-31  stopped at:  1\n",
      "Date:   2022-11-02  stopped at:  1\n",
      "Date:   2022-11-09  stopped at:  0\n",
      "Date:   2022-11-24  stopped at:  9\n",
      "Date:   2022-11-25  stopped at:  7\n",
      "Date:   2022-11-26  stopped at:  1\n",
      "Date:   2022-11-27  stopped at:  1\n",
      "Date:   2022-11-28  stopped at:  1\n",
      "Date:   2022-11-29  stopped at:  0\n",
      "Date:   2022-11-30  stopped at:  0\n",
      "Better mean reward! Saving...\n"
     ]
    },
    {
     "data": {
      "application/vnd.jupyter.widget-view+json": {
       "model_id": "cce17af8eab0471ebce47a375ce0f346",
       "version_major": 2,
       "version_minor": 0
      },
      "text/plain": [
       "  0%|          | 0/60166 [00:00<?, ?it/s]"
      ]
     },
     "metadata": {},
     "output_type": "display_data"
    },
    {
     "name": "stdout",
     "output_type": "stream",
     "text": [
      "Date:   2022-11-14  stopped at:  10\n",
      "Date:   2022-11-16  stopped at:  0\n",
      "Date:   2022-11-09  stopped at:  0\n",
      "Date:   2022-11-21  stopped at:  1\n",
      "Date:   2022-11-13  stopped at:  2\n",
      "Date:   2022-11-23  stopped at:  1\n",
      "Date:   2022-11-01  stopped at:  0\n",
      "Date:   2022-11-15  stopped at:  0\n",
      "Date:   2022-10-31  stopped at:  0\n",
      "Date:   2022-11-05  stopped at:  1\n",
      "Date:   2022-11-17  stopped at:  0\n",
      "Date:   2022-11-19  stopped at:  2\n",
      "Date:   2022-11-04  stopped at:  2\n",
      "Date:   2022-11-12  stopped at:  3\n",
      "Date:   2022-11-11  stopped at:  1\n",
      "Date:   2022-11-03  stopped at:  0\n",
      "Date:   2022-11-10  stopped at:  2\n",
      "Date:   2022-11-08  stopped at:  4\n",
      "Date:   2022-11-22  stopped at:  0\n",
      "Date:   2022-11-07  stopped at:  8\n",
      "Date:   2022-11-02  stopped at:  1\n",
      "Date:   2022-11-06  stopped at:  5\n",
      "Date:   2022-11-24  stopped at:  0\n",
      "Date:   2022-11-20  stopped at:  10\n",
      "Date:   2022-11-18  stopped at:  0\n",
      "Date:   2022-11-24  stopped at:  1\n",
      "Date:   2022-11-25  stopped at:  1\n",
      "Date:   2022-11-26  stopped at:  1\n",
      "Date:   2022-11-27  stopped at:  0\n",
      "Date:   2022-11-28  stopped at:  0\n",
      "Date:   2022-11-29  stopped at:  1\n",
      "Date:   2022-11-30  stopped at:  2\n"
     ]
    },
    {
     "data": {
      "application/vnd.jupyter.widget-view+json": {
       "model_id": "8b57d33935b14c9683f74b18853ebc5c",
       "version_major": 2,
       "version_minor": 0
      },
      "text/plain": [
       "  0%|          | 0/60166 [00:00<?, ?it/s]"
      ]
     },
     "metadata": {},
     "output_type": "display_data"
    },
    {
     "name": "stdout",
     "output_type": "stream",
     "text": [
      "Date:   2022-11-19  stopped at:  14\n",
      "Date:   2022-11-17  stopped at:  1\n",
      "Date:   2022-11-11  stopped at:  2\n",
      "Date:   2022-11-09  stopped at:  0\n",
      "Date:   2022-11-07  stopped at:  0\n",
      "Date:   2022-11-06  stopped at:  2\n",
      "Date:   2022-11-13  stopped at:  4\n",
      "Date:   2022-10-31  stopped at:  1\n",
      "Date:   2022-11-08  stopped at:  8\n",
      "Date:   2022-11-03  stopped at:  5\n",
      "Date:   2022-11-04  stopped at:  0\n",
      "Date:   2022-11-16  stopped at:  1\n",
      "Date:   2022-11-12  stopped at:  0\n",
      "Date:   2022-11-21  stopped at:  1\n",
      "Date:   2022-11-01  stopped at:  2\n",
      "Date:   2022-11-22  stopped at:  1\n",
      "Date:   2022-11-10  stopped at:  6\n",
      "Date:   2022-11-15  stopped at:  1\n",
      "Date:   2022-11-14  stopped at:  0\n",
      "Date:   2022-11-20  stopped at:  2\n",
      "Date:   2022-11-02  stopped at:  0\n",
      "Date:   2022-11-24  stopped at:  3\n",
      "Date:   2022-11-18  stopped at:  0\n",
      "Date:   2022-11-05  stopped at:  0\n",
      "Date:   2022-11-23  stopped at:  6\n",
      "Date:   2022-11-24  stopped at:  19\n",
      "Date:   2022-11-25  stopped at:  0\n",
      "Date:   2022-11-26  stopped at:  3\n",
      "Date:   2022-11-27  stopped at:  1\n",
      "Date:   2022-11-28  stopped at:  0\n",
      "Date:   2022-11-29  stopped at:  1\n",
      "Date:   2022-11-30  stopped at:  5\n",
      "Better mean reward! Saving...\n"
     ]
    },
    {
     "data": {
      "application/vnd.jupyter.widget-view+json": {
       "model_id": "df3406cd809c4ae3925b161f66992d5d",
       "version_major": 2,
       "version_minor": 0
      },
      "text/plain": [
       "  0%|          | 0/60166 [00:00<?, ?it/s]"
      ]
     },
     "metadata": {},
     "output_type": "display_data"
    },
    {
     "name": "stdout",
     "output_type": "stream",
     "text": [
      "Date:   2022-11-09  stopped at:  3\n",
      "Date:   2022-11-12  stopped at:  11\n",
      "Date:   2022-11-22  stopped at:  3\n",
      "Date:   2022-11-06  stopped at:  0\n",
      "Date:   2022-10-31  stopped at:  0\n",
      "Date:   2022-11-16  stopped at:  5\n",
      "Date:   2022-11-21  stopped at:  0\n",
      "Date:   2022-11-13  stopped at:  4\n",
      "Date:   2022-11-17  stopped at:  4\n",
      "Date:   2022-11-18  stopped at:  0\n",
      "Date:   2022-11-20  stopped at:  3\n",
      "Date:   2022-11-03  stopped at:  1\n",
      "Date:   2022-11-01  stopped at:  0\n",
      "Date:   2022-11-08  stopped at:  10\n",
      "Date:   2022-11-24  stopped at:  0\n",
      "Date:   2022-11-07  stopped at:  4\n",
      "Date:   2022-11-05  stopped at:  0\n",
      "Date:   2022-11-14  stopped at:  2\n",
      "Date:   2022-11-19  stopped at:  0\n",
      "Date:   2022-11-15  stopped at:  1\n",
      "Date:   2022-11-10  stopped at:  0\n",
      "Date:   2022-11-02  stopped at:  1\n",
      "Date:   2022-11-04  stopped at:  1\n",
      "Date:   2022-11-11  stopped at:  5\n",
      "Date:   2022-11-23  stopped at:  9\n",
      "Date:   2022-11-24  stopped at:  0\n",
      "Date:   2022-11-25  stopped at:  1\n",
      "Date:   2022-11-26  stopped at:  0\n",
      "Date:   2022-11-27  stopped at:  0\n",
      "Date:   2022-11-28  stopped at:  3\n",
      "Date:   2022-11-29  stopped at:  7\n",
      "Date:   2022-11-30  stopped at:  1\n"
     ]
    },
    {
     "data": {
      "application/vnd.jupyter.widget-view+json": {
       "model_id": "cb4bc42692904e8098f350d4e4157e14",
       "version_major": 2,
       "version_minor": 0
      },
      "text/plain": [
       "  0%|          | 0/60166 [00:00<?, ?it/s]"
      ]
     },
     "metadata": {},
     "output_type": "display_data"
    },
    {
     "name": "stdout",
     "output_type": "stream",
     "text": [
      "Date:   2022-11-13  stopped at:  5\n",
      "Date:   2022-11-12  stopped at:  8\n",
      "Date:   2022-11-17  stopped at:  3\n",
      "Date:   2022-11-19  stopped at:  0\n",
      "Date:   2022-11-23  stopped at:  0\n",
      "Date:   2022-11-16  stopped at:  2\n",
      "Date:   2022-11-02  stopped at:  0\n",
      "Date:   2022-11-11  stopped at:  1\n",
      "Date:   2022-11-21  stopped at:  2\n",
      "Date:   2022-11-10  stopped at:  1\n",
      "Date:   2022-11-08  stopped at:  20\n",
      "Date:   2022-11-09  stopped at:  0\n",
      "Date:   2022-11-07  stopped at:  1\n",
      "Date:   2022-11-18  stopped at:  2\n",
      "Date:   2022-11-06  stopped at:  8\n",
      "Date:   2022-11-03  stopped at:  3\n",
      "Date:   2022-10-31  stopped at:  5\n",
      "Date:   2022-11-20  stopped at:  2\n",
      "Date:   2022-11-04  stopped at:  0\n",
      "Date:   2022-11-15  stopped at:  2\n",
      "Date:   2022-11-24  stopped at:  1\n",
      "Date:   2022-11-01  stopped at:  0\n",
      "Date:   2022-11-14  stopped at:  3\n",
      "Date:   2022-11-22  stopped at:  0\n",
      "Date:   2022-11-05  stopped at:  0\n",
      "Date:   2022-11-24  stopped at:  6\n",
      "Date:   2022-11-25  stopped at:  4\n",
      "Date:   2022-11-26  stopped at:  0\n",
      "Date:   2022-11-27  stopped at:  0\n",
      "Date:   2022-11-28  stopped at:  2\n",
      "Date:   2022-11-29  stopped at:  4\n",
      "Date:   2022-11-30  stopped at:  1\n"
     ]
    },
    {
     "data": {
      "application/vnd.jupyter.widget-view+json": {
       "model_id": "fc524c9a395b487681d7d16ef8674632",
       "version_major": 2,
       "version_minor": 0
      },
      "text/plain": [
       "  0%|          | 0/60166 [00:00<?, ?it/s]"
      ]
     },
     "metadata": {},
     "output_type": "display_data"
    },
    {
     "name": "stdout",
     "output_type": "stream",
     "text": [
      "Date:   2022-11-18  stopped at:  6\n",
      "Date:   2022-11-19  stopped at:  1\n",
      "Date:   2022-11-09  stopped at:  1\n",
      "Date:   2022-11-11  stopped at:  34\n",
      "Date:   2022-11-06  stopped at:  3\n",
      "Date:   2022-11-04  stopped at:  0\n",
      "Date:   2022-11-17  stopped at:  1\n",
      "Date:   2022-11-12  stopped at:  3\n",
      "Date:   2022-11-03  stopped at:  4\n",
      "Date:   2022-11-22  stopped at:  3\n",
      "Date:   2022-11-01  stopped at:  3\n",
      "Date:   2022-11-02  stopped at:  0\n",
      "Date:   2022-10-31  stopped at:  11\n",
      "Date:   2022-11-05  stopped at:  1\n",
      "Date:   2022-11-15  stopped at:  0\n",
      "Date:   2022-11-07  stopped at:  5\n",
      "Date:   2022-11-20  stopped at:  3\n",
      "Date:   2022-11-21  stopped at:  5\n",
      "Date:   2022-11-10  stopped at:  2\n",
      "Date:   2022-11-08  stopped at:  9\n",
      "Date:   2022-11-16  stopped at:  1\n",
      "Date:   2022-11-13  stopped at:  0\n",
      "Date:   2022-11-23  stopped at:  0\n",
      "Date:   2022-11-14  stopped at:  1\n",
      "Date:   2022-11-24  stopped at:  1\n",
      "Date:   2022-11-24  stopped at:  3\n",
      "Date:   2022-11-25  stopped at:  0\n",
      "Date:   2022-11-26  stopped at:  1\n",
      "Date:   2022-11-27  stopped at:  0\n",
      "Date:   2022-11-28  stopped at:  0\n",
      "Date:   2022-11-29  stopped at:  1\n",
      "Date:   2022-11-30  stopped at:  4\n"
     ]
    },
    {
     "data": {
      "application/vnd.jupyter.widget-view+json": {
       "model_id": "7d8acb99b68b4171ad70583e4f11b4e2",
       "version_major": 2,
       "version_minor": 0
      },
      "text/plain": [
       "  0%|          | 0/60166 [00:00<?, ?it/s]"
      ]
     },
     "metadata": {},
     "output_type": "display_data"
    },
    {
     "name": "stdout",
     "output_type": "stream",
     "text": [
      "Date:   2022-11-13  stopped at:  4\n",
      "Date:   2022-11-09  stopped at:  4\n",
      "Date:   2022-11-16  stopped at:  5\n",
      "Date:   2022-11-24  stopped at:  4\n",
      "Date:   2022-11-12  stopped at:  10\n",
      "Date:   2022-11-18  stopped at:  4\n",
      "Date:   2022-11-20  stopped at:  4\n",
      "Date:   2022-10-31  stopped at:  0\n",
      "Date:   2022-11-22  stopped at:  4\n",
      "Date:   2022-11-14  stopped at:  0\n",
      "Date:   2022-11-06  stopped at:  0\n",
      "Date:   2022-11-08  stopped at:  32\n",
      "Date:   2022-11-07  stopped at:  6\n",
      "Date:   2022-11-03  stopped at:  0\n",
      "Date:   2022-11-01  stopped at:  0\n",
      "Date:   2022-11-23  stopped at:  2\n",
      "Date:   2022-11-11  stopped at:  25\n",
      "Date:   2022-11-02  stopped at:  5\n",
      "Date:   2022-11-19  stopped at:  1\n",
      "Date:   2022-11-04  stopped at:  0\n",
      "Date:   2022-11-17  stopped at:  0\n",
      "Date:   2022-11-21  stopped at:  2\n",
      "Date:   2022-11-15  stopped at:  0\n",
      "Date:   2022-11-05  stopped at:  1\n",
      "Date:   2022-11-10  stopped at:  1\n",
      "Date:   2022-11-24  stopped at:  4\n",
      "Date:   2022-11-25  stopped at:  1\n",
      "Date:   2022-11-26  stopped at:  1\n",
      "Date:   2022-11-27  stopped at:  0\n",
      "Date:   2022-11-28  stopped at:  2\n",
      "Date:   2022-11-29  stopped at:  6\n",
      "Date:   2022-11-30  stopped at:  0\n"
     ]
    },
    {
     "data": {
      "application/vnd.jupyter.widget-view+json": {
       "model_id": "8bdcd62c2ca044faa7bfd78c807faaff",
       "version_major": 2,
       "version_minor": 0
      },
      "text/plain": [
       "  0%|          | 0/60166 [00:00<?, ?it/s]"
      ]
     },
     "metadata": {},
     "output_type": "display_data"
    },
    {
     "name": "stdout",
     "output_type": "stream",
     "text": [
      "Date:   2022-11-03  stopped at:  2\n",
      "Date:   2022-11-10  stopped at:  5\n",
      "Date:   2022-11-20  stopped at:  1\n",
      "Date:   2022-11-15  stopped at:  5\n",
      "Date:   2022-11-11  stopped at:  0\n",
      "Date:   2022-11-04  stopped at:  0\n",
      "Date:   2022-11-08  stopped at:  2\n",
      "Date:   2022-11-21  stopped at:  0\n",
      "Date:   2022-11-07  stopped at:  6\n",
      "Date:   2022-11-17  stopped at:  0\n",
      "Date:   2022-11-02  stopped at:  0\n",
      "Date:   2022-11-22  stopped at:  0\n",
      "Date:   2022-11-05  stopped at:  1\n",
      "Date:   2022-11-09  stopped at:  2\n",
      "Date:   2022-11-19  stopped at:  0\n",
      "Date:   2022-10-31  stopped at:  0\n",
      "Date:   2022-11-24  stopped at:  2\n",
      "Date:   2022-11-18  stopped at:  5\n",
      "Date:   2022-11-14  stopped at:  1\n",
      "Date:   2022-11-01  stopped at:  4\n",
      "Date:   2022-11-06  stopped at:  1\n",
      "Date:   2022-11-12  stopped at:  0\n",
      "Date:   2022-11-16  stopped at:  5\n",
      "Date:   2022-11-13  stopped at:  0\n",
      "Date:   2022-11-23  stopped at:  3\n",
      "Date:   2022-11-24  stopped at:  7\n",
      "Date:   2022-11-25  stopped at:  23\n",
      "Date:   2022-11-26  stopped at:  0\n",
      "Date:   2022-11-27  stopped at:  0\n",
      "Date:   2022-11-28  stopped at:  4\n",
      "Date:   2022-11-29  stopped at:  1\n",
      "Date:   2022-11-30  stopped at:  2\n",
      "Better mean reward! Saving...\n"
     ]
    },
    {
     "data": {
      "application/vnd.jupyter.widget-view+json": {
       "model_id": "2432bd6bcf5d4d1389356f729e41e13c",
       "version_major": 2,
       "version_minor": 0
      },
      "text/plain": [
       "  0%|          | 0/60166 [00:00<?, ?it/s]"
      ]
     },
     "metadata": {},
     "output_type": "display_data"
    },
    {
     "name": "stdout",
     "output_type": "stream",
     "text": [
      "Date:   2022-11-15  stopped at:  1\n",
      "Date:   2022-11-07  stopped at:  1\n",
      "Date:   2022-11-13  stopped at:  3\n",
      "Date:   2022-11-02  stopped at:  0\n",
      "Date:   2022-11-23  stopped at:  1\n",
      "Date:   2022-11-22  stopped at:  5\n",
      "Date:   2022-11-10  stopped at:  0\n",
      "Date:   2022-11-08  stopped at:  10\n",
      "Date:   2022-11-12  stopped at:  3\n",
      "Date:   2022-11-05  stopped at:  1\n",
      "Date:   2022-11-24  stopped at:  1\n",
      "Date:   2022-11-17  stopped at:  3\n",
      "Date:   2022-11-03  stopped at:  1\n",
      "Date:   2022-11-06  stopped at:  0\n",
      "Date:   2022-11-09  stopped at:  2\n",
      "Date:   2022-10-31  stopped at:  4\n",
      "Date:   2022-11-20  stopped at:  2\n",
      "Date:   2022-11-21  stopped at:  2\n",
      "Date:   2022-11-04  stopped at:  1\n",
      "Date:   2022-11-14  stopped at:  0\n",
      "Date:   2022-11-18  stopped at:  5\n",
      "Date:   2022-11-16  stopped at:  5\n",
      "Date:   2022-11-19  stopped at:  3\n",
      "Date:   2022-11-11  stopped at:  14\n",
      "Date:   2022-11-01  stopped at:  1\n",
      "Date:   2022-11-24  stopped at:  3\n",
      "Date:   2022-11-25  stopped at:  3\n",
      "Date:   2022-11-26  stopped at:  1\n",
      "Date:   2022-11-27  stopped at:  0\n",
      "Date:   2022-11-28  stopped at:  0\n",
      "Date:   2022-11-29  stopped at:  5\n",
      "Date:   2022-11-30  stopped at:  1\n"
     ]
    },
    {
     "data": {
      "application/vnd.jupyter.widget-view+json": {
       "model_id": "ab577aab7cb84510a4cbd130fcc6050c",
       "version_major": 2,
       "version_minor": 0
      },
      "text/plain": [
       "  0%|          | 0/60166 [00:00<?, ?it/s]"
      ]
     },
     "metadata": {},
     "output_type": "display_data"
    },
    {
     "name": "stdout",
     "output_type": "stream",
     "text": [
      "Date:   2022-11-23  stopped at:  10\n",
      "Date:   2022-11-15  stopped at:  1\n",
      "Date:   2022-11-03  stopped at:  0\n",
      "Date:   2022-11-10  stopped at:  4\n",
      "Date:   2022-11-02  stopped at:  0\n",
      "Date:   2022-11-09  stopped at:  1\n",
      "Date:   2022-11-13  stopped at:  8\n",
      "Date:   2022-11-06  stopped at:  11\n",
      "Date:   2022-11-22  stopped at:  1\n",
      "Date:   2022-11-20  stopped at:  1\n",
      "Date:   2022-11-12  stopped at:  1\n",
      "Date:   2022-11-24  stopped at:  1\n",
      "Date:   2022-11-19  stopped at:  1\n",
      "Date:   2022-11-14  stopped at:  1\n",
      "Date:   2022-11-04  stopped at:  0\n",
      "Date:   2022-11-08  stopped at:  1\n",
      "Date:   2022-11-21  stopped at:  3\n",
      "Date:   2022-11-18  stopped at:  1\n",
      "Date:   2022-10-31  stopped at:  6\n",
      "Date:   2022-11-17  stopped at:  2\n",
      "Date:   2022-11-05  stopped at:  0\n",
      "Date:   2022-11-11  stopped at:  2\n",
      "Date:   2022-11-16  stopped at:  2\n",
      "Date:   2022-11-01  stopped at:  0\n",
      "Date:   2022-11-07  stopped at:  0\n",
      "Date:   2022-11-24  stopped at:  4\n",
      "Date:   2022-11-25  stopped at:  2\n",
      "Date:   2022-11-26  stopped at:  0\n",
      "Date:   2022-11-27  stopped at:  0\n",
      "Date:   2022-11-28  stopped at:  0\n",
      "Date:   2022-11-29  stopped at:  1\n",
      "Date:   2022-11-30  stopped at:  0\n"
     ]
    },
    {
     "data": {
      "application/vnd.jupyter.widget-view+json": {
       "model_id": "dbce805d10b24b53a5f72c164c14dc1e",
       "version_major": 2,
       "version_minor": 0
      },
      "text/plain": [
       "  0%|          | 0/60166 [00:00<?, ?it/s]"
      ]
     },
     "metadata": {},
     "output_type": "display_data"
    },
    {
     "name": "stdout",
     "output_type": "stream",
     "text": [
      "Date:   2022-11-06  stopped at:  3\n",
      "Date:   2022-11-05  stopped at:  3\n",
      "Date:   2022-11-21  stopped at:  0\n",
      "Date:   2022-11-11  stopped at:  7\n",
      "Date:   2022-11-24  stopped at:  2\n",
      "Date:   2022-11-13  stopped at:  2\n",
      "Date:   2022-11-07  stopped at:  1\n",
      "Date:   2022-11-18  stopped at:  4\n",
      "Date:   2022-11-14  stopped at:  4\n",
      "Date:   2022-11-04  stopped at:  3\n",
      "Date:   2022-11-19  stopped at:  0\n",
      "Date:   2022-11-09  stopped at:  1\n",
      "Date:   2022-11-16  stopped at:  1\n",
      "Date:   2022-11-22  stopped at:  0\n",
      "Date:   2022-10-31  stopped at:  4\n",
      "Date:   2022-11-03  stopped at:  1\n",
      "Date:   2022-11-23  stopped at:  0\n",
      "Date:   2022-11-08  stopped at:  2\n",
      "Date:   2022-11-17  stopped at:  2\n",
      "Date:   2022-11-10  stopped at:  1\n",
      "Date:   2022-11-01  stopped at:  5\n",
      "Date:   2022-11-15  stopped at:  6\n",
      "Date:   2022-11-02  stopped at:  2\n",
      "Date:   2022-11-20  stopped at:  0\n",
      "Date:   2022-11-12  stopped at:  11\n",
      "Date:   2022-11-24  stopped at:  4\n",
      "Date:   2022-11-25  stopped at:  1\n",
      "Date:   2022-11-26  stopped at:  4\n",
      "Date:   2022-11-27  stopped at:  4\n",
      "Date:   2022-11-28  stopped at:  5\n",
      "Date:   2022-11-29  stopped at:  0\n",
      "Date:   2022-11-30  stopped at:  4\n"
     ]
    },
    {
     "data": {
      "application/vnd.jupyter.widget-view+json": {
       "model_id": "03c2067f12de4480a2b29a1107d28841",
       "version_major": 2,
       "version_minor": 0
      },
      "text/plain": [
       "  0%|          | 0/60166 [00:00<?, ?it/s]"
      ]
     },
     "metadata": {},
     "output_type": "display_data"
    },
    {
     "name": "stdout",
     "output_type": "stream",
     "text": [
      "Date:   2022-11-17  stopped at:  2\n",
      "Date:   2022-11-10  stopped at:  4\n",
      "Date:   2022-11-19  stopped at:  2\n",
      "Date:   2022-11-02  stopped at:  0\n",
      "Date:   2022-11-24  stopped at:  0\n",
      "Date:   2022-11-06  stopped at:  6\n",
      "Date:   2022-11-04  stopped at:  0\n",
      "Date:   2022-11-16  stopped at:  0\n",
      "Date:   2022-11-05  stopped at:  0\n",
      "Date:   2022-11-23  stopped at:  1\n",
      "Date:   2022-11-15  stopped at:  2\n",
      "Date:   2022-11-09  stopped at:  2\n",
      "Date:   2022-11-14  stopped at:  0\n",
      "Date:   2022-11-12  stopped at:  2\n",
      "Date:   2022-11-21  stopped at:  6\n",
      "Date:   2022-11-07  stopped at:  5\n",
      "Date:   2022-11-03  stopped at:  1\n",
      "Date:   2022-11-22  stopped at:  1\n",
      "Date:   2022-11-20  stopped at:  1\n",
      "Date:   2022-11-11  stopped at:  9\n",
      "Date:   2022-11-13  stopped at:  3\n",
      "Date:   2022-10-31  stopped at:  0\n",
      "Date:   2022-11-08  stopped at:  6\n",
      "Date:   2022-11-18  stopped at:  0\n",
      "Date:   2022-11-01  stopped at:  0\n",
      "Date:   2022-11-24  stopped at:  7\n",
      "Date:   2022-11-25  stopped at:  0\n",
      "Date:   2022-11-26  stopped at:  0\n",
      "Date:   2022-11-27  stopped at:  0\n",
      "Date:   2022-11-28  stopped at:  1\n",
      "Date:   2022-11-29  stopped at:  2\n",
      "Date:   2022-11-30  stopped at:  9\n"
     ]
    },
    {
     "data": {
      "application/vnd.jupyter.widget-view+json": {
       "model_id": "10d5860fd48f4f0bafc4646b75d7fa2d",
       "version_major": 2,
       "version_minor": 0
      },
      "text/plain": [
       "  0%|          | 0/60166 [00:00<?, ?it/s]"
      ]
     },
     "metadata": {},
     "output_type": "display_data"
    },
    {
     "name": "stdout",
     "output_type": "stream",
     "text": [
      "Date:   2022-11-20  stopped at:  2\n",
      "Date:   2022-11-18  stopped at:  0\n",
      "Date:   2022-11-11  stopped at:  40\n",
      "Date:   2022-11-17  stopped at:  3\n",
      "Date:   2022-11-06  stopped at:  0\n",
      "Date:   2022-11-04  stopped at:  1\n",
      "Date:   2022-11-24  stopped at:  2\n",
      "Date:   2022-11-16  stopped at:  5\n",
      "Date:   2022-11-07  stopped at:  0\n",
      "Date:   2022-11-09  stopped at:  3\n",
      "Date:   2022-11-01  stopped at:  1\n",
      "Date:   2022-11-02  stopped at:  3\n",
      "Date:   2022-11-22  stopped at:  0\n",
      "Date:   2022-11-13  stopped at:  0\n",
      "Date:   2022-11-05  stopped at:  4\n",
      "Date:   2022-11-19  stopped at:  5\n",
      "Date:   2022-10-31  stopped at:  0\n",
      "Date:   2022-11-23  stopped at:  2\n",
      "Date:   2022-11-12  stopped at:  1\n",
      "Date:   2022-11-08  stopped at:  11\n",
      "Date:   2022-11-14  stopped at:  4\n",
      "Date:   2022-11-21  stopped at:  1\n",
      "Date:   2022-11-03  stopped at:  0\n",
      "Date:   2022-11-15  stopped at:  0\n",
      "Date:   2022-11-10  stopped at:  1\n",
      "Date:   2022-11-24  stopped at:  3\n",
      "Date:   2022-11-25  stopped at:  3\n",
      "Date:   2022-11-26  stopped at:  0\n",
      "Date:   2022-11-27  stopped at:  1\n",
      "Date:   2022-11-28  stopped at:  2\n",
      "Date:   2022-11-29  stopped at:  0\n",
      "Date:   2022-11-30  stopped at:  0\n"
     ]
    },
    {
     "data": {
      "application/vnd.jupyter.widget-view+json": {
       "model_id": "56d321e4a74b4d90b614c630ad887bb9",
       "version_major": 2,
       "version_minor": 0
      },
      "text/plain": [
       "  0%|          | 0/60166 [00:00<?, ?it/s]"
      ]
     },
     "metadata": {},
     "output_type": "display_data"
    },
    {
     "name": "stdout",
     "output_type": "stream",
     "text": [
      "Date:   2022-11-01  stopped at:  1\n",
      "Date:   2022-11-02  stopped at:  2\n",
      "Date:   2022-11-14  stopped at:  5\n",
      "Date:   2022-11-17  stopped at:  1\n",
      "Date:   2022-11-06  stopped at:  6\n",
      "Date:   2022-11-20  stopped at:  0\n",
      "Date:   2022-11-04  stopped at:  1\n",
      "Date:   2022-11-22  stopped at:  6\n",
      "Date:   2022-11-19  stopped at:  2\n",
      "Date:   2022-11-18  stopped at:  3\n",
      "Date:   2022-11-24  stopped at:  0\n",
      "Date:   2022-11-11  stopped at:  2\n",
      "Date:   2022-11-23  stopped at:  5\n",
      "Date:   2022-10-31  stopped at:  1\n",
      "Date:   2022-11-09  stopped at:  3\n",
      "Date:   2022-11-13  stopped at:  14\n",
      "Date:   2022-11-08  stopped at:  6\n",
      "Date:   2022-11-07  stopped at:  0\n",
      "Date:   2022-11-03  stopped at:  1\n",
      "Date:   2022-11-21  stopped at:  1\n",
      "Date:   2022-11-10  stopped at:  2\n",
      "Date:   2022-11-16  stopped at:  8\n",
      "Date:   2022-11-05  stopped at:  0\n",
      "Date:   2022-11-12  stopped at:  6\n",
      "Date:   2022-11-15  stopped at:  5\n",
      "Date:   2022-11-24  stopped at:  2\n",
      "Date:   2022-11-25  stopped at:  12\n",
      "Date:   2022-11-26  stopped at:  0\n",
      "Date:   2022-11-27  stopped at:  4\n",
      "Date:   2022-11-28  stopped at:  7\n",
      "Date:   2022-11-29  stopped at:  0\n",
      "Date:   2022-11-30  stopped at:  3\n"
     ]
    },
    {
     "data": {
      "application/vnd.jupyter.widget-view+json": {
       "model_id": "b79cb5c869134c7f925410151148e79a",
       "version_major": 2,
       "version_minor": 0
      },
      "text/plain": [
       "  0%|          | 0/60166 [00:00<?, ?it/s]"
      ]
     },
     "metadata": {},
     "output_type": "display_data"
    },
    {
     "name": "stdout",
     "output_type": "stream",
     "text": [
      "Date:   2022-11-11  stopped at:  24\n",
      "Date:   2022-11-10  stopped at:  9\n",
      "Date:   2022-11-05  stopped at:  1\n",
      "Date:   2022-11-17  stopped at:  0\n",
      "Date:   2022-11-21  stopped at:  2\n",
      "Date:   2022-11-01  stopped at:  0\n",
      "Date:   2022-11-19  stopped at:  2\n",
      "Date:   2022-11-22  stopped at:  6\n",
      "Date:   2022-11-07  stopped at:  3\n",
      "Date:   2022-11-23  stopped at:  2\n",
      "Date:   2022-11-15  stopped at:  2\n",
      "Date:   2022-11-16  stopped at:  0\n",
      "Date:   2022-11-24  stopped at:  3\n",
      "Date:   2022-11-06  stopped at:  3\n",
      "Date:   2022-11-20  stopped at:  4\n",
      "Date:   2022-11-08  stopped at:  4\n",
      "Date:   2022-11-09  stopped at:  1\n",
      "Date:   2022-11-04  stopped at:  0\n",
      "Date:   2022-11-02  stopped at:  3\n",
      "Date:   2022-11-03  stopped at:  1\n",
      "Date:   2022-10-31  stopped at:  0\n",
      "Date:   2022-11-18  stopped at:  2\n",
      "Date:   2022-11-13  stopped at:  8\n",
      "Date:   2022-11-12  stopped at:  2\n",
      "Date:   2022-11-14  stopped at:  4\n",
      "Date:   2022-11-24  stopped at:  30\n",
      "Date:   2022-11-25  stopped at:  3\n",
      "Date:   2022-11-26  stopped at:  4\n",
      "Date:   2022-11-27  stopped at:  3\n",
      "Date:   2022-11-28  stopped at:  2\n",
      "Date:   2022-11-29  stopped at:  3\n",
      "Date:   2022-11-30  stopped at:  1\n",
      "Better mean reward! Saving...\n"
     ]
    },
    {
     "data": {
      "application/vnd.jupyter.widget-view+json": {
       "model_id": "45648a5767bc474dbe8c04ca0467e1d8",
       "version_major": 2,
       "version_minor": 0
      },
      "text/plain": [
       "  0%|          | 0/60166 [00:00<?, ?it/s]"
      ]
     },
     "metadata": {},
     "output_type": "display_data"
    },
    {
     "name": "stdout",
     "output_type": "stream",
     "text": [
      "Date:   2022-11-18  stopped at:  3\n",
      "Date:   2022-11-07  stopped at:  3\n",
      "Date:   2022-11-02  stopped at:  15\n",
      "Date:   2022-11-04  stopped at:  0\n",
      "Date:   2022-11-20  stopped at:  1\n",
      "Date:   2022-11-12  stopped at:  2\n",
      "Date:   2022-11-19  stopped at:  0\n",
      "Date:   2022-11-13  stopped at:  5\n",
      "Date:   2022-10-31  stopped at:  1\n",
      "Date:   2022-11-23  stopped at:  0\n",
      "Date:   2022-11-05  stopped at:  0\n",
      "Date:   2022-11-24  stopped at:  2\n",
      "Date:   2022-11-03  stopped at:  2\n",
      "Date:   2022-11-01  stopped at:  5\n",
      "Date:   2022-11-17  stopped at:  1\n",
      "Date:   2022-11-11  stopped at:  4\n",
      "Date:   2022-11-06  stopped at:  4\n",
      "Date:   2022-11-22  stopped at:  0\n",
      "Date:   2022-11-16  stopped at:  9\n",
      "Date:   2022-11-15  stopped at:  9\n",
      "Date:   2022-11-09  stopped at:  2\n",
      "Date:   2022-11-08  stopped at:  9\n",
      "Date:   2022-11-10  stopped at:  7\n",
      "Date:   2022-11-14  stopped at:  0\n",
      "Date:   2022-11-21  stopped at:  1\n",
      "Date:   2022-11-24  stopped at:  12\n",
      "Date:   2022-11-25  stopped at:  14\n",
      "Date:   2022-11-26  stopped at:  2\n",
      "Date:   2022-11-27  stopped at:  2\n",
      "Date:   2022-11-28  stopped at:  3\n",
      "Date:   2022-11-29  stopped at:  7\n",
      "Date:   2022-11-30  stopped at:  2\n"
     ]
    },
    {
     "data": {
      "application/vnd.jupyter.widget-view+json": {
       "model_id": "ad7721d0588d4127948fbb0ef96ed72f",
       "version_major": 2,
       "version_minor": 0
      },
      "text/plain": [
       "  0%|          | 0/60166 [00:00<?, ?it/s]"
      ]
     },
     "metadata": {},
     "output_type": "display_data"
    },
    {
     "name": "stdout",
     "output_type": "stream",
     "text": [
      "Date:   2022-11-13  stopped at:  10\n",
      "Date:   2022-11-01  stopped at:  0\n",
      "Date:   2022-11-08  stopped at:  0\n",
      "Date:   2022-11-17  stopped at:  8\n",
      "Date:   2022-11-16  stopped at:  0\n",
      "Date:   2022-11-12  stopped at:  1\n",
      "Date:   2022-11-23  stopped at:  5\n",
      "Date:   2022-11-09  stopped at:  9\n",
      "Date:   2022-11-21  stopped at:  3\n",
      "Date:   2022-11-05  stopped at:  3\n",
      "Date:   2022-10-31  stopped at:  0\n",
      "Date:   2022-11-22  stopped at:  3\n",
      "Date:   2022-11-10  stopped at:  1\n",
      "Date:   2022-11-02  stopped at:  4\n",
      "Date:   2022-11-06  stopped at:  4\n",
      "Date:   2022-11-11  stopped at:  11\n",
      "Date:   2022-11-20  stopped at:  0\n",
      "Date:   2022-11-19  stopped at:  4\n",
      "Date:   2022-11-04  stopped at:  4\n",
      "Date:   2022-11-07  stopped at:  6\n",
      "Date:   2022-11-14  stopped at:  4\n",
      "Date:   2022-11-15  stopped at:  7\n",
      "Date:   2022-11-03  stopped at:  8\n",
      "Date:   2022-11-18  stopped at:  1\n",
      "Date:   2022-11-24  stopped at:  2\n",
      "Date:   2022-11-24  stopped at:  17\n",
      "Date:   2022-11-25  stopped at:  13\n",
      "Date:   2022-11-26  stopped at:  0\n",
      "Date:   2022-11-27  stopped at:  1\n",
      "Date:   2022-11-28  stopped at:  4\n",
      "Date:   2022-11-29  stopped at:  1\n",
      "Date:   2022-11-30  stopped at:  6\n"
     ]
    },
    {
     "data": {
      "application/vnd.jupyter.widget-view+json": {
       "model_id": "eb1f86a536434b3fb3153be0b594327b",
       "version_major": 2,
       "version_minor": 0
      },
      "text/plain": [
       "  0%|          | 0/60166 [00:00<?, ?it/s]"
      ]
     },
     "metadata": {},
     "output_type": "display_data"
    },
    {
     "name": "stdout",
     "output_type": "stream",
     "text": [
      "Date:   2022-11-12  stopped at:  1\n",
      "Date:   2022-11-20  stopped at:  2\n",
      "Date:   2022-11-17  stopped at:  1\n",
      "Date:   2022-11-22  stopped at:  5\n",
      "Date:   2022-11-15  stopped at:  2\n",
      "Date:   2022-11-23  stopped at:  0\n",
      "Date:   2022-11-11  stopped at:  0\n",
      "Date:   2022-11-21  stopped at:  5\n",
      "Date:   2022-11-24  stopped at:  0\n",
      "Date:   2022-11-09  stopped at:  1\n",
      "Date:   2022-11-07  stopped at:  11\n",
      "Date:   2022-11-13  stopped at:  0\n",
      "Date:   2022-11-06  stopped at:  3\n",
      "Date:   2022-11-04  stopped at:  3\n",
      "Date:   2022-11-02  stopped at:  0\n",
      "Date:   2022-11-10  stopped at:  3\n",
      "Date:   2022-11-18  stopped at:  1\n",
      "Date:   2022-11-05  stopped at:  4\n",
      "Date:   2022-11-03  stopped at:  1\n",
      "Date:   2022-11-01  stopped at:  0\n",
      "Date:   2022-11-16  stopped at:  10\n",
      "Date:   2022-10-31  stopped at:  5\n",
      "Date:   2022-11-08  stopped at:  3\n",
      "Date:   2022-11-14  stopped at:  0\n",
      "Date:   2022-11-19  stopped at:  7\n",
      "Date:   2022-11-24  stopped at:  1\n",
      "Date:   2022-11-25  stopped at:  8\n",
      "Date:   2022-11-26  stopped at:  0\n",
      "Date:   2022-11-27  stopped at:  0\n",
      "Date:   2022-11-28  stopped at:  0\n",
      "Date:   2022-11-29  stopped at:  1\n",
      "Date:   2022-11-30  stopped at:  3\n"
     ]
    },
    {
     "data": {
      "application/vnd.jupyter.widget-view+json": {
       "model_id": "349eddcdd647445cbf54ca6eb3d70577",
       "version_major": 2,
       "version_minor": 0
      },
      "text/plain": [
       "  0%|          | 0/60166 [00:00<?, ?it/s]"
      ]
     },
     "metadata": {},
     "output_type": "display_data"
    },
    {
     "name": "stdout",
     "output_type": "stream",
     "text": [
      "Date:   2022-11-15  stopped at:  0\n",
      "Date:   2022-11-03  stopped at:  1\n",
      "Date:   2022-11-18  stopped at:  5\n",
      "Date:   2022-11-16  stopped at:  5\n",
      "Date:   2022-11-08  stopped at:  21\n",
      "Date:   2022-11-17  stopped at:  0\n",
      "Date:   2022-11-07  stopped at:  4\n",
      "Date:   2022-10-31  stopped at:  2\n",
      "Date:   2022-11-23  stopped at:  6\n",
      "Date:   2022-11-09  stopped at:  1\n",
      "Date:   2022-11-21  stopped at:  1\n",
      "Date:   2022-11-06  stopped at:  0\n",
      "Date:   2022-11-05  stopped at:  5\n",
      "Date:   2022-11-20  stopped at:  2\n",
      "Date:   2022-11-10  stopped at:  0\n",
      "Date:   2022-11-11  stopped at:  12\n",
      "Date:   2022-11-04  stopped at:  3\n",
      "Date:   2022-11-13  stopped at:  7\n",
      "Date:   2022-11-02  stopped at:  1\n",
      "Date:   2022-11-19  stopped at:  1\n",
      "Date:   2022-11-22  stopped at:  2\n",
      "Date:   2022-11-24  stopped at:  0\n",
      "Date:   2022-11-12  stopped at:  7\n",
      "Date:   2022-11-14  stopped at:  0\n",
      "Date:   2022-11-01  stopped at:  4\n",
      "Date:   2022-11-24  stopped at:  8\n",
      "Date:   2022-11-25  stopped at:  15\n",
      "Date:   2022-11-26  stopped at:  4\n",
      "Date:   2022-11-27  stopped at:  4\n",
      "Date:   2022-11-28  stopped at:  2\n",
      "Date:   2022-11-29  stopped at:  0\n",
      "Date:   2022-11-30  stopped at:  4\n"
     ]
    },
    {
     "data": {
      "application/vnd.jupyter.widget-view+json": {
       "model_id": "d47b8aa01ab547df9492406daba9ebc3",
       "version_major": 2,
       "version_minor": 0
      },
      "text/plain": [
       "  0%|          | 0/60166 [00:00<?, ?it/s]"
      ]
     },
     "metadata": {},
     "output_type": "display_data"
    },
    {
     "name": "stdout",
     "output_type": "stream",
     "text": [
      "Date:   2022-11-06  stopped at:  3\n",
      "Date:   2022-11-13  stopped at:  4\n",
      "Date:   2022-11-23  stopped at:  7\n",
      "Date:   2022-11-09  stopped at:  0\n",
      "Date:   2022-11-08  stopped at:  10\n",
      "Date:   2022-11-19  stopped at:  3\n",
      "Date:   2022-11-18  stopped at:  0\n",
      "Date:   2022-11-11  stopped at:  13\n",
      "Date:   2022-11-17  stopped at:  9\n",
      "Date:   2022-11-24  stopped at:  0\n",
      "Date:   2022-11-22  stopped at:  3\n",
      "Date:   2022-11-16  stopped at:  3\n",
      "Date:   2022-10-31  stopped at:  1\n",
      "Date:   2022-11-21  stopped at:  0\n",
      "Date:   2022-11-04  stopped at:  3\n",
      "Date:   2022-11-05  stopped at:  1\n",
      "Date:   2022-11-02  stopped at:  0\n",
      "Date:   2022-11-01  stopped at:  0\n",
      "Date:   2022-11-07  stopped at:  0\n",
      "Date:   2022-11-20  stopped at:  0\n",
      "Date:   2022-11-12  stopped at:  1\n",
      "Date:   2022-11-14  stopped at:  5\n",
      "Date:   2022-11-15  stopped at:  0\n",
      "Date:   2022-11-03  stopped at:  0\n",
      "Date:   2022-11-10  stopped at:  1\n",
      "Date:   2022-11-24  stopped at:  4\n",
      "Date:   2022-11-25  stopped at:  13\n",
      "Date:   2022-11-26  stopped at:  4\n",
      "Date:   2022-11-27  stopped at:  0\n",
      "Date:   2022-11-28  stopped at:  0\n",
      "Date:   2022-11-29  stopped at:  2\n",
      "Date:   2022-11-30  stopped at:  1\n"
     ]
    },
    {
     "data": {
      "application/vnd.jupyter.widget-view+json": {
       "model_id": "de075612dcbe46209bc78e7fbd490b78",
       "version_major": 2,
       "version_minor": 0
      },
      "text/plain": [
       "  0%|          | 0/60166 [00:00<?, ?it/s]"
      ]
     },
     "metadata": {},
     "output_type": "display_data"
    },
    {
     "name": "stdout",
     "output_type": "stream",
     "text": [
      "Date:   2022-11-07  stopped at:  4\n",
      "Date:   2022-11-04  stopped at:  1\n",
      "Date:   2022-11-11  stopped at:  16\n",
      "Date:   2022-11-01  stopped at:  0\n",
      "Date:   2022-11-09  stopped at:  2\n",
      "Date:   2022-11-22  stopped at:  4\n",
      "Date:   2022-11-03  stopped at:  1\n",
      "Date:   2022-11-14  stopped at:  0\n",
      "Date:   2022-11-06  stopped at:  4\n",
      "Date:   2022-11-08  stopped at:  2\n",
      "Date:   2022-11-23  stopped at:  5\n",
      "Date:   2022-11-17  stopped at:  1\n",
      "Date:   2022-11-19  stopped at:  2\n",
      "Date:   2022-11-10  stopped at:  0\n",
      "Date:   2022-11-16  stopped at:  17\n",
      "Date:   2022-11-21  stopped at:  1\n",
      "Date:   2022-11-02  stopped at:  1\n",
      "Date:   2022-11-12  stopped at:  6\n",
      "Date:   2022-11-24  stopped at:  4\n",
      "Date:   2022-11-05  stopped at:  4\n",
      "Date:   2022-10-31  stopped at:  0\n",
      "Date:   2022-11-18  stopped at:  0\n",
      "Date:   2022-11-20  stopped at:  0\n",
      "Date:   2022-11-15  stopped at:  1\n",
      "Date:   2022-11-13  stopped at:  2\n",
      "Date:   2022-11-24  stopped at:  4\n",
      "Date:   2022-11-25  stopped at:  12\n",
      "Date:   2022-11-26  stopped at:  2\n",
      "Date:   2022-11-27  stopped at:  1\n",
      "Date:   2022-11-28  stopped at:  2\n",
      "Date:   2022-11-29  stopped at:  0\n",
      "Date:   2022-11-30  stopped at:  0\n"
     ]
    },
    {
     "data": {
      "application/vnd.jupyter.widget-view+json": {
       "model_id": "016ce8ad16794da88a44a83778064bf4",
       "version_major": 2,
       "version_minor": 0
      },
      "text/plain": [
       "  0%|          | 0/60166 [00:00<?, ?it/s]"
      ]
     },
     "metadata": {},
     "output_type": "display_data"
    },
    {
     "name": "stdout",
     "output_type": "stream",
     "text": [
      "Date:   2022-11-16  stopped at:  0\n",
      "Date:   2022-11-14  stopped at:  4\n",
      "Date:   2022-11-21  stopped at:  4\n",
      "Date:   2022-11-09  stopped at:  5\n",
      "Date:   2022-11-03  stopped at:  2\n",
      "Date:   2022-11-13  stopped at:  6\n",
      "Date:   2022-11-05  stopped at:  1\n",
      "Date:   2022-11-23  stopped at:  1\n",
      "Date:   2022-11-19  stopped at:  12\n",
      "Date:   2022-11-10  stopped at:  0\n",
      "Date:   2022-11-02  stopped at:  1\n",
      "Date:   2022-11-08  stopped at:  19\n",
      "Date:   2022-11-20  stopped at:  9\n",
      "Date:   2022-11-01  stopped at:  1\n",
      "Date:   2022-11-15  stopped at:  2\n",
      "Date:   2022-10-31  stopped at:  1\n",
      "Date:   2022-11-04  stopped at:  2\n",
      "Date:   2022-11-24  stopped at:  0\n",
      "Date:   2022-11-06  stopped at:  13\n",
      "Date:   2022-11-11  stopped at:  9\n",
      "Date:   2022-11-07  stopped at:  1\n",
      "Date:   2022-11-18  stopped at:  2\n",
      "Date:   2022-11-12  stopped at:  0\n",
      "Date:   2022-11-17  stopped at:  0\n",
      "Date:   2022-11-22  stopped at:  0\n",
      "Date:   2022-11-24  stopped at:  1\n",
      "Date:   2022-11-25  stopped at:  0\n",
      "Date:   2022-11-26  stopped at:  0\n",
      "Date:   2022-11-27  stopped at:  1\n",
      "Date:   2022-11-28  stopped at:  6\n",
      "Date:   2022-11-29  stopped at:  5\n",
      "Date:   2022-11-30  stopped at:  1\n"
     ]
    },
    {
     "data": {
      "application/vnd.jupyter.widget-view+json": {
       "model_id": "47c08acef4e64c3196283f74a26d5d20",
       "version_major": 2,
       "version_minor": 0
      },
      "text/plain": [
       "  0%|          | 0/60166 [00:00<?, ?it/s]"
      ]
     },
     "metadata": {},
     "output_type": "display_data"
    },
    {
     "name": "stdout",
     "output_type": "stream",
     "text": [
      "Date:   2022-11-04  stopped at:  7\n",
      "Date:   2022-11-20  stopped at:  0\n",
      "Date:   2022-11-02  stopped at:  0\n",
      "Date:   2022-11-17  stopped at:  1\n",
      "Date:   2022-11-15  stopped at:  4\n",
      "Date:   2022-11-14  stopped at:  3\n",
      "Date:   2022-11-01  stopped at:  5\n",
      "Date:   2022-11-21  stopped at:  0\n",
      "Date:   2022-11-05  stopped at:  1\n",
      "Date:   2022-11-16  stopped at:  11\n",
      "Date:   2022-11-03  stopped at:  4\n",
      "Date:   2022-11-24  stopped at:  3\n",
      "Date:   2022-11-11  stopped at:  4\n",
      "Date:   2022-11-08  stopped at:  0\n",
      "Date:   2022-11-23  stopped at:  0\n",
      "Date:   2022-11-13  stopped at:  1\n",
      "Date:   2022-11-09  stopped at:  1\n",
      "Date:   2022-11-06  stopped at:  4\n",
      "Date:   2022-11-18  stopped at:  1\n",
      "Date:   2022-11-22  stopped at:  0\n",
      "Date:   2022-11-07  stopped at:  1\n",
      "Date:   2022-11-19  stopped at:  1\n",
      "Date:   2022-10-31  stopped at:  2\n",
      "Date:   2022-11-12  stopped at:  6\n",
      "Date:   2022-11-10  stopped at:  7\n",
      "Date:   2022-11-24  stopped at:  17\n",
      "Date:   2022-11-25  stopped at:  28\n",
      "Date:   2022-11-26  stopped at:  15\n",
      "Date:   2022-11-27  stopped at:  2\n",
      "Date:   2022-11-28  stopped at:  1\n",
      "Date:   2022-11-29  stopped at:  1\n",
      "Date:   2022-11-30  stopped at:  0\n",
      "Better mean reward! Saving...\n"
     ]
    },
    {
     "data": {
      "application/vnd.jupyter.widget-view+json": {
       "model_id": "98ac3791353c472f8afed1a0b47452f0",
       "version_major": 2,
       "version_minor": 0
      },
      "text/plain": [
       "  0%|          | 0/60166 [00:00<?, ?it/s]"
      ]
     },
     "metadata": {},
     "output_type": "display_data"
    },
    {
     "name": "stdout",
     "output_type": "stream",
     "text": [
      "Date:   2022-11-03  stopped at:  3\n",
      "Date:   2022-11-23  stopped at:  1\n",
      "Date:   2022-11-13  stopped at:  1\n",
      "Date:   2022-11-24  stopped at:  0\n",
      "Date:   2022-11-15  stopped at:  1\n",
      "Date:   2022-11-05  stopped at:  4\n",
      "Date:   2022-11-07  stopped at:  1\n",
      "Date:   2022-11-19  stopped at:  2\n",
      "Date:   2022-11-20  stopped at:  4\n",
      "Date:   2022-11-04  stopped at:  0\n",
      "Date:   2022-11-06  stopped at:  2\n",
      "Date:   2022-11-09  stopped at:  6\n",
      "Date:   2022-11-10  stopped at:  3\n",
      "Date:   2022-10-31  stopped at:  0\n",
      "Date:   2022-11-16  stopped at:  1\n",
      "Date:   2022-11-08  stopped at:  24\n",
      "Date:   2022-11-18  stopped at:  0\n",
      "Date:   2022-11-12  stopped at:  13\n",
      "Date:   2022-11-01  stopped at:  2\n",
      "Date:   2022-11-11  stopped at:  5\n",
      "Date:   2022-11-14  stopped at:  9\n",
      "Date:   2022-11-22  stopped at:  0\n",
      "Date:   2022-11-02  stopped at:  1\n",
      "Date:   2022-11-21  stopped at:  3\n",
      "Date:   2022-11-17  stopped at:  2\n",
      "Date:   2022-11-24  stopped at:  5\n",
      "Date:   2022-11-25  stopped at:  0\n",
      "Date:   2022-11-26  stopped at:  6\n",
      "Date:   2022-11-27  stopped at:  3\n",
      "Date:   2022-11-28  stopped at:  4\n",
      "Date:   2022-11-29  stopped at:  11\n",
      "Date:   2022-11-30  stopped at:  0\n"
     ]
    },
    {
     "data": {
      "application/vnd.jupyter.widget-view+json": {
       "model_id": "4a87226db1fd43ab82746705d3db7e69",
       "version_major": 2,
       "version_minor": 0
      },
      "text/plain": [
       "  0%|          | 0/60166 [00:00<?, ?it/s]"
      ]
     },
     "metadata": {},
     "output_type": "display_data"
    },
    {
     "name": "stdout",
     "output_type": "stream",
     "text": [
      "Date:   2022-11-19  stopped at:  20\n",
      "Date:   2022-11-17  stopped at:  3\n",
      "Date:   2022-11-07  stopped at:  5\n",
      "Date:   2022-10-31  stopped at:  2\n",
      "Date:   2022-11-06  stopped at:  14\n",
      "Date:   2022-11-24  stopped at:  1\n",
      "Date:   2022-11-14  stopped at:  3\n",
      "Date:   2022-11-20  stopped at:  10\n",
      "Date:   2022-11-22  stopped at:  0\n",
      "Date:   2022-11-08  stopped at:  7\n",
      "Date:   2022-11-03  stopped at:  1\n",
      "Date:   2022-11-16  stopped at:  5\n",
      "Date:   2022-11-21  stopped at:  5\n",
      "Date:   2022-11-05  stopped at:  0\n",
      "Date:   2022-11-09  stopped at:  6\n",
      "Date:   2022-11-13  stopped at:  1\n",
      "Date:   2022-11-18  stopped at:  2\n",
      "Date:   2022-11-04  stopped at:  2\n",
      "Date:   2022-11-12  stopped at:  11\n",
      "Date:   2022-11-01  stopped at:  1\n",
      "Date:   2022-11-23  stopped at:  0\n",
      "Date:   2022-11-10  stopped at:  3\n",
      "Date:   2022-11-02  stopped at:  1\n",
      "Date:   2022-11-11  stopped at:  0\n",
      "Date:   2022-11-15  stopped at:  8\n",
      "Date:   2022-11-24  stopped at:  6\n",
      "Date:   2022-11-25  stopped at:  4\n",
      "Date:   2022-11-26  stopped at:  3\n",
      "Date:   2022-11-27  stopped at:  3\n",
      "Date:   2022-11-28  stopped at:  5\n",
      "Date:   2022-11-29  stopped at:  8\n",
      "Date:   2022-11-30  stopped at:  2\n"
     ]
    },
    {
     "data": {
      "application/vnd.jupyter.widget-view+json": {
       "model_id": "7b2e4cc9f8ca40a2b2044d6e059404f6",
       "version_major": 2,
       "version_minor": 0
      },
      "text/plain": [
       "  0%|          | 0/60166 [00:00<?, ?it/s]"
      ]
     },
     "metadata": {},
     "output_type": "display_data"
    },
    {
     "name": "stdout",
     "output_type": "stream",
     "text": [
      "Date:   2022-11-03  stopped at:  1\n",
      "Date:   2022-11-08  stopped at:  8\n",
      "Date:   2022-11-18  stopped at:  0\n",
      "Date:   2022-11-22  stopped at:  3\n",
      "Date:   2022-11-07  stopped at:  0\n",
      "Date:   2022-11-21  stopped at:  0\n",
      "Date:   2022-11-11  stopped at:  11\n",
      "Date:   2022-11-17  stopped at:  0\n",
      "Date:   2022-11-24  stopped at:  1\n",
      "Date:   2022-10-31  stopped at:  2\n",
      "Date:   2022-11-13  stopped at:  0\n",
      "Date:   2022-11-10  stopped at:  3\n",
      "Date:   2022-11-19  stopped at:  21\n",
      "Date:   2022-11-12  stopped at:  0\n",
      "Date:   2022-11-14  stopped at:  0\n",
      "Date:   2022-11-06  stopped at:  2\n",
      "Date:   2022-11-23  stopped at:  2\n",
      "Date:   2022-11-15  stopped at:  0\n",
      "Date:   2022-11-20  stopped at:  4\n",
      "Date:   2022-11-16  stopped at:  0\n",
      "Date:   2022-11-04  stopped at:  0\n",
      "Date:   2022-11-05  stopped at:  1\n",
      "Date:   2022-11-01  stopped at:  0\n",
      "Date:   2022-11-09  stopped at:  6\n",
      "Date:   2022-11-02  stopped at:  2\n",
      "Date:   2022-11-24  stopped at:  9\n",
      "Date:   2022-11-25  stopped at:  9\n",
      "Date:   2022-11-26  stopped at:  10\n",
      "Date:   2022-11-27  stopped at:  1\n",
      "Date:   2022-11-28  stopped at:  1\n",
      "Date:   2022-11-29  stopped at:  0\n",
      "Date:   2022-11-30  stopped at:  1\n"
     ]
    },
    {
     "data": {
      "application/vnd.jupyter.widget-view+json": {
       "model_id": "effa15e0587c46789c525e6060b3b00a",
       "version_major": 2,
       "version_minor": 0
      },
      "text/plain": [
       "  0%|          | 0/60166 [00:00<?, ?it/s]"
      ]
     },
     "metadata": {},
     "output_type": "display_data"
    },
    {
     "name": "stdout",
     "output_type": "stream",
     "text": [
      "Date:   2022-11-06  stopped at:  1\n",
      "Date:   2022-11-10  stopped at:  1\n",
      "Date:   2022-11-24  stopped at:  4\n",
      "Date:   2022-11-02  stopped at:  0\n",
      "Date:   2022-11-19  stopped at:  0\n",
      "Date:   2022-11-08  stopped at:  0\n",
      "Date:   2022-11-07  stopped at:  2\n",
      "Date:   2022-11-05  stopped at:  1\n",
      "Date:   2022-11-03  stopped at:  1\n",
      "Date:   2022-11-18  stopped at:  0\n",
      "Date:   2022-11-22  stopped at:  4\n",
      "Date:   2022-11-17  stopped at:  6\n",
      "Date:   2022-11-21  stopped at:  1\n",
      "Date:   2022-11-15  stopped at:  0\n",
      "Date:   2022-11-09  stopped at:  1\n",
      "Date:   2022-11-12  stopped at:  1\n",
      "Date:   2022-11-13  stopped at:  4\n",
      "Date:   2022-11-04  stopped at:  0\n",
      "Date:   2022-11-16  stopped at:  0\n",
      "Date:   2022-11-20  stopped at:  1\n",
      "Date:   2022-11-01  stopped at:  1\n",
      "Date:   2022-10-31  stopped at:  1\n",
      "Date:   2022-11-14  stopped at:  2\n",
      "Date:   2022-11-23  stopped at:  2\n",
      "Date:   2022-11-11  stopped at:  3\n",
      "Date:   2022-11-24  stopped at:  1\n",
      "Date:   2022-11-25  stopped at:  2\n",
      "Date:   2022-11-26  stopped at:  0\n",
      "Date:   2022-11-27  stopped at:  4\n",
      "Date:   2022-11-28  stopped at:  4\n",
      "Date:   2022-11-29  stopped at:  5\n",
      "Date:   2022-11-30  stopped at:  14\n"
     ]
    },
    {
     "data": {
      "application/vnd.jupyter.widget-view+json": {
       "model_id": "5c91fd8d605a41488a6159aaa33c9815",
       "version_major": 2,
       "version_minor": 0
      },
      "text/plain": [
       "  0%|          | 0/60166 [00:00<?, ?it/s]"
      ]
     },
     "metadata": {},
     "output_type": "display_data"
    },
    {
     "name": "stdout",
     "output_type": "stream",
     "text": [
      "Date:   2022-11-13  stopped at:  3\n",
      "Date:   2022-10-31  stopped at:  2\n",
      "Date:   2022-11-10  stopped at:  21\n",
      "Date:   2022-11-21  stopped at:  5\n",
      "Date:   2022-11-03  stopped at:  4\n",
      "Date:   2022-11-23  stopped at:  0\n",
      "Date:   2022-11-17  stopped at:  3\n",
      "Date:   2022-11-22  stopped at:  0\n",
      "Date:   2022-11-09  stopped at:  4\n",
      "Date:   2022-11-04  stopped at:  3\n",
      "Date:   2022-11-07  stopped at:  0\n",
      "Date:   2022-11-08  stopped at:  5\n",
      "Date:   2022-11-19  stopped at:  2\n",
      "Date:   2022-11-02  stopped at:  0\n",
      "Date:   2022-11-12  stopped at:  4\n",
      "Date:   2022-11-15  stopped at:  2\n",
      "Date:   2022-11-20  stopped at:  0\n",
      "Date:   2022-11-01  stopped at:  5\n",
      "Date:   2022-11-06  stopped at:  0\n",
      "Date:   2022-11-05  stopped at:  1\n",
      "Date:   2022-11-24  stopped at:  5\n",
      "Date:   2022-11-16  stopped at:  10\n",
      "Date:   2022-11-18  stopped at:  0\n",
      "Date:   2022-11-11  stopped at:  13\n",
      "Date:   2022-11-14  stopped at:  2\n",
      "Date:   2022-11-24  stopped at:  0\n",
      "Date:   2022-11-25  stopped at:  4\n",
      "Date:   2022-11-26  stopped at:  0\n",
      "Date:   2022-11-27  stopped at:  3\n",
      "Date:   2022-11-28  stopped at:  10\n",
      "Date:   2022-11-29  stopped at:  13\n",
      "Date:   2022-11-30  stopped at:  3\n"
     ]
    },
    {
     "data": {
      "application/vnd.jupyter.widget-view+json": {
       "model_id": "9e1b733bb5424826a3438bf7e7f894c1",
       "version_major": 2,
       "version_minor": 0
      },
      "text/plain": [
       "  0%|          | 0/60166 [00:00<?, ?it/s]"
      ]
     },
     "metadata": {},
     "output_type": "display_data"
    },
    {
     "name": "stdout",
     "output_type": "stream",
     "text": [
      "Date:   2022-11-10  stopped at:  5\n",
      "Date:   2022-11-14  stopped at:  0\n",
      "Date:   2022-11-06  stopped at:  13\n",
      "Date:   2022-11-17  stopped at:  0\n",
      "Date:   2022-11-16  stopped at:  4\n",
      "Date:   2022-11-24  stopped at:  0\n",
      "Date:   2022-11-05  stopped at:  5\n",
      "Date:   2022-11-09  stopped at:  1\n",
      "Date:   2022-11-18  stopped at:  2\n",
      "Date:   2022-11-04  stopped at:  2\n",
      "Date:   2022-11-03  stopped at:  2\n",
      "Date:   2022-11-02  stopped at:  0\n",
      "Date:   2022-11-22  stopped at:  5\n",
      "Date:   2022-11-13  stopped at:  6\n",
      "Date:   2022-11-19  stopped at:  6\n",
      "Date:   2022-11-07  stopped at:  8\n",
      "Date:   2022-11-11  stopped at:  36\n",
      "Date:   2022-11-21  stopped at:  9\n",
      "Date:   2022-11-08  stopped at:  9\n",
      "Date:   2022-11-15  stopped at:  4\n",
      "Date:   2022-10-31  stopped at:  1\n",
      "Date:   2022-11-12  stopped at:  2\n",
      "Date:   2022-11-01  stopped at:  4\n",
      "Date:   2022-11-23  stopped at:  1\n",
      "Date:   2022-11-20  stopped at:  3\n",
      "Date:   2022-11-24  stopped at:  7\n",
      "Date:   2022-11-25  stopped at:  6\n",
      "Date:   2022-11-26  stopped at:  9\n",
      "Date:   2022-11-27  stopped at:  0\n",
      "Date:   2022-11-28  stopped at:  1\n",
      "Date:   2022-11-29  stopped at:  0\n",
      "Date:   2022-11-30  stopped at:  0\n"
     ]
    },
    {
     "data": {
      "application/vnd.jupyter.widget-view+json": {
       "model_id": "19994a22500447da827c29c5706acc0c",
       "version_major": 2,
       "version_minor": 0
      },
      "text/plain": [
       "  0%|          | 0/60166 [00:00<?, ?it/s]"
      ]
     },
     "metadata": {},
     "output_type": "display_data"
    },
    {
     "name": "stdout",
     "output_type": "stream",
     "text": [
      "Date:   2022-11-02  stopped at:  1\n",
      "Date:   2022-11-14  stopped at:  32\n",
      "Date:   2022-11-11  stopped at:  11\n",
      "Date:   2022-11-06  stopped at:  0\n",
      "Date:   2022-11-07  stopped at:  1\n",
      "Date:   2022-11-09  stopped at:  0\n",
      "Date:   2022-11-01  stopped at:  9\n",
      "Date:   2022-11-12  stopped at:  2\n",
      "Date:   2022-11-17  stopped at:  7\n",
      "Date:   2022-11-03  stopped at:  1\n",
      "Date:   2022-11-19  stopped at:  2\n",
      "Date:   2022-10-31  stopped at:  1\n",
      "Date:   2022-11-16  stopped at:  6\n",
      "Date:   2022-11-04  stopped at:  1\n",
      "Date:   2022-11-10  stopped at:  0\n",
      "Date:   2022-11-13  stopped at:  2\n",
      "Date:   2022-11-05  stopped at:  0\n",
      "Date:   2022-11-15  stopped at:  6\n",
      "Date:   2022-11-21  stopped at:  5\n",
      "Date:   2022-11-08  stopped at:  5\n",
      "Date:   2022-11-24  stopped at:  1\n",
      "Date:   2022-11-20  stopped at:  0\n",
      "Date:   2022-11-22  stopped at:  3\n",
      "Date:   2022-11-23  stopped at:  0\n",
      "Date:   2022-11-18  stopped at:  1\n",
      "Date:   2022-11-24  stopped at:  0\n",
      "Date:   2022-11-25  stopped at:  15\n",
      "Date:   2022-11-26  stopped at:  7\n",
      "Date:   2022-11-27  stopped at:  2\n",
      "Date:   2022-11-28  stopped at:  0\n",
      "Date:   2022-11-29  stopped at:  2\n",
      "Date:   2022-11-30  stopped at:  3\n"
     ]
    },
    {
     "data": {
      "application/vnd.jupyter.widget-view+json": {
       "model_id": "2079e770bb394e0f98402d176637fcf6",
       "version_major": 2,
       "version_minor": 0
      },
      "text/plain": [
       "  0%|          | 0/60166 [00:00<?, ?it/s]"
      ]
     },
     "metadata": {},
     "output_type": "display_data"
    },
    {
     "name": "stdout",
     "output_type": "stream",
     "text": [
      "Date:   2022-11-22  stopped at:  7\n",
      "Date:   2022-11-05  stopped at:  1\n",
      "Date:   2022-11-13  stopped at:  5\n",
      "Date:   2022-11-21  stopped at:  0\n",
      "Date:   2022-11-09  stopped at:  8\n",
      "Date:   2022-11-12  stopped at:  4\n",
      "Date:   2022-11-20  stopped at:  5\n",
      "Date:   2022-11-18  stopped at:  6\n",
      "Date:   2022-11-23  stopped at:  3\n",
      "Date:   2022-11-06  stopped at:  6\n",
      "Date:   2022-11-07  stopped at:  3\n",
      "Date:   2022-11-15  stopped at:  0\n",
      "Date:   2022-11-17  stopped at:  1\n",
      "Date:   2022-11-16  stopped at:  3\n",
      "Date:   2022-11-19  stopped at:  9\n",
      "Date:   2022-11-03  stopped at:  0\n",
      "Date:   2022-11-02  stopped at:  3\n",
      "Date:   2022-11-10  stopped at:  2\n",
      "Date:   2022-10-31  stopped at:  4\n",
      "Date:   2022-11-04  stopped at:  0\n",
      "Date:   2022-11-11  stopped at:  38\n",
      "Date:   2022-11-08  stopped at:  1\n",
      "Date:   2022-11-01  stopped at:  0\n",
      "Date:   2022-11-14  stopped at:  1\n",
      "Date:   2022-11-24  stopped at:  3\n",
      "Date:   2022-11-24  stopped at:  22\n",
      "Date:   2022-11-25  stopped at:  0\n",
      "Date:   2022-11-26  stopped at:  3\n",
      "Date:   2022-11-27  stopped at:  0\n",
      "Date:   2022-11-28  stopped at:  4\n",
      "Date:   2022-11-29  stopped at:  14\n",
      "Date:   2022-11-30  stopped at:  3\n"
     ]
    },
    {
     "data": {
      "application/vnd.jupyter.widget-view+json": {
       "model_id": "baff0975ef1249248686a84748122c99",
       "version_major": 2,
       "version_minor": 0
      },
      "text/plain": [
       "  0%|          | 0/60166 [00:00<?, ?it/s]"
      ]
     },
     "metadata": {},
     "output_type": "display_data"
    },
    {
     "name": "stdout",
     "output_type": "stream",
     "text": [
      "Date:   2022-11-14  stopped at:  0\n",
      "Date:   2022-11-24  stopped at:  0\n",
      "Date:   2022-11-09  stopped at:  2\n",
      "Date:   2022-11-02  stopped at:  3\n",
      "Date:   2022-11-07  stopped at:  7\n",
      "Date:   2022-11-12  stopped at:  2\n",
      "Date:   2022-11-21  stopped at:  6\n",
      "Date:   2022-11-11  stopped at:  10\n",
      "Date:   2022-11-05  stopped at:  12\n",
      "Date:   2022-11-17  stopped at:  3\n",
      "Date:   2022-11-15  stopped at:  0\n",
      "Date:   2022-11-03  stopped at:  2\n",
      "Date:   2022-11-10  stopped at:  6\n",
      "Date:   2022-11-01  stopped at:  0\n",
      "Date:   2022-11-18  stopped at:  0\n",
      "Date:   2022-11-08  stopped at:  4\n",
      "Date:   2022-11-16  stopped at:  2\n",
      "Date:   2022-11-20  stopped at:  4\n",
      "Date:   2022-11-04  stopped at:  0\n",
      "Date:   2022-11-23  stopped at:  4\n",
      "Date:   2022-11-22  stopped at:  0\n",
      "Date:   2022-11-19  stopped at:  3\n",
      "Date:   2022-11-06  stopped at:  4\n",
      "Date:   2022-10-31  stopped at:  0\n",
      "Date:   2022-11-13  stopped at:  0\n",
      "Date:   2022-11-24  stopped at:  4\n",
      "Date:   2022-11-25  stopped at:  5\n",
      "Date:   2022-11-26  stopped at:  2\n",
      "Date:   2022-11-27  stopped at:  6\n",
      "Date:   2022-11-28  stopped at:  8\n",
      "Date:   2022-11-29  stopped at:  12\n",
      "Date:   2022-11-30  stopped at:  1\n"
     ]
    },
    {
     "data": {
      "application/vnd.jupyter.widget-view+json": {
       "model_id": "db7ac9de1b3b4e3681866978b64bed4d",
       "version_major": 2,
       "version_minor": 0
      },
      "text/plain": [
       "  0%|          | 0/60166 [00:00<?, ?it/s]"
      ]
     },
     "metadata": {},
     "output_type": "display_data"
    },
    {
     "name": "stdout",
     "output_type": "stream",
     "text": [
      "Date:   2022-11-23  stopped at:  3\n",
      "Date:   2022-11-09  stopped at:  0\n",
      "Date:   2022-11-13  stopped at:  1\n",
      "Date:   2022-11-18  stopped at:  1\n",
      "Date:   2022-11-20  stopped at:  8\n",
      "Date:   2022-11-10  stopped at:  7\n",
      "Date:   2022-11-04  stopped at:  0\n",
      "Date:   2022-11-03  stopped at:  2\n",
      "Date:   2022-11-08  stopped at:  0\n",
      "Date:   2022-11-12  stopped at:  10\n",
      "Date:   2022-11-17  stopped at:  0\n",
      "Date:   2022-10-31  stopped at:  3\n",
      "Date:   2022-11-19  stopped at:  7\n",
      "Date:   2022-11-02  stopped at:  7\n",
      "Date:   2022-11-21  stopped at:  2\n",
      "Date:   2022-11-14  stopped at:  15\n",
      "Date:   2022-11-05  stopped at:  0\n",
      "Date:   2022-11-07  stopped at:  2\n",
      "Date:   2022-11-11  stopped at:  104\n",
      "Date:   2022-11-24  stopped at:  0\n",
      "Date:   2022-11-01  stopped at:  0\n",
      "Date:   2022-11-16  stopped at:  2\n",
      "Date:   2022-11-06  stopped at:  3\n",
      "Date:   2022-11-22  stopped at:  2\n",
      "Date:   2022-11-15  stopped at:  7\n",
      "Date:   2022-11-24  stopped at:  11\n",
      "Date:   2022-11-25  stopped at:  2\n",
      "Date:   2022-11-26  stopped at:  7\n",
      "Date:   2022-11-27  stopped at:  2\n",
      "Date:   2022-11-28  stopped at:  1\n",
      "Date:   2022-11-29  stopped at:  3\n",
      "Date:   2022-11-30  stopped at:  10\n"
     ]
    },
    {
     "data": {
      "application/vnd.jupyter.widget-view+json": {
       "model_id": "175cc0b85aa442728788c351b1a75401",
       "version_major": 2,
       "version_minor": 0
      },
      "text/plain": [
       "  0%|          | 0/60166 [00:00<?, ?it/s]"
      ]
     },
     "metadata": {},
     "output_type": "display_data"
    },
    {
     "name": "stdout",
     "output_type": "stream",
     "text": [
      "Date:   2022-10-31  stopped at:  3\n",
      "Date:   2022-11-09  stopped at:  7\n",
      "Date:   2022-11-24  stopped at:  15\n",
      "Date:   2022-11-23  stopped at:  0\n",
      "Date:   2022-11-19  stopped at:  2\n",
      "Date:   2022-11-17  stopped at:  0\n",
      "Date:   2022-11-06  stopped at:  17\n",
      "Date:   2022-11-01  stopped at:  0\n",
      "Date:   2022-11-16  stopped at:  17\n",
      "Date:   2022-11-11  stopped at:  7\n",
      "Date:   2022-11-15  stopped at:  7\n",
      "Date:   2022-11-07  stopped at:  6\n",
      "Date:   2022-11-14  stopped at:  0\n",
      "Date:   2022-11-08  stopped at:  1\n",
      "Date:   2022-11-21  stopped at:  0\n",
      "Date:   2022-11-20  stopped at:  1\n",
      "Date:   2022-11-02  stopped at:  4\n",
      "Date:   2022-11-12  stopped at:  6\n",
      "Date:   2022-11-03  stopped at:  2\n",
      "Date:   2022-11-04  stopped at:  4\n",
      "Date:   2022-11-05  stopped at:  5\n",
      "Date:   2022-11-18  stopped at:  17\n",
      "Date:   2022-11-13  stopped at:  7\n",
      "Date:   2022-11-10  stopped at:  3\n",
      "Date:   2022-11-22  stopped at:  0\n",
      "Date:   2022-11-24  stopped at:  6\n",
      "Date:   2022-11-25  stopped at:  6\n",
      "Date:   2022-11-26  stopped at:  0\n",
      "Date:   2022-11-27  stopped at:  11\n",
      "Date:   2022-11-28  stopped at:  1\n",
      "Date:   2022-11-29  stopped at:  2\n",
      "Date:   2022-11-30  stopped at:  0\n"
     ]
    },
    {
     "data": {
      "application/vnd.jupyter.widget-view+json": {
       "model_id": "0fcedaee82974a719263fb02106a517e",
       "version_major": 2,
       "version_minor": 0
      },
      "text/plain": [
       "  0%|          | 0/60166 [00:00<?, ?it/s]"
      ]
     },
     "metadata": {},
     "output_type": "display_data"
    },
    {
     "name": "stdout",
     "output_type": "stream",
     "text": [
      "Date:   2022-11-17  stopped at:  1\n",
      "Date:   2022-11-05  stopped at:  1\n",
      "Date:   2022-11-07  stopped at:  8\n",
      "Date:   2022-11-09  stopped at:  4\n",
      "Date:   2022-11-10  stopped at:  4\n",
      "Date:   2022-11-15  stopped at:  7\n",
      "Date:   2022-11-14  stopped at:  10\n",
      "Date:   2022-10-31  stopped at:  6\n",
      "Date:   2022-11-22  stopped at:  3\n",
      "Date:   2022-11-24  stopped at:  0\n",
      "Date:   2022-11-16  stopped at:  7\n",
      "Date:   2022-11-13  stopped at:  2\n",
      "Date:   2022-11-03  stopped at:  5\n",
      "Date:   2022-11-19  stopped at:  0\n",
      "Date:   2022-11-01  stopped at:  0\n",
      "Date:   2022-11-06  stopped at:  1\n",
      "Date:   2022-11-04  stopped at:  5\n",
      "Date:   2022-11-11  stopped at:  18\n",
      "Date:   2022-11-21  stopped at:  2\n",
      "Date:   2022-11-20  stopped at:  0\n",
      "Date:   2022-11-23  stopped at:  2\n",
      "Date:   2022-11-08  stopped at:  17\n",
      "Date:   2022-11-02  stopped at:  3\n",
      "Date:   2022-11-12  stopped at:  2\n",
      "Date:   2022-11-18  stopped at:  1\n",
      "Date:   2022-11-24  stopped at:  7\n",
      "Date:   2022-11-25  stopped at:  14\n",
      "Date:   2022-11-26  stopped at:  2\n",
      "Date:   2022-11-27  stopped at:  2\n",
      "Date:   2022-11-28  stopped at:  6\n",
      "Date:   2022-11-29  stopped at:  2\n",
      "Date:   2022-11-30  stopped at:  1\n"
     ]
    },
    {
     "data": {
      "application/vnd.jupyter.widget-view+json": {
       "model_id": "d7ccfc01237a43f389db97d61ed7493f",
       "version_major": 2,
       "version_minor": 0
      },
      "text/plain": [
       "  0%|          | 0/60166 [00:00<?, ?it/s]"
      ]
     },
     "metadata": {},
     "output_type": "display_data"
    },
    {
     "name": "stdout",
     "output_type": "stream",
     "text": [
      "Date:   2022-11-18  stopped at:  4\n",
      "Date:   2022-11-11  stopped at:  0\n",
      "Date:   2022-11-06  stopped at:  6\n",
      "Date:   2022-11-04  stopped at:  0\n",
      "Date:   2022-11-14  stopped at:  2\n",
      "Date:   2022-11-07  stopped at:  12\n",
      "Date:   2022-11-19  stopped at:  0\n",
      "Date:   2022-11-20  stopped at:  1\n",
      "Date:   2022-11-15  stopped at:  1\n",
      "Date:   2022-11-24  stopped at:  10\n",
      "Date:   2022-11-10  stopped at:  0\n",
      "Date:   2022-11-02  stopped at:  0\n",
      "Date:   2022-11-09  stopped at:  4\n",
      "Date:   2022-11-13  stopped at:  1\n",
      "Date:   2022-11-16  stopped at:  3\n",
      "Date:   2022-11-17  stopped at:  1\n",
      "Date:   2022-11-08  stopped at:  6\n",
      "Date:   2022-10-31  stopped at:  0\n",
      "Date:   2022-11-21  stopped at:  0\n",
      "Date:   2022-11-22  stopped at:  0\n",
      "Date:   2022-11-05  stopped at:  3\n",
      "Date:   2022-11-23  stopped at:  4\n",
      "Date:   2022-11-03  stopped at:  4\n",
      "Date:   2022-11-01  stopped at:  9\n",
      "Date:   2022-11-12  stopped at:  0\n",
      "Date:   2022-11-24  stopped at:  12\n",
      "Date:   2022-11-25  stopped at:  1\n",
      "Date:   2022-11-26  stopped at:  1\n",
      "Date:   2022-11-27  stopped at:  1\n",
      "Date:   2022-11-28  stopped at:  0\n",
      "Date:   2022-11-29  stopped at:  2\n",
      "Date:   2022-11-30  stopped at:  3\n"
     ]
    },
    {
     "data": {
      "application/vnd.jupyter.widget-view+json": {
       "model_id": "19dced834cd84339b2e76df868b816d1",
       "version_major": 2,
       "version_minor": 0
      },
      "text/plain": [
       "  0%|          | 0/60166 [00:00<?, ?it/s]"
      ]
     },
     "metadata": {},
     "output_type": "display_data"
    },
    {
     "name": "stdout",
     "output_type": "stream",
     "text": [
      "Date:   2022-11-06  stopped at:  0\n",
      "Date:   2022-11-09  stopped at:  1\n",
      "Date:   2022-11-07  stopped at:  1\n",
      "Date:   2022-11-17  stopped at:  1\n",
      "Date:   2022-11-18  stopped at:  0\n",
      "Date:   2022-10-31  stopped at:  8\n",
      "Date:   2022-11-14  stopped at:  3\n",
      "Date:   2022-11-01  stopped at:  0\n",
      "Date:   2022-11-11  stopped at:  3\n",
      "Date:   2022-11-22  stopped at:  1\n",
      "Date:   2022-11-12  stopped at:  2\n",
      "Date:   2022-11-04  stopped at:  2\n",
      "Date:   2022-11-03  stopped at:  1\n",
      "Date:   2022-11-13  stopped at:  1\n",
      "Date:   2022-11-19  stopped at:  5\n",
      "Date:   2022-11-23  stopped at:  2\n",
      "Date:   2022-11-02  stopped at:  0\n",
      "Date:   2022-11-20  stopped at:  5\n",
      "Date:   2022-11-10  stopped at:  19\n",
      "Date:   2022-11-15  stopped at:  2\n",
      "Date:   2022-11-21  stopped at:  4\n",
      "Date:   2022-11-08  stopped at:  11\n",
      "Date:   2022-11-16  stopped at:  2\n",
      "Date:   2022-11-24  stopped at:  13\n",
      "Date:   2022-11-05  stopped at:  4\n",
      "Date:   2022-11-24  stopped at:  33\n",
      "Date:   2022-11-25  stopped at:  0\n",
      "Date:   2022-11-26  stopped at:  2\n",
      "Date:   2022-11-27  stopped at:  3\n",
      "Date:   2022-11-28  stopped at:  4\n",
      "Date:   2022-11-29  stopped at:  1\n",
      "Date:   2022-11-30  stopped at:  4\n"
     ]
    },
    {
     "data": {
      "application/vnd.jupyter.widget-view+json": {
       "model_id": "02757b2e945e4e55990d402bab2f11c5",
       "version_major": 2,
       "version_minor": 0
      },
      "text/plain": [
       "  0%|          | 0/60166 [00:00<?, ?it/s]"
      ]
     },
     "metadata": {},
     "output_type": "display_data"
    },
    {
     "name": "stdout",
     "output_type": "stream",
     "text": [
      "Date:   2022-11-24  stopped at:  2\n",
      "Date:   2022-11-18  stopped at:  1\n",
      "Date:   2022-11-21  stopped at:  2\n",
      "Date:   2022-11-22  stopped at:  0\n",
      "Date:   2022-11-09  stopped at:  0\n",
      "Date:   2022-11-10  stopped at:  1\n",
      "Date:   2022-11-17  stopped at:  4\n",
      "Date:   2022-11-12  stopped at:  0\n",
      "Date:   2022-11-07  stopped at:  3\n",
      "Date:   2022-11-15  stopped at:  5\n",
      "Date:   2022-10-31  stopped at:  1\n",
      "Date:   2022-11-06  stopped at:  5\n",
      "Date:   2022-11-03  stopped at:  4\n",
      "Date:   2022-11-23  stopped at:  0\n",
      "Date:   2022-11-19  stopped at:  8\n",
      "Date:   2022-11-04  stopped at:  4\n",
      "Date:   2022-11-11  stopped at:  50\n",
      "Date:   2022-11-08  stopped at:  15\n",
      "Date:   2022-11-02  stopped at:  6\n",
      "Date:   2022-11-16  stopped at:  0\n",
      "Date:   2022-11-01  stopped at:  0\n",
      "Date:   2022-11-14  stopped at:  1\n",
      "Date:   2022-11-13  stopped at:  5\n",
      "Date:   2022-11-05  stopped at:  4\n",
      "Date:   2022-11-20  stopped at:  17\n",
      "Date:   2022-11-24  stopped at:  12\n",
      "Date:   2022-11-25  stopped at:  2\n",
      "Date:   2022-11-26  stopped at:  1\n",
      "Date:   2022-11-27  stopped at:  3\n",
      "Date:   2022-11-28  stopped at:  3\n",
      "Date:   2022-11-29  stopped at:  1\n",
      "Date:   2022-11-30  stopped at:  0\n"
     ]
    },
    {
     "data": {
      "application/vnd.jupyter.widget-view+json": {
       "model_id": "46a6183a2db742da886c1ecd6a142bc6",
       "version_major": 2,
       "version_minor": 0
      },
      "text/plain": [
       "  0%|          | 0/60166 [00:00<?, ?it/s]"
      ]
     },
     "metadata": {},
     "output_type": "display_data"
    },
    {
     "name": "stdout",
     "output_type": "stream",
     "text": [
      "Date:   2022-11-08  stopped at:  28\n",
      "Date:   2022-11-07  stopped at:  1\n",
      "Date:   2022-11-05  stopped at:  7\n",
      "Date:   2022-10-31  stopped at:  2\n",
      "Date:   2022-11-18  stopped at:  3\n",
      "Date:   2022-11-19  stopped at:  0\n",
      "Date:   2022-11-13  stopped at:  3\n",
      "Date:   2022-11-09  stopped at:  4\n",
      "Date:   2022-11-17  stopped at:  8\n",
      "Date:   2022-11-15  stopped at:  1\n",
      "Date:   2022-11-21  stopped at:  6\n",
      "Date:   2022-11-22  stopped at:  0\n",
      "Date:   2022-11-02  stopped at:  6\n",
      "Date:   2022-11-01  stopped at:  0\n",
      "Date:   2022-11-20  stopped at:  1\n",
      "Date:   2022-11-06  stopped at:  0\n",
      "Date:   2022-11-12  stopped at:  2\n",
      "Date:   2022-11-23  stopped at:  0\n",
      "Date:   2022-11-03  stopped at:  10\n",
      "Date:   2022-11-04  stopped at:  3\n",
      "Date:   2022-11-10  stopped at:  1\n",
      "Date:   2022-11-24  stopped at:  0\n",
      "Date:   2022-11-11  stopped at:  4\n",
      "Date:   2022-11-16  stopped at:  0\n",
      "Date:   2022-11-14  stopped at:  2\n",
      "Date:   2022-11-24  stopped at:  6\n",
      "Date:   2022-11-25  stopped at:  3\n",
      "Date:   2022-11-26  stopped at:  1\n",
      "Date:   2022-11-27  stopped at:  0\n",
      "Date:   2022-11-28  stopped at:  0\n",
      "Date:   2022-11-29  stopped at:  6\n",
      "Date:   2022-11-30  stopped at:  2\n"
     ]
    },
    {
     "data": {
      "application/vnd.jupyter.widget-view+json": {
       "model_id": "5a944a01bf6e4c70b0fd104242614b64",
       "version_major": 2,
       "version_minor": 0
      },
      "text/plain": [
       "  0%|          | 0/60166 [00:00<?, ?it/s]"
      ]
     },
     "metadata": {},
     "output_type": "display_data"
    },
    {
     "name": "stdout",
     "output_type": "stream",
     "text": [
      "Date:   2022-11-24  stopped at:  0\n",
      "Date:   2022-11-19  stopped at:  1\n",
      "Date:   2022-11-22  stopped at:  1\n",
      "Date:   2022-11-14  stopped at:  8\n",
      "Date:   2022-11-09  stopped at:  3\n",
      "Date:   2022-11-02  stopped at:  7\n",
      "Date:   2022-11-01  stopped at:  0\n",
      "Date:   2022-11-07  stopped at:  0\n",
      "Date:   2022-10-31  stopped at:  1\n",
      "Date:   2022-11-11  stopped at:  142\n",
      "Date:   2022-11-16  stopped at:  2\n",
      "Date:   2022-11-12  stopped at:  11\n",
      "Date:   2022-11-18  stopped at:  1\n",
      "Date:   2022-11-21  stopped at:  1\n",
      "Date:   2022-11-05  stopped at:  1\n",
      "Date:   2022-11-10  stopped at:  5\n",
      "Date:   2022-11-17  stopped at:  0\n",
      "Date:   2022-11-03  stopped at:  0\n",
      "Date:   2022-11-06  stopped at:  12\n",
      "Date:   2022-11-13  stopped at:  2\n",
      "Date:   2022-11-15  stopped at:  0\n",
      "Date:   2022-11-04  stopped at:  6\n",
      "Date:   2022-11-23  stopped at:  4\n",
      "Date:   2022-11-08  stopped at:  4\n",
      "Date:   2022-11-20  stopped at:  10\n",
      "Date:   2022-11-24  stopped at:  0\n",
      "Date:   2022-11-25  stopped at:  1\n",
      "Date:   2022-11-26  stopped at:  4\n",
      "Date:   2022-11-27  stopped at:  0\n",
      "Date:   2022-11-28  stopped at:  1\n",
      "Date:   2022-11-29  stopped at:  10\n",
      "Date:   2022-11-30  stopped at:  0\n"
     ]
    },
    {
     "data": {
      "application/vnd.jupyter.widget-view+json": {
       "model_id": "8551907e11f94bceb1bed7a1a466b89e",
       "version_major": 2,
       "version_minor": 0
      },
      "text/plain": [
       "  0%|          | 0/60166 [00:00<?, ?it/s]"
      ]
     },
     "metadata": {},
     "output_type": "display_data"
    },
    {
     "name": "stdout",
     "output_type": "stream",
     "text": [
      "Date:   2022-11-02  stopped at:  4\n",
      "Date:   2022-11-14  stopped at:  0\n",
      "Date:   2022-11-05  stopped at:  0\n",
      "Date:   2022-10-31  stopped at:  0\n",
      "Date:   2022-11-16  stopped at:  3\n",
      "Date:   2022-11-22  stopped at:  0\n",
      "Date:   2022-11-11  stopped at:  10\n",
      "Date:   2022-11-03  stopped at:  11\n",
      "Date:   2022-11-13  stopped at:  7\n",
      "Date:   2022-11-09  stopped at:  0\n",
      "Date:   2022-11-12  stopped at:  6\n",
      "Date:   2022-11-24  stopped at:  1\n",
      "Date:   2022-11-21  stopped at:  0\n",
      "Date:   2022-11-19  stopped at:  0\n",
      "Date:   2022-11-06  stopped at:  1\n",
      "Date:   2022-11-17  stopped at:  2\n",
      "Date:   2022-11-18  stopped at:  3\n",
      "Date:   2022-11-04  stopped at:  8\n",
      "Date:   2022-11-20  stopped at:  1\n",
      "Date:   2022-11-10  stopped at:  0\n",
      "Date:   2022-11-15  stopped at:  0\n",
      "Date:   2022-11-23  stopped at:  0\n",
      "Date:   2022-11-08  stopped at:  3\n",
      "Date:   2022-11-01  stopped at:  10\n",
      "Date:   2022-11-07  stopped at:  19\n",
      "Date:   2022-11-24  stopped at:  2\n",
      "Date:   2022-11-25  stopped at:  20\n",
      "Date:   2022-11-26  stopped at:  1\n",
      "Date:   2022-11-27  stopped at:  0\n",
      "Date:   2022-11-28  stopped at:  2\n",
      "Date:   2022-11-29  stopped at:  0\n",
      "Date:   2022-11-30  stopped at:  5\n"
     ]
    },
    {
     "data": {
      "application/vnd.jupyter.widget-view+json": {
       "model_id": "3a00f0c36d954a8e958d2f13aa711fb3",
       "version_major": 2,
       "version_minor": 0
      },
      "text/plain": [
       "  0%|          | 0/60166 [00:00<?, ?it/s]"
      ]
     },
     "metadata": {},
     "output_type": "display_data"
    },
    {
     "name": "stdout",
     "output_type": "stream",
     "text": [
      "Date:   2022-11-21  stopped at:  6\n",
      "Date:   2022-11-16  stopped at:  7\n",
      "Date:   2022-11-01  stopped at:  1\n",
      "Date:   2022-11-18  stopped at:  1\n",
      "Date:   2022-11-19  stopped at:  5\n",
      "Date:   2022-11-24  stopped at:  7\n",
      "Date:   2022-11-05  stopped at:  0\n",
      "Date:   2022-11-13  stopped at:  6\n",
      "Date:   2022-11-11  stopped at:  22\n",
      "Date:   2022-11-10  stopped at:  5\n",
      "Date:   2022-11-22  stopped at:  3\n",
      "Date:   2022-10-31  stopped at:  0\n",
      "Date:   2022-11-15  stopped at:  2\n",
      "Date:   2022-11-03  stopped at:  3\n",
      "Date:   2022-11-20  stopped at:  4\n",
      "Date:   2022-11-04  stopped at:  2\n",
      "Date:   2022-11-14  stopped at:  3\n",
      "Date:   2022-11-02  stopped at:  0\n",
      "Date:   2022-11-06  stopped at:  10\n",
      "Date:   2022-11-23  stopped at:  6\n",
      "Date:   2022-11-08  stopped at:  5\n",
      "Date:   2022-11-07  stopped at:  9\n",
      "Date:   2022-11-12  stopped at:  4\n",
      "Date:   2022-11-09  stopped at:  0\n",
      "Date:   2022-11-17  stopped at:  0\n",
      "Date:   2022-11-24  stopped at:  18\n",
      "Date:   2022-11-25  stopped at:  3\n",
      "Date:   2022-11-26  stopped at:  2\n",
      "Date:   2022-11-27  stopped at:  3\n",
      "Date:   2022-11-28  stopped at:  1\n",
      "Date:   2022-11-29  stopped at:  0\n",
      "Date:   2022-11-30  stopped at:  7\n"
     ]
    },
    {
     "data": {
      "application/vnd.jupyter.widget-view+json": {
       "model_id": "8952697aaf784597ae3271cd1bcfe241",
       "version_major": 2,
       "version_minor": 0
      },
      "text/plain": [
       "  0%|          | 0/60166 [00:00<?, ?it/s]"
      ]
     },
     "metadata": {},
     "output_type": "display_data"
    },
    {
     "name": "stdout",
     "output_type": "stream",
     "text": [
      "Date:   2022-11-20  stopped at:  10\n",
      "Date:   2022-11-07  stopped at:  7\n",
      "Date:   2022-11-10  stopped at:  6\n",
      "Date:   2022-11-17  stopped at:  0\n",
      "Date:   2022-11-03  stopped at:  4\n",
      "Date:   2022-11-22  stopped at:  4\n",
      "Date:   2022-11-08  stopped at:  21\n",
      "Date:   2022-11-24  stopped at:  0\n",
      "Date:   2022-11-12  stopped at:  5\n",
      "Date:   2022-11-16  stopped at:  7\n",
      "Date:   2022-11-09  stopped at:  0\n",
      "Date:   2022-11-13  stopped at:  7\n",
      "Date:   2022-10-31  stopped at:  0\n",
      "Date:   2022-11-02  stopped at:  7\n",
      "Date:   2022-11-06  stopped at:  2\n",
      "Date:   2022-11-23  stopped at:  1\n",
      "Date:   2022-11-11  stopped at:  6\n",
      "Date:   2022-11-05  stopped at:  8\n",
      "Date:   2022-11-01  stopped at:  16\n",
      "Date:   2022-11-14  stopped at:  3\n",
      "Date:   2022-11-15  stopped at:  8\n",
      "Date:   2022-11-18  stopped at:  10\n",
      "Date:   2022-11-21  stopped at:  0\n",
      "Date:   2022-11-04  stopped at:  0\n",
      "Date:   2022-11-19  stopped at:  3\n",
      "Date:   2022-11-24  stopped at:  45\n",
      "Date:   2022-11-25  stopped at:  15\n",
      "Date:   2022-11-26  stopped at:  1\n",
      "Date:   2022-11-27  stopped at:  1\n",
      "Date:   2022-11-28  stopped at:  2\n",
      "Date:   2022-11-29  stopped at:  5\n",
      "Date:   2022-11-30  stopped at:  1\n",
      "Better mean reward! Saving...\n"
     ]
    },
    {
     "data": {
      "application/vnd.jupyter.widget-view+json": {
       "model_id": "80b1d1096cce4033ad138819c0595f08",
       "version_major": 2,
       "version_minor": 0
      },
      "text/plain": [
       "  0%|          | 0/60166 [00:00<?, ?it/s]"
      ]
     },
     "metadata": {},
     "output_type": "display_data"
    },
    {
     "name": "stdout",
     "output_type": "stream",
     "text": [
      "Date:   2022-11-13  stopped at:  2\n",
      "Date:   2022-11-12  stopped at:  2\n",
      "Date:   2022-11-24  stopped at:  3\n",
      "Date:   2022-11-11  stopped at:  0\n",
      "Date:   2022-11-04  stopped at:  2\n",
      "Date:   2022-11-18  stopped at:  3\n",
      "Date:   2022-11-10  stopped at:  1\n",
      "Date:   2022-11-23  stopped at:  3\n",
      "Date:   2022-11-09  stopped at:  0\n",
      "Date:   2022-11-14  stopped at:  1\n",
      "Date:   2022-11-02  stopped at:  1\n",
      "Date:   2022-11-15  stopped at:  3\n",
      "Date:   2022-11-08  stopped at:  73\n",
      "Date:   2022-10-31  stopped at:  1\n",
      "Date:   2022-11-17  stopped at:  1\n",
      "Date:   2022-11-07  stopped at:  0\n",
      "Date:   2022-11-22  stopped at:  1\n",
      "Date:   2022-11-03  stopped at:  7\n",
      "Date:   2022-11-01  stopped at:  9\n",
      "Date:   2022-11-06  stopped at:  5\n",
      "Date:   2022-11-16  stopped at:  1\n",
      "Date:   2022-11-19  stopped at:  2\n",
      "Date:   2022-11-20  stopped at:  9\n",
      "Date:   2022-11-05  stopped at:  5\n",
      "Date:   2022-11-21  stopped at:  1\n",
      "Date:   2022-11-24  stopped at:  11\n",
      "Date:   2022-11-25  stopped at:  22\n",
      "Date:   2022-11-26  stopped at:  1\n",
      "Date:   2022-11-27  stopped at:  5\n",
      "Date:   2022-11-28  stopped at:  1\n",
      "Date:   2022-11-29  stopped at:  1\n",
      "Date:   2022-11-30  stopped at:  0\n"
     ]
    },
    {
     "data": {
      "application/vnd.jupyter.widget-view+json": {
       "model_id": "e34f1c12a8a940ce879210b1605e2b69",
       "version_major": 2,
       "version_minor": 0
      },
      "text/plain": [
       "  0%|          | 0/60166 [00:00<?, ?it/s]"
      ]
     },
     "metadata": {},
     "output_type": "display_data"
    },
    {
     "name": "stdout",
     "output_type": "stream",
     "text": [
      "Date:   2022-10-31  stopped at:  2\n",
      "Date:   2022-11-06  stopped at:  10\n",
      "Date:   2022-11-09  stopped at:  2\n",
      "Date:   2022-11-24  stopped at:  1\n",
      "Date:   2022-11-12  stopped at:  6\n",
      "Date:   2022-11-14  stopped at:  8\n",
      "Date:   2022-11-16  stopped at:  12\n",
      "Date:   2022-11-18  stopped at:  0\n",
      "Date:   2022-11-23  stopped at:  1\n",
      "Date:   2022-11-10  stopped at:  5\n",
      "Date:   2022-11-03  stopped at:  8\n",
      "Date:   2022-11-19  stopped at:  3\n",
      "Date:   2022-11-11  stopped at:  31\n",
      "Date:   2022-11-07  stopped at:  0\n",
      "Date:   2022-11-22  stopped at:  4\n",
      "Date:   2022-11-01  stopped at:  5\n",
      "Date:   2022-11-02  stopped at:  1\n",
      "Date:   2022-11-15  stopped at:  3\n",
      "Date:   2022-11-04  stopped at:  2\n",
      "Date:   2022-11-17  stopped at:  9\n",
      "Date:   2022-11-20  stopped at:  9\n",
      "Date:   2022-11-13  stopped at:  3\n",
      "Date:   2022-11-05  stopped at:  1\n",
      "Date:   2022-11-21  stopped at:  1\n",
      "Date:   2022-11-08  stopped at:  22\n",
      "Date:   2022-11-24  stopped at:  7\n",
      "Date:   2022-11-25  stopped at:  4\n",
      "Date:   2022-11-26  stopped at:  5\n",
      "Date:   2022-11-27  stopped at:  2\n",
      "Date:   2022-11-28  stopped at:  3\n",
      "Date:   2022-11-29  stopped at:  0\n",
      "Date:   2022-11-30  stopped at:  0\n"
     ]
    },
    {
     "data": {
      "application/vnd.jupyter.widget-view+json": {
       "model_id": "9e16cb40f80046338982a06b4ff80fed",
       "version_major": 2,
       "version_minor": 0
      },
      "text/plain": [
       "  0%|          | 0/60166 [00:00<?, ?it/s]"
      ]
     },
     "metadata": {},
     "output_type": "display_data"
    },
    {
     "name": "stdout",
     "output_type": "stream",
     "text": [
      "Date:   2022-11-23  stopped at:  4\n",
      "Date:   2022-11-02  stopped at:  3\n",
      "Date:   2022-11-13  stopped at:  21\n",
      "Date:   2022-10-31  stopped at:  1\n",
      "Date:   2022-11-21  stopped at:  0\n",
      "Date:   2022-11-18  stopped at:  3\n",
      "Date:   2022-11-17  stopped at:  6\n",
      "Date:   2022-11-10  stopped at:  6\n",
      "Date:   2022-11-15  stopped at:  1\n",
      "Date:   2022-11-12  stopped at:  10\n",
      "Date:   2022-11-09  stopped at:  4\n",
      "Date:   2022-11-01  stopped at:  0\n",
      "Date:   2022-11-07  stopped at:  3\n",
      "Date:   2022-11-04  stopped at:  2\n",
      "Date:   2022-11-20  stopped at:  3\n",
      "Date:   2022-11-11  stopped at:  35\n",
      "Date:   2022-11-03  stopped at:  9\n",
      "Date:   2022-11-05  stopped at:  1\n",
      "Date:   2022-11-08  stopped at:  17\n",
      "Date:   2022-11-19  stopped at:  8\n",
      "Date:   2022-11-24  stopped at:  0\n",
      "Date:   2022-11-06  stopped at:  5\n",
      "Date:   2022-11-14  stopped at:  7\n",
      "Date:   2022-11-22  stopped at:  3\n",
      "Date:   2022-11-16  stopped at:  8\n",
      "Date:   2022-11-24  stopped at:  2\n",
      "Date:   2022-11-25  stopped at:  25\n",
      "Date:   2022-11-26  stopped at:  7\n",
      "Date:   2022-11-27  stopped at:  0\n",
      "Date:   2022-11-28  stopped at:  2\n",
      "Date:   2022-11-29  stopped at:  1\n",
      "Date:   2022-11-30  stopped at:  2\n"
     ]
    },
    {
     "data": {
      "application/vnd.jupyter.widget-view+json": {
       "model_id": "d76c8e99912846a791fc173bf0a46119",
       "version_major": 2,
       "version_minor": 0
      },
      "text/plain": [
       "  0%|          | 0/60166 [00:00<?, ?it/s]"
      ]
     },
     "metadata": {},
     "output_type": "display_data"
    },
    {
     "name": "stdout",
     "output_type": "stream",
     "text": [
      "Date:   2022-11-08  stopped at:  20\n",
      "Date:   2022-11-12  stopped at:  16\n",
      "Date:   2022-11-03  stopped at:  2\n",
      "Date:   2022-11-01  stopped at:  0\n",
      "Date:   2022-11-13  stopped at:  3\n",
      "Date:   2022-11-04  stopped at:  5\n",
      "Date:   2022-11-15  stopped at:  1\n",
      "Date:   2022-11-06  stopped at:  2\n",
      "Date:   2022-11-05  stopped at:  1\n",
      "Date:   2022-11-16  stopped at:  2\n",
      "Date:   2022-11-19  stopped at:  6\n",
      "Date:   2022-11-10  stopped at:  0\n",
      "Date:   2022-11-17  stopped at:  2\n",
      "Date:   2022-11-23  stopped at:  1\n",
      "Date:   2022-11-22  stopped at:  5\n",
      "Date:   2022-11-18  stopped at:  1\n",
      "Date:   2022-10-31  stopped at:  3\n",
      "Date:   2022-11-09  stopped at:  1\n",
      "Date:   2022-11-21  stopped at:  1\n",
      "Date:   2022-11-20  stopped at:  21\n",
      "Date:   2022-11-11  stopped at:  38\n",
      "Date:   2022-11-02  stopped at:  1\n",
      "Date:   2022-11-07  stopped at:  21\n",
      "Date:   2022-11-14  stopped at:  3\n",
      "Date:   2022-11-24  stopped at:  2\n",
      "Date:   2022-11-24  stopped at:  14\n",
      "Date:   2022-11-25  stopped at:  9\n",
      "Date:   2022-11-26  stopped at:  2\n",
      "Date:   2022-11-27  stopped at:  1\n",
      "Date:   2022-11-28  stopped at:  14\n",
      "Date:   2022-11-29  stopped at:  11\n",
      "Date:   2022-11-30  stopped at:  2\n"
     ]
    },
    {
     "data": {
      "application/vnd.jupyter.widget-view+json": {
       "model_id": "f73ca816c6f3462aabb7fe104c3fc71f",
       "version_major": 2,
       "version_minor": 0
      },
      "text/plain": [
       "  0%|          | 0/60166 [00:00<?, ?it/s]"
      ]
     },
     "metadata": {},
     "output_type": "display_data"
    },
    {
     "name": "stdout",
     "output_type": "stream",
     "text": [
      "Date:   2022-11-24  stopped at:  4\n",
      "Date:   2022-11-21  stopped at:  0\n",
      "Date:   2022-11-06  stopped at:  1\n",
      "Date:   2022-11-18  stopped at:  0\n",
      "Date:   2022-11-22  stopped at:  17\n",
      "Date:   2022-10-31  stopped at:  0\n",
      "Date:   2022-11-03  stopped at:  2\n",
      "Date:   2022-11-04  stopped at:  2\n",
      "Date:   2022-11-20  stopped at:  1\n",
      "Date:   2022-11-16  stopped at:  6\n",
      "Date:   2022-11-11  stopped at:  20\n",
      "Date:   2022-11-05  stopped at:  6\n",
      "Date:   2022-11-14  stopped at:  0\n",
      "Date:   2022-11-23  stopped at:  4\n",
      "Date:   2022-11-02  stopped at:  9\n",
      "Date:   2022-11-08  stopped at:  8\n",
      "Date:   2022-11-10  stopped at:  0\n",
      "Date:   2022-11-12  stopped at:  1\n",
      "Date:   2022-11-01  stopped at:  3\n",
      "Date:   2022-11-09  stopped at:  0\n",
      "Date:   2022-11-19  stopped at:  0\n",
      "Date:   2022-11-13  stopped at:  2\n",
      "Date:   2022-11-15  stopped at:  4\n",
      "Date:   2022-11-17  stopped at:  12\n",
      "Date:   2022-11-07  stopped at:  2\n",
      "Date:   2022-11-24  stopped at:  12\n",
      "Date:   2022-11-25  stopped at:  13\n",
      "Date:   2022-11-26  stopped at:  1\n",
      "Date:   2022-11-27  stopped at:  0\n",
      "Date:   2022-11-28  stopped at:  1\n",
      "Date:   2022-11-29  stopped at:  3\n",
      "Date:   2022-11-30  stopped at:  3\n"
     ]
    },
    {
     "data": {
      "application/vnd.jupyter.widget-view+json": {
       "model_id": "dea8ef8f8b8b45e28a0b43c343a573fa",
       "version_major": 2,
       "version_minor": 0
      },
      "text/plain": [
       "  0%|          | 0/60166 [00:00<?, ?it/s]"
      ]
     },
     "metadata": {},
     "output_type": "display_data"
    },
    {
     "name": "stdout",
     "output_type": "stream",
     "text": [
      "Date:   2022-11-23  stopped at:  0\n",
      "Date:   2022-11-15  stopped at:  8\n",
      "Date:   2022-11-09  stopped at:  1\n",
      "Date:   2022-11-18  stopped at:  1\n",
      "Date:   2022-11-20  stopped at:  0\n",
      "Date:   2022-11-24  stopped at:  1\n",
      "Date:   2022-11-14  stopped at:  2\n",
      "Date:   2022-11-08  stopped at:  19\n",
      "Date:   2022-11-12  stopped at:  2\n",
      "Date:   2022-11-22  stopped at:  8\n",
      "Date:   2022-11-03  stopped at:  1\n",
      "Date:   2022-11-05  stopped at:  2\n",
      "Date:   2022-11-01  stopped at:  5\n",
      "Date:   2022-11-21  stopped at:  0\n",
      "Date:   2022-10-31  stopped at:  0\n",
      "Date:   2022-11-06  stopped at:  8\n",
      "Date:   2022-11-04  stopped at:  4\n",
      "Date:   2022-11-16  stopped at:  14\n",
      "Date:   2022-11-19  stopped at:  0\n",
      "Date:   2022-11-07  stopped at:  1\n",
      "Date:   2022-11-11  stopped at:  54\n",
      "Date:   2022-11-02  stopped at:  0\n",
      "Date:   2022-11-13  stopped at:  3\n",
      "Date:   2022-11-17  stopped at:  0\n",
      "Date:   2022-11-10  stopped at:  3\n",
      "Date:   2022-11-24  stopped at:  7\n",
      "Date:   2022-11-25  stopped at:  2\n",
      "Date:   2022-11-26  stopped at:  6\n",
      "Date:   2022-11-27  stopped at:  1\n",
      "Date:   2022-11-28  stopped at:  5\n",
      "Date:   2022-11-29  stopped at:  4\n",
      "Date:   2022-11-30  stopped at:  3\n"
     ]
    },
    {
     "data": {
      "application/vnd.jupyter.widget-view+json": {
       "model_id": "dc1e62bb059042108ec6f5ac3898de03",
       "version_major": 2,
       "version_minor": 0
      },
      "text/plain": [
       "  0%|          | 0/60166 [00:00<?, ?it/s]"
      ]
     },
     "metadata": {},
     "output_type": "display_data"
    },
    {
     "name": "stdout",
     "output_type": "stream",
     "text": [
      "Date:   2022-11-03  stopped at:  0\n",
      "Date:   2022-11-16  stopped at:  4\n",
      "Date:   2022-11-04  stopped at:  0\n",
      "Date:   2022-11-07  stopped at:  4\n",
      "Date:   2022-10-31  stopped at:  0\n",
      "Date:   2022-11-11  stopped at:  14\n",
      "Date:   2022-11-05  stopped at:  0\n",
      "Date:   2022-11-10  stopped at:  12\n",
      "Date:   2022-11-02  stopped at:  1\n",
      "Date:   2022-11-14  stopped at:  6\n",
      "Date:   2022-11-18  stopped at:  6\n",
      "Date:   2022-11-15  stopped at:  16\n",
      "Date:   2022-11-06  stopped at:  11\n",
      "Date:   2022-11-13  stopped at:  2\n",
      "Date:   2022-11-01  stopped at:  4\n",
      "Date:   2022-11-08  stopped at:  4\n",
      "Date:   2022-11-21  stopped at:  0\n",
      "Date:   2022-11-22  stopped at:  0\n",
      "Date:   2022-11-17  stopped at:  5\n",
      "Date:   2022-11-24  stopped at:  5\n",
      "Date:   2022-11-20  stopped at:  4\n",
      "Date:   2022-11-09  stopped at:  0\n",
      "Date:   2022-11-19  stopped at:  0\n",
      "Date:   2022-11-12  stopped at:  18\n",
      "Date:   2022-11-23  stopped at:  8\n",
      "Date:   2022-11-24  stopped at:  6\n",
      "Date:   2022-11-25  stopped at:  3\n",
      "Date:   2022-11-26  stopped at:  0\n",
      "Date:   2022-11-27  stopped at:  0\n",
      "Date:   2022-11-28  stopped at:  6\n",
      "Date:   2022-11-29  stopped at:  7\n",
      "Date:   2022-11-30  stopped at:  8\n"
     ]
    },
    {
     "data": {
      "application/vnd.jupyter.widget-view+json": {
       "model_id": "1fb5755578ae4b14941e21b03c92f9b9",
       "version_major": 2,
       "version_minor": 0
      },
      "text/plain": [
       "  0%|          | 0/60166 [00:00<?, ?it/s]"
      ]
     },
     "metadata": {},
     "output_type": "display_data"
    },
    {
     "name": "stdout",
     "output_type": "stream",
     "text": [
      "Date:   2022-11-08  stopped at:  18\n",
      "Date:   2022-11-11  stopped at:  84\n",
      "Date:   2022-11-02  stopped at:  10\n",
      "Date:   2022-11-20  stopped at:  0\n",
      "Date:   2022-11-07  stopped at:  1\n",
      "Date:   2022-11-21  stopped at:  5\n",
      "Date:   2022-11-17  stopped at:  1\n",
      "Date:   2022-11-04  stopped at:  0\n",
      "Date:   2022-11-05  stopped at:  1\n",
      "Date:   2022-11-18  stopped at:  5\n",
      "Date:   2022-11-03  stopped at:  2\n",
      "Date:   2022-11-24  stopped at:  4\n",
      "Date:   2022-11-13  stopped at:  3\n",
      "Date:   2022-11-16  stopped at:  3\n",
      "Date:   2022-11-22  stopped at:  4\n",
      "Date:   2022-11-14  stopped at:  6\n",
      "Date:   2022-11-01  stopped at:  1\n",
      "Date:   2022-11-09  stopped at:  8\n",
      "Date:   2022-10-31  stopped at:  9\n",
      "Date:   2022-11-12  stopped at:  3\n",
      "Date:   2022-11-10  stopped at:  3\n",
      "Date:   2022-11-15  stopped at:  7\n",
      "Date:   2022-11-23  stopped at:  2\n",
      "Date:   2022-11-06  stopped at:  1\n",
      "Date:   2022-11-19  stopped at:  2\n",
      "Date:   2022-11-24  stopped at:  49\n",
      "Date:   2022-11-25  stopped at:  0\n",
      "Date:   2022-11-26  stopped at:  6\n",
      "Date:   2022-11-27  stopped at:  2\n",
      "Date:   2022-11-28  stopped at:  1\n",
      "Date:   2022-11-29  stopped at:  11\n",
      "Date:   2022-11-30  stopped at:  5\n",
      "Better mean reward! Saving...\n"
     ]
    },
    {
     "data": {
      "application/vnd.jupyter.widget-view+json": {
       "model_id": "955b1276346f4066a8ffb6638744ec80",
       "version_major": 2,
       "version_minor": 0
      },
      "text/plain": [
       "  0%|          | 0/60166 [00:00<?, ?it/s]"
      ]
     },
     "metadata": {},
     "output_type": "display_data"
    },
    {
     "name": "stdout",
     "output_type": "stream",
     "text": [
      "Date:   2022-11-19  stopped at:  0\n",
      "Date:   2022-11-07  stopped at:  2\n",
      "Date:   2022-11-01  stopped at:  3\n",
      "Date:   2022-11-10  stopped at:  1\n",
      "Date:   2022-11-18  stopped at:  0\n",
      "Date:   2022-11-05  stopped at:  4\n",
      "Date:   2022-11-14  stopped at:  3\n",
      "Date:   2022-11-24  stopped at:  1\n",
      "Date:   2022-11-20  stopped at:  1\n",
      "Date:   2022-10-31  stopped at:  7\n",
      "Date:   2022-11-02  stopped at:  0\n",
      "Date:   2022-11-15  stopped at:  1\n",
      "Date:   2022-11-03  stopped at:  1\n",
      "Date:   2022-11-11  stopped at:  5\n",
      "Date:   2022-11-16  stopped at:  1\n",
      "Date:   2022-11-08  stopped at:  3\n",
      "Date:   2022-11-09  stopped at:  7\n",
      "Date:   2022-11-06  stopped at:  9\n",
      "Date:   2022-11-13  stopped at:  0\n",
      "Date:   2022-11-21  stopped at:  10\n",
      "Date:   2022-11-17  stopped at:  1\n",
      "Date:   2022-11-22  stopped at:  5\n",
      "Date:   2022-11-23  stopped at:  1\n",
      "Date:   2022-11-12  stopped at:  9\n",
      "Date:   2022-11-04  stopped at:  3\n",
      "Date:   2022-11-24  stopped at:  80\n",
      "Date:   2022-11-25  stopped at:  20\n",
      "Date:   2022-11-26  stopped at:  0\n",
      "Date:   2022-11-27  stopped at:  3\n",
      "Date:   2022-11-28  stopped at:  2\n",
      "Date:   2022-11-29  stopped at:  1\n",
      "Date:   2022-11-30  stopped at:  2\n",
      "Better mean reward! Saving...\n"
     ]
    },
    {
     "data": {
      "application/vnd.jupyter.widget-view+json": {
       "model_id": "beb92d9c93124ceda99180c8db514ed3",
       "version_major": 2,
       "version_minor": 0
      },
      "text/plain": [
       "  0%|          | 0/60166 [00:00<?, ?it/s]"
      ]
     },
     "metadata": {},
     "output_type": "display_data"
    },
    {
     "name": "stdout",
     "output_type": "stream",
     "text": [
      "Date:   2022-11-05  stopped at:  1\n",
      "Date:   2022-11-03  stopped at:  0\n",
      "Date:   2022-11-15  stopped at:  11\n",
      "Date:   2022-11-21  stopped at:  1\n",
      "Date:   2022-11-02  stopped at:  1\n",
      "Date:   2022-11-19  stopped at:  1\n",
      "Date:   2022-11-18  stopped at:  1\n",
      "Date:   2022-11-24  stopped at:  0\n",
      "Date:   2022-11-08  stopped at:  32\n",
      "Date:   2022-11-12  stopped at:  1\n",
      "Date:   2022-11-01  stopped at:  0\n",
      "Date:   2022-10-31  stopped at:  0\n",
      "Date:   2022-11-07  stopped at:  10\n",
      "Date:   2022-11-10  stopped at:  2\n",
      "Date:   2022-11-13  stopped at:  2\n",
      "Date:   2022-11-04  stopped at:  4\n",
      "Date:   2022-11-22  stopped at:  1\n",
      "Date:   2022-11-06  stopped at:  39\n",
      "Date:   2022-11-14  stopped at:  3\n",
      "Date:   2022-11-09  stopped at:  1\n",
      "Date:   2022-11-11  stopped at:  2\n",
      "Date:   2022-11-23  stopped at:  3\n",
      "Date:   2022-11-20  stopped at:  1\n",
      "Date:   2022-11-16  stopped at:  17\n",
      "Date:   2022-11-17  stopped at:  0\n",
      "Date:   2022-11-24  stopped at:  4\n",
      "Date:   2022-11-25  stopped at:  31\n",
      "Date:   2022-11-26  stopped at:  7\n",
      "Date:   2022-11-27  stopped at:  0\n",
      "Date:   2022-11-28  stopped at:  0\n",
      "Date:   2022-11-29  stopped at:  3\n",
      "Date:   2022-11-30  stopped at:  4\n"
     ]
    },
    {
     "data": {
      "application/vnd.jupyter.widget-view+json": {
       "model_id": "f5c7954be0484c83a2bf5c69995cabf9",
       "version_major": 2,
       "version_minor": 0
      },
      "text/plain": [
       "  0%|          | 0/60166 [00:00<?, ?it/s]"
      ]
     },
     "metadata": {},
     "output_type": "display_data"
    },
    {
     "name": "stdout",
     "output_type": "stream",
     "text": [
      "Date:   2022-11-06  stopped at:  1\n",
      "Date:   2022-11-10  stopped at:  1\n",
      "Date:   2022-11-13  stopped at:  0\n",
      "Date:   2022-11-16  stopped at:  3\n",
      "Date:   2022-11-12  stopped at:  2\n",
      "Date:   2022-11-11  stopped at:  88\n",
      "Date:   2022-11-01  stopped at:  0\n",
      "Date:   2022-11-17  stopped at:  3\n",
      "Date:   2022-11-19  stopped at:  5\n",
      "Date:   2022-11-23  stopped at:  1\n",
      "Date:   2022-11-18  stopped at:  3\n",
      "Date:   2022-11-24  stopped at:  3\n",
      "Date:   2022-11-03  stopped at:  0\n",
      "Date:   2022-11-09  stopped at:  2\n",
      "Date:   2022-11-05  stopped at:  0\n",
      "Date:   2022-11-15  stopped at:  3\n",
      "Date:   2022-11-14  stopped at:  1\n",
      "Date:   2022-11-21  stopped at:  1\n",
      "Date:   2022-11-04  stopped at:  5\n",
      "Date:   2022-11-08  stopped at:  38\n",
      "Date:   2022-11-20  stopped at:  5\n",
      "Date:   2022-11-02  stopped at:  0\n",
      "Date:   2022-11-22  stopped at:  11\n",
      "Date:   2022-10-31  stopped at:  0\n",
      "Date:   2022-11-07  stopped at:  8\n",
      "Date:   2022-11-24  stopped at:  2\n",
      "Date:   2022-11-25  stopped at:  38\n",
      "Date:   2022-11-26  stopped at:  6\n",
      "Date:   2022-11-27  stopped at:  0\n",
      "Date:   2022-11-28  stopped at:  7\n",
      "Date:   2022-11-29  stopped at:  3\n",
      "Date:   2022-11-30  stopped at:  2\n"
     ]
    },
    {
     "data": {
      "application/vnd.jupyter.widget-view+json": {
       "model_id": "e28d01b4ba5e4dc39cdf61d252ca7275",
       "version_major": 2,
       "version_minor": 0
      },
      "text/plain": [
       "  0%|          | 0/60166 [00:00<?, ?it/s]"
      ]
     },
     "metadata": {},
     "output_type": "display_data"
    },
    {
     "name": "stdout",
     "output_type": "stream",
     "text": [
      "Date:   2022-11-22  stopped at:  0\n",
      "Date:   2022-11-21  stopped at:  9\n",
      "Date:   2022-11-10  stopped at:  2\n",
      "Date:   2022-10-31  stopped at:  7\n",
      "Date:   2022-11-05  stopped at:  0\n",
      "Date:   2022-11-24  stopped at:  1\n",
      "Date:   2022-11-06  stopped at:  1\n",
      "Date:   2022-11-02  stopped at:  2\n",
      "Date:   2022-11-07  stopped at:  0\n",
      "Date:   2022-11-14  stopped at:  4\n",
      "Date:   2022-11-18  stopped at:  1\n",
      "Date:   2022-11-20  stopped at:  0\n",
      "Date:   2022-11-04  stopped at:  1\n",
      "Date:   2022-11-03  stopped at:  10\n",
      "Date:   2022-11-01  stopped at:  3\n",
      "Date:   2022-11-17  stopped at:  4\n",
      "Date:   2022-11-11  stopped at:  10\n",
      "Date:   2022-11-12  stopped at:  15\n",
      "Date:   2022-11-23  stopped at:  2\n",
      "Date:   2022-11-15  stopped at:  4\n",
      "Date:   2022-11-09  stopped at:  0\n",
      "Date:   2022-11-19  stopped at:  1\n",
      "Date:   2022-11-13  stopped at:  5\n",
      "Date:   2022-11-16  stopped at:  4\n",
      "Date:   2022-11-08  stopped at:  10\n",
      "Date:   2022-11-24  stopped at:  17\n",
      "Date:   2022-11-25  stopped at:  5\n",
      "Date:   2022-11-26  stopped at:  13\n",
      "Date:   2022-11-27  stopped at:  1\n",
      "Date:   2022-11-28  stopped at:  1\n",
      "Date:   2022-11-29  stopped at:  0\n",
      "Date:   2022-11-30  stopped at:  1\n"
     ]
    },
    {
     "data": {
      "application/vnd.jupyter.widget-view+json": {
       "model_id": "a3b73d82a9fa4c1d9ece99fae6ecc062",
       "version_major": 2,
       "version_minor": 0
      },
      "text/plain": [
       "  0%|          | 0/60166 [00:00<?, ?it/s]"
      ]
     },
     "metadata": {},
     "output_type": "display_data"
    },
    {
     "name": "stdout",
     "output_type": "stream",
     "text": [
      "Date:   2022-11-09  stopped at:  9\n",
      "Date:   2022-11-11  stopped at:  20\n",
      "Date:   2022-11-04  stopped at:  2\n",
      "Date:   2022-11-10  stopped at:  13\n",
      "Date:   2022-11-18  stopped at:  0\n",
      "Date:   2022-11-21  stopped at:  2\n",
      "Date:   2022-11-24  stopped at:  1\n",
      "Date:   2022-11-06  stopped at:  6\n",
      "Date:   2022-11-14  stopped at:  9\n",
      "Date:   2022-11-07  stopped at:  0\n",
      "Date:   2022-11-08  stopped at:  0\n",
      "Date:   2022-11-03  stopped at:  8\n",
      "Date:   2022-11-17  stopped at:  3\n",
      "Date:   2022-11-22  stopped at:  14\n",
      "Date:   2022-11-01  stopped at:  2\n",
      "Date:   2022-11-02  stopped at:  7\n",
      "Date:   2022-11-19  stopped at:  14\n",
      "Date:   2022-11-05  stopped at:  2\n",
      "Date:   2022-10-31  stopped at:  2\n",
      "Date:   2022-11-20  stopped at:  4\n",
      "Date:   2022-11-16  stopped at:  2\n",
      "Date:   2022-11-13  stopped at:  13\n",
      "Date:   2022-11-15  stopped at:  6\n",
      "Date:   2022-11-12  stopped at:  2\n",
      "Date:   2022-11-23  stopped at:  2\n",
      "Date:   2022-11-24  stopped at:  0\n",
      "Date:   2022-11-25  stopped at:  12\n",
      "Date:   2022-11-26  stopped at:  8\n",
      "Date:   2022-11-27  stopped at:  0\n",
      "Date:   2022-11-28  stopped at:  0\n",
      "Date:   2022-11-29  stopped at:  0\n",
      "Date:   2022-11-30  stopped at:  8\n"
     ]
    },
    {
     "data": {
      "application/vnd.jupyter.widget-view+json": {
       "model_id": "7449b73493eb41928a9fdbde6a5af824",
       "version_major": 2,
       "version_minor": 0
      },
      "text/plain": [
       "  0%|          | 0/60166 [00:00<?, ?it/s]"
      ]
     },
     "metadata": {},
     "output_type": "display_data"
    },
    {
     "name": "stdout",
     "output_type": "stream",
     "text": [
      "Date:   2022-11-07  stopped at:  16\n",
      "Date:   2022-11-03  stopped at:  5\n",
      "Date:   2022-11-10  stopped at:  0\n",
      "Date:   2022-11-13  stopped at:  5\n",
      "Date:   2022-11-24  stopped at:  2\n",
      "Date:   2022-11-21  stopped at:  1\n",
      "Date:   2022-11-12  stopped at:  7\n",
      "Date:   2022-11-17  stopped at:  3\n",
      "Date:   2022-11-11  stopped at:  46\n",
      "Date:   2022-11-06  stopped at:  12\n",
      "Date:   2022-11-04  stopped at:  8\n",
      "Date:   2022-11-08  stopped at:  38\n",
      "Date:   2022-11-18  stopped at:  1\n",
      "Date:   2022-11-22  stopped at:  2\n",
      "Date:   2022-11-20  stopped at:  0\n",
      "Date:   2022-10-31  stopped at:  4\n",
      "Date:   2022-11-02  stopped at:  6\n",
      "Date:   2022-11-19  stopped at:  15\n",
      "Date:   2022-11-01  stopped at:  0\n",
      "Date:   2022-11-16  stopped at:  4\n",
      "Date:   2022-11-15  stopped at:  9\n",
      "Date:   2022-11-14  stopped at:  5\n",
      "Date:   2022-11-09  stopped at:  7\n",
      "Date:   2022-11-05  stopped at:  3\n",
      "Date:   2022-11-23  stopped at:  3\n",
      "Date:   2022-11-24  stopped at:  3\n",
      "Date:   2022-11-25  stopped at:  1\n",
      "Date:   2022-11-26  stopped at:  10\n",
      "Date:   2022-11-27  stopped at:  0\n",
      "Date:   2022-11-28  stopped at:  3\n",
      "Date:   2022-11-29  stopped at:  0\n",
      "Date:   2022-11-30  stopped at:  3\n"
     ]
    },
    {
     "data": {
      "application/vnd.jupyter.widget-view+json": {
       "model_id": "4fc6972687e7460488040fd2a3e22d05",
       "version_major": 2,
       "version_minor": 0
      },
      "text/plain": [
       "  0%|          | 0/60166 [00:00<?, ?it/s]"
      ]
     },
     "metadata": {},
     "output_type": "display_data"
    },
    {
     "name": "stdout",
     "output_type": "stream",
     "text": [
      "Date:   2022-11-11  stopped at:  21\n",
      "Date:   2022-11-24  stopped at:  1\n",
      "Date:   2022-11-03  stopped at:  0\n",
      "Date:   2022-11-09  stopped at:  0\n",
      "Date:   2022-11-08  stopped at:  1\n",
      "Date:   2022-11-12  stopped at:  0\n",
      "Date:   2022-11-20  stopped at:  24\n",
      "Date:   2022-11-07  stopped at:  0\n",
      "Date:   2022-11-01  stopped at:  7\n",
      "Date:   2022-11-17  stopped at:  3\n",
      "Date:   2022-11-19  stopped at:  3\n",
      "Date:   2022-11-05  stopped at:  10\n",
      "Date:   2022-11-14  stopped at:  1\n",
      "Date:   2022-11-13  stopped at:  6\n",
      "Date:   2022-11-06  stopped at:  2\n",
      "Date:   2022-11-18  stopped at:  11\n",
      "Date:   2022-11-21  stopped at:  1\n",
      "Date:   2022-11-22  stopped at:  2\n",
      "Date:   2022-11-02  stopped at:  4\n",
      "Date:   2022-10-31  stopped at:  0\n",
      "Date:   2022-11-15  stopped at:  1\n",
      "Date:   2022-11-16  stopped at:  28\n",
      "Date:   2022-11-10  stopped at:  4\n",
      "Date:   2022-11-04  stopped at:  4\n",
      "Date:   2022-11-23  stopped at:  3\n",
      "Date:   2022-11-24  stopped at:  5\n",
      "Date:   2022-11-25  stopped at:  0\n",
      "Date:   2022-11-26  stopped at:  1\n",
      "Date:   2022-11-27  stopped at:  11\n",
      "Date:   2022-11-28  stopped at:  1\n",
      "Date:   2022-11-29  stopped at:  1\n",
      "Date:   2022-11-30  stopped at:  4\n"
     ]
    },
    {
     "data": {
      "application/vnd.jupyter.widget-view+json": {
       "model_id": "d73991e520624015892ac7fa98bca6fb",
       "version_major": 2,
       "version_minor": 0
      },
      "text/plain": [
       "  0%|          | 0/60166 [00:00<?, ?it/s]"
      ]
     },
     "metadata": {},
     "output_type": "display_data"
    },
    {
     "name": "stdout",
     "output_type": "stream",
     "text": [
      "Date:   2022-11-02  stopped at:  4\n",
      "Date:   2022-11-24  stopped at:  2\n",
      "Date:   2022-11-06  stopped at:  7\n",
      "Date:   2022-11-15  stopped at:  3\n",
      "Date:   2022-11-14  stopped at:  1\n",
      "Date:   2022-11-18  stopped at:  1\n",
      "Date:   2022-11-23  stopped at:  2\n",
      "Date:   2022-11-19  stopped at:  12\n",
      "Date:   2022-11-20  stopped at:  13\n",
      "Date:   2022-11-17  stopped at:  0\n",
      "Date:   2022-11-04  stopped at:  0\n",
      "Date:   2022-11-03  stopped at:  0\n",
      "Date:   2022-11-07  stopped at:  5\n",
      "Date:   2022-11-09  stopped at:  0\n",
      "Date:   2022-11-22  stopped at:  0\n",
      "Date:   2022-10-31  stopped at:  0\n",
      "Date:   2022-11-11  stopped at:  13\n",
      "Date:   2022-11-13  stopped at:  10\n",
      "Date:   2022-11-12  stopped at:  13\n",
      "Date:   2022-11-16  stopped at:  7\n",
      "Date:   2022-11-21  stopped at:  1\n",
      "Date:   2022-11-01  stopped at:  1\n",
      "Date:   2022-11-08  stopped at:  19\n",
      "Date:   2022-11-05  stopped at:  5\n",
      "Date:   2022-11-10  stopped at:  0\n",
      "Date:   2022-11-24  stopped at:  13\n",
      "Date:   2022-11-25  stopped at:  31\n",
      "Date:   2022-11-26  stopped at:  9\n",
      "Date:   2022-11-27  stopped at:  6\n",
      "Date:   2022-11-28  stopped at:  2\n",
      "Date:   2022-11-29  stopped at:  1\n",
      "Date:   2022-11-30  stopped at:  0\n"
     ]
    },
    {
     "data": {
      "application/vnd.jupyter.widget-view+json": {
       "model_id": "40788ef0cb4242c889ce2c4a49b90be7",
       "version_major": 2,
       "version_minor": 0
      },
      "text/plain": [
       "  0%|          | 0/60166 [00:00<?, ?it/s]"
      ]
     },
     "metadata": {},
     "output_type": "display_data"
    },
    {
     "name": "stdout",
     "output_type": "stream",
     "text": [
      "Date:   2022-11-18  stopped at:  0\n",
      "Date:   2022-11-08  stopped at:  7\n",
      "Date:   2022-11-11  stopped at:  73\n",
      "Date:   2022-11-24  stopped at:  5\n",
      "Date:   2022-11-09  stopped at:  14\n",
      "Date:   2022-11-04  stopped at:  0\n",
      "Date:   2022-11-14  stopped at:  3\n",
      "Date:   2022-11-23  stopped at:  7\n",
      "Date:   2022-10-31  stopped at:  0\n",
      "Date:   2022-11-22  stopped at:  2\n",
      "Date:   2022-11-19  stopped at:  13\n",
      "Date:   2022-11-03  stopped at:  1\n",
      "Date:   2022-11-12  stopped at:  0\n",
      "Date:   2022-11-13  stopped at:  2\n",
      "Date:   2022-11-10  stopped at:  5\n",
      "Date:   2022-11-21  stopped at:  1\n",
      "Date:   2022-11-07  stopped at:  9\n",
      "Date:   2022-11-17  stopped at:  2\n",
      "Date:   2022-11-05  stopped at:  2\n",
      "Date:   2022-11-01  stopped at:  3\n",
      "Date:   2022-11-02  stopped at:  2\n",
      "Date:   2022-11-16  stopped at:  2\n",
      "Date:   2022-11-20  stopped at:  3\n",
      "Date:   2022-11-15  stopped at:  20\n",
      "Date:   2022-11-06  stopped at:  13\n",
      "Date:   2022-11-24  stopped at:  2\n",
      "Date:   2022-11-25  stopped at:  34\n",
      "Date:   2022-11-26  stopped at:  0\n",
      "Date:   2022-11-27  stopped at:  2\n",
      "Date:   2022-11-28  stopped at:  5\n",
      "Date:   2022-11-29  stopped at:  0\n",
      "Date:   2022-11-30  stopped at:  1\n"
     ]
    },
    {
     "data": {
      "application/vnd.jupyter.widget-view+json": {
       "model_id": "44255e9618854f03b4b85519d71b60e3",
       "version_major": 2,
       "version_minor": 0
      },
      "text/plain": [
       "  0%|          | 0/60166 [00:00<?, ?it/s]"
      ]
     },
     "metadata": {},
     "output_type": "display_data"
    },
    {
     "name": "stdout",
     "output_type": "stream",
     "text": [
      "Date:   2022-11-16  stopped at:  7\n",
      "Date:   2022-11-11  stopped at:  16\n",
      "Date:   2022-11-06  stopped at:  4\n",
      "Date:   2022-11-03  stopped at:  3\n",
      "Date:   2022-11-13  stopped at:  9\n",
      "Date:   2022-11-08  stopped at:  16\n",
      "Date:   2022-11-24  stopped at:  4\n",
      "Date:   2022-11-10  stopped at:  0\n",
      "Date:   2022-11-02  stopped at:  0\n",
      "Date:   2022-11-18  stopped at:  7\n",
      "Date:   2022-11-09  stopped at:  1\n",
      "Date:   2022-11-05  stopped at:  0\n",
      "Date:   2022-11-20  stopped at:  5\n",
      "Date:   2022-11-21  stopped at:  3\n",
      "Date:   2022-11-12  stopped at:  15\n",
      "Date:   2022-11-07  stopped at:  1\n",
      "Date:   2022-11-19  stopped at:  10\n",
      "Date:   2022-11-23  stopped at:  1\n",
      "Date:   2022-11-01  stopped at:  10\n",
      "Date:   2022-11-22  stopped at:  2\n",
      "Date:   2022-11-15  stopped at:  13\n",
      "Date:   2022-11-14  stopped at:  3\n",
      "Date:   2022-11-17  stopped at:  1\n",
      "Date:   2022-10-31  stopped at:  2\n",
      "Date:   2022-11-04  stopped at:  2\n",
      "Date:   2022-11-24  stopped at:  3\n",
      "Date:   2022-11-25  stopped at:  20\n",
      "Date:   2022-11-26  stopped at:  4\n",
      "Date:   2022-11-27  stopped at:  2\n",
      "Date:   2022-11-28  stopped at:  0\n",
      "Date:   2022-11-29  stopped at:  7\n",
      "Date:   2022-11-30  stopped at:  13\n"
     ]
    },
    {
     "data": {
      "application/vnd.jupyter.widget-view+json": {
       "model_id": "8686e04f2b3143dc939121dea9677370",
       "version_major": 2,
       "version_minor": 0
      },
      "text/plain": [
       "  0%|          | 0/60166 [00:00<?, ?it/s]"
      ]
     },
     "metadata": {},
     "output_type": "display_data"
    },
    {
     "name": "stdout",
     "output_type": "stream",
     "text": [
      "Date:   2022-11-23  stopped at:  3\n",
      "Date:   2022-11-06  stopped at:  0\n",
      "Date:   2022-11-01  stopped at:  2\n",
      "Date:   2022-11-02  stopped at:  0\n",
      "Date:   2022-11-07  stopped at:  10\n",
      "Date:   2022-11-18  stopped at:  4\n",
      "Date:   2022-11-21  stopped at:  2\n",
      "Date:   2022-10-31  stopped at:  8\n",
      "Date:   2022-11-15  stopped at:  6\n",
      "Date:   2022-11-17  stopped at:  0\n",
      "Date:   2022-11-04  stopped at:  6\n",
      "Date:   2022-11-16  stopped at:  12\n",
      "Date:   2022-11-13  stopped at:  2\n",
      "Date:   2022-11-19  stopped at:  0\n",
      "Date:   2022-11-22  stopped at:  2\n",
      "Date:   2022-11-12  stopped at:  1\n",
      "Date:   2022-11-20  stopped at:  2\n",
      "Date:   2022-11-08  stopped at:  14\n",
      "Date:   2022-11-03  stopped at:  5\n",
      "Date:   2022-11-05  stopped at:  5\n",
      "Date:   2022-11-10  stopped at:  0\n",
      "Date:   2022-11-09  stopped at:  9\n",
      "Date:   2022-11-11  stopped at:  68\n",
      "Date:   2022-11-24  stopped at:  3\n",
      "Date:   2022-11-14  stopped at:  0\n",
      "Date:   2022-11-24  stopped at:  31\n",
      "Date:   2022-11-25  stopped at:  41\n",
      "Date:   2022-11-26  stopped at:  6\n",
      "Date:   2022-11-27  stopped at:  3\n",
      "Date:   2022-11-28  stopped at:  3\n",
      "Date:   2022-11-29  stopped at:  5\n",
      "Date:   2022-11-30  stopped at:  10\n"
     ]
    },
    {
     "data": {
      "application/vnd.jupyter.widget-view+json": {
       "model_id": "6851cba573184028aee94140b266ecc4",
       "version_major": 2,
       "version_minor": 0
      },
      "text/plain": [
       "  0%|          | 0/60166 [00:00<?, ?it/s]"
      ]
     },
     "metadata": {},
     "output_type": "display_data"
    },
    {
     "name": "stdout",
     "output_type": "stream",
     "text": [
      "Date:   2022-11-08  stopped at:  2\n",
      "Date:   2022-11-04  stopped at:  4\n",
      "Date:   2022-11-03  stopped at:  2\n",
      "Date:   2022-11-13  stopped at:  4\n",
      "Date:   2022-11-15  stopped at:  9\n",
      "Date:   2022-11-02  stopped at:  4\n",
      "Date:   2022-11-12  stopped at:  13\n",
      "Date:   2022-11-16  stopped at:  10\n",
      "Date:   2022-11-10  stopped at:  2\n",
      "Date:   2022-11-22  stopped at:  19\n",
      "Date:   2022-11-01  stopped at:  2\n",
      "Date:   2022-11-14  stopped at:  1\n",
      "Date:   2022-11-20  stopped at:  2\n",
      "Date:   2022-11-09  stopped at:  3\n",
      "Date:   2022-11-05  stopped at:  0\n",
      "Date:   2022-11-18  stopped at:  5\n",
      "Date:   2022-11-11  stopped at:  7\n",
      "Date:   2022-11-07  stopped at:  11\n",
      "Date:   2022-11-21  stopped at:  4\n",
      "Date:   2022-11-23  stopped at:  3\n",
      "Date:   2022-11-19  stopped at:  0\n",
      "Date:   2022-10-31  stopped at:  2\n",
      "Date:   2022-11-06  stopped at:  32\n",
      "Date:   2022-11-17  stopped at:  3\n",
      "Date:   2022-11-24  stopped at:  9\n",
      "Date:   2022-11-24  stopped at:  7\n",
      "Date:   2022-11-25  stopped at:  3\n",
      "Date:   2022-11-26  stopped at:  6\n",
      "Date:   2022-11-27  stopped at:  0\n",
      "Date:   2022-11-28  stopped at:  8\n",
      "Date:   2022-11-29  stopped at:  5\n",
      "Date:   2022-11-30  stopped at:  0\n"
     ]
    },
    {
     "data": {
      "application/vnd.jupyter.widget-view+json": {
       "model_id": "137a1ea8f347425887a15b9d8b122feb",
       "version_major": 2,
       "version_minor": 0
      },
      "text/plain": [
       "  0%|          | 0/60166 [00:00<?, ?it/s]"
      ]
     },
     "metadata": {},
     "output_type": "display_data"
    },
    {
     "name": "stdout",
     "output_type": "stream",
     "text": [
      "Date:   2022-11-09  stopped at:  14\n",
      "Date:   2022-11-15  stopped at:  5\n",
      "Date:   2022-11-18  stopped at:  1\n",
      "Date:   2022-11-08  stopped at:  2\n",
      "Date:   2022-11-03  stopped at:  0\n",
      "Date:   2022-11-24  stopped at:  8\n",
      "Date:   2022-11-07  stopped at:  2\n",
      "Date:   2022-11-20  stopped at:  2\n",
      "Date:   2022-11-21  stopped at:  1\n",
      "Date:   2022-11-22  stopped at:  23\n",
      "Date:   2022-10-31  stopped at:  8\n",
      "Date:   2022-11-06  stopped at:  2\n",
      "Date:   2022-11-12  stopped at:  0\n",
      "Date:   2022-11-23  stopped at:  5\n",
      "Date:   2022-11-14  stopped at:  5\n",
      "Date:   2022-11-11  stopped at:  26\n",
      "Date:   2022-11-04  stopped at:  8\n",
      "Date:   2022-11-19  stopped at:  0\n",
      "Date:   2022-11-02  stopped at:  2\n",
      "Date:   2022-11-05  stopped at:  0\n",
      "Date:   2022-11-17  stopped at:  4\n",
      "Date:   2022-11-16  stopped at:  5\n",
      "Date:   2022-11-10  stopped at:  1\n",
      "Date:   2022-11-13  stopped at:  10\n",
      "Date:   2022-11-01  stopped at:  7\n",
      "Date:   2022-11-24  stopped at:  15\n",
      "Date:   2022-11-25  stopped at:  10\n",
      "Date:   2022-11-26  stopped at:  3\n",
      "Date:   2022-11-27  stopped at:  1\n",
      "Date:   2022-11-28  stopped at:  3\n",
      "Date:   2022-11-29  stopped at:  4\n",
      "Date:   2022-11-30  stopped at:  1\n"
     ]
    },
    {
     "data": {
      "application/vnd.jupyter.widget-view+json": {
       "model_id": "efe6053f8c654a5d958b4048ef60c8ef",
       "version_major": 2,
       "version_minor": 0
      },
      "text/plain": [
       "  0%|          | 0/60166 [00:00<?, ?it/s]"
      ]
     },
     "metadata": {},
     "output_type": "display_data"
    },
    {
     "name": "stdout",
     "output_type": "stream",
     "text": [
      "Date:   2022-11-21  stopped at:  6\n",
      "Date:   2022-11-15  stopped at:  0\n",
      "Date:   2022-11-10  stopped at:  1\n",
      "Date:   2022-11-22  stopped at:  0\n",
      "Date:   2022-11-23  stopped at:  4\n",
      "Date:   2022-11-08  stopped at:  3\n",
      "Date:   2022-11-19  stopped at:  19\n",
      "Date:   2022-11-09  stopped at:  0\n",
      "Date:   2022-11-16  stopped at:  4\n",
      "Date:   2022-10-31  stopped at:  4\n",
      "Date:   2022-11-04  stopped at:  0\n",
      "Date:   2022-11-05  stopped at:  0\n",
      "Date:   2022-11-11  stopped at:  5\n",
      "Date:   2022-11-18  stopped at:  2\n",
      "Date:   2022-11-01  stopped at:  0\n",
      "Date:   2022-11-13  stopped at:  1\n",
      "Date:   2022-11-02  stopped at:  0\n",
      "Date:   2022-11-24  stopped at:  14\n",
      "Date:   2022-11-14  stopped at:  6\n",
      "Date:   2022-11-07  stopped at:  0\n",
      "Date:   2022-11-03  stopped at:  3\n",
      "Date:   2022-11-06  stopped at:  11\n",
      "Date:   2022-11-20  stopped at:  8\n",
      "Date:   2022-11-12  stopped at:  3\n",
      "Date:   2022-11-17  stopped at:  0\n",
      "Date:   2022-11-24  stopped at:  8\n",
      "Date:   2022-11-25  stopped at:  17\n",
      "Date:   2022-11-26  stopped at:  13\n",
      "Date:   2022-11-27  stopped at:  1\n",
      "Date:   2022-11-28  stopped at:  0\n",
      "Date:   2022-11-29  stopped at:  0\n",
      "Date:   2022-11-30  stopped at:  6\n"
     ]
    },
    {
     "data": {
      "application/vnd.jupyter.widget-view+json": {
       "model_id": "dbb4f9eef4fc488ab5498fa5371767e7",
       "version_major": 2,
       "version_minor": 0
      },
      "text/plain": [
       "  0%|          | 0/60166 [00:00<?, ?it/s]"
      ]
     },
     "metadata": {},
     "output_type": "display_data"
    },
    {
     "name": "stdout",
     "output_type": "stream",
     "text": [
      "Date:   2022-11-14  stopped at:  2\n",
      "Date:   2022-10-31  stopped at:  0\n",
      "Date:   2022-11-19  stopped at:  8\n",
      "Date:   2022-11-05  stopped at:  2\n",
      "Date:   2022-11-08  stopped at:  6\n",
      "Date:   2022-11-04  stopped at:  1\n",
      "Date:   2022-11-01  stopped at:  1\n",
      "Date:   2022-11-07  stopped at:  7\n",
      "Date:   2022-11-16  stopped at:  2\n",
      "Date:   2022-11-13  stopped at:  4\n",
      "Date:   2022-11-20  stopped at:  2\n",
      "Date:   2022-11-12  stopped at:  4\n",
      "Date:   2022-11-22  stopped at:  4\n",
      "Date:   2022-11-15  stopped at:  0\n",
      "Date:   2022-11-11  stopped at:  27\n",
      "Date:   2022-11-21  stopped at:  7\n",
      "Date:   2022-11-23  stopped at:  4\n",
      "Date:   2022-11-17  stopped at:  7\n",
      "Date:   2022-11-06  stopped at:  24\n",
      "Date:   2022-11-09  stopped at:  0\n",
      "Date:   2022-11-03  stopped at:  1\n",
      "Date:   2022-11-10  stopped at:  10\n",
      "Date:   2022-11-18  stopped at:  0\n",
      "Date:   2022-11-24  stopped at:  4\n",
      "Date:   2022-11-02  stopped at:  4\n",
      "Date:   2022-11-24  stopped at:  42\n",
      "Date:   2022-11-25  stopped at:  2\n",
      "Date:   2022-11-26  stopped at:  2\n",
      "Date:   2022-11-27  stopped at:  0\n",
      "Date:   2022-11-28  stopped at:  2\n",
      "Date:   2022-11-29  stopped at:  0\n",
      "Date:   2022-11-30  stopped at:  1\n"
     ]
    },
    {
     "data": {
      "application/vnd.jupyter.widget-view+json": {
       "model_id": "6fce12cfca8544aa8fb1d4ff42ac008f",
       "version_major": 2,
       "version_minor": 0
      },
      "text/plain": [
       "  0%|          | 0/60166 [00:00<?, ?it/s]"
      ]
     },
     "metadata": {},
     "output_type": "display_data"
    },
    {
     "name": "stdout",
     "output_type": "stream",
     "text": [
      "Date:   2022-11-02  stopped at:  3\n",
      "Date:   2022-11-06  stopped at:  12\n",
      "Date:   2022-11-14  stopped at:  5\n",
      "Date:   2022-11-09  stopped at:  10\n",
      "Date:   2022-11-11  stopped at:  2\n",
      "Date:   2022-11-08  stopped at:  3\n",
      "Date:   2022-11-24  stopped at:  1\n",
      "Date:   2022-10-31  stopped at:  3\n",
      "Date:   2022-11-17  stopped at:  10\n",
      "Date:   2022-11-20  stopped at:  0\n",
      "Date:   2022-11-05  stopped at:  6\n",
      "Date:   2022-11-10  stopped at:  3\n",
      "Date:   2022-11-15  stopped at:  1\n",
      "Date:   2022-11-19  stopped at:  3\n",
      "Date:   2022-11-13  stopped at:  6\n",
      "Date:   2022-11-04  stopped at:  11\n",
      "Date:   2022-11-07  stopped at:  6\n",
      "Date:   2022-11-01  stopped at:  2\n",
      "Date:   2022-11-16  stopped at:  10\n",
      "Date:   2022-11-23  stopped at:  2\n",
      "Date:   2022-11-21  stopped at:  5\n",
      "Date:   2022-11-12  stopped at:  0\n",
      "Date:   2022-11-18  stopped at:  0\n",
      "Date:   2022-11-03  stopped at:  6\n",
      "Date:   2022-11-22  stopped at:  7\n",
      "Date:   2022-11-24  stopped at:  23\n",
      "Date:   2022-11-25  stopped at:  20\n",
      "Date:   2022-11-26  stopped at:  9\n",
      "Date:   2022-11-27  stopped at:  4\n",
      "Date:   2022-11-28  stopped at:  14\n",
      "Date:   2022-11-29  stopped at:  0\n",
      "Date:   2022-11-30  stopped at:  3\n"
     ]
    },
    {
     "data": {
      "application/vnd.jupyter.widget-view+json": {
       "model_id": "284a878427384ba9893c134b15f06c96",
       "version_major": 2,
       "version_minor": 0
      },
      "text/plain": [
       "  0%|          | 0/60166 [00:00<?, ?it/s]"
      ]
     },
     "metadata": {},
     "output_type": "display_data"
    },
    {
     "name": "stdout",
     "output_type": "stream",
     "text": [
      "Date:   2022-11-15  stopped at:  3\n",
      "Date:   2022-11-24  stopped at:  5\n",
      "Date:   2022-11-04  stopped at:  2\n",
      "Date:   2022-11-18  stopped at:  0\n",
      "Date:   2022-11-08  stopped at:  8\n",
      "Date:   2022-11-10  stopped at:  2\n",
      "Date:   2022-11-09  stopped at:  6\n",
      "Date:   2022-11-05  stopped at:  0\n",
      "Date:   2022-11-21  stopped at:  2\n",
      "Date:   2022-11-11  stopped at:  38\n",
      "Date:   2022-11-20  stopped at:  1\n",
      "Date:   2022-11-03  stopped at:  0\n",
      "Date:   2022-11-06  stopped at:  31\n",
      "Date:   2022-11-02  stopped at:  3\n",
      "Date:   2022-11-19  stopped at:  0\n",
      "Date:   2022-11-22  stopped at:  6\n",
      "Date:   2022-11-16  stopped at:  12\n",
      "Date:   2022-11-17  stopped at:  1\n",
      "Date:   2022-11-07  stopped at:  4\n",
      "Date:   2022-11-01  stopped at:  3\n",
      "Date:   2022-11-14  stopped at:  2\n",
      "Date:   2022-10-31  stopped at:  12\n",
      "Date:   2022-11-13  stopped at:  10\n",
      "Date:   2022-11-23  stopped at:  0\n",
      "Date:   2022-11-12  stopped at:  22\n",
      "Date:   2022-11-24  stopped at:  46\n",
      "Date:   2022-11-25  stopped at:  19\n",
      "Date:   2022-11-26  stopped at:  9\n",
      "Date:   2022-11-27  stopped at:  1\n",
      "Date:   2022-11-28  stopped at:  0\n",
      "Date:   2022-11-29  stopped at:  15\n",
      "Date:   2022-11-30  stopped at:  6\n"
     ]
    },
    {
     "data": {
      "application/vnd.jupyter.widget-view+json": {
       "model_id": "c852dc7666a64748a1cc29e1f2fbdeab",
       "version_major": 2,
       "version_minor": 0
      },
      "text/plain": [
       "  0%|          | 0/60166 [00:00<?, ?it/s]"
      ]
     },
     "metadata": {},
     "output_type": "display_data"
    },
    {
     "name": "stdout",
     "output_type": "stream",
     "text": [
      "Date:   2022-11-23  stopped at:  3\n",
      "Date:   2022-11-04  stopped at:  1\n",
      "Date:   2022-11-21  stopped at:  3\n",
      "Date:   2022-11-08  stopped at:  9\n",
      "Date:   2022-11-17  stopped at:  9\n",
      "Date:   2022-11-01  stopped at:  12\n",
      "Date:   2022-11-22  stopped at:  8\n",
      "Date:   2022-11-11  stopped at:  39\n",
      "Date:   2022-11-24  stopped at:  11\n",
      "Date:   2022-11-14  stopped at:  2\n",
      "Date:   2022-11-20  stopped at:  6\n",
      "Date:   2022-11-05  stopped at:  10\n",
      "Date:   2022-11-16  stopped at:  21\n",
      "Date:   2022-11-19  stopped at:  2\n",
      "Date:   2022-11-12  stopped at:  13\n",
      "Date:   2022-11-18  stopped at:  0\n",
      "Date:   2022-11-13  stopped at:  6\n",
      "Date:   2022-11-03  stopped at:  2\n",
      "Date:   2022-10-31  stopped at:  1\n",
      "Date:   2022-11-02  stopped at:  13\n",
      "Date:   2022-11-06  stopped at:  23\n",
      "Date:   2022-11-07  stopped at:  14\n",
      "Date:   2022-11-09  stopped at:  2\n",
      "Date:   2022-11-10  stopped at:  7\n",
      "Date:   2022-11-15  stopped at:  14\n",
      "Date:   2022-11-24  stopped at:  22\n",
      "Date:   2022-11-25  stopped at:  32\n",
      "Date:   2022-11-26  stopped at:  2\n",
      "Date:   2022-11-27  stopped at:  2\n",
      "Date:   2022-11-28  stopped at:  0\n",
      "Date:   2022-11-29  stopped at:  2\n",
      "Date:   2022-11-30  stopped at:  4\n"
     ]
    },
    {
     "data": {
      "application/vnd.jupyter.widget-view+json": {
       "model_id": "8fad2a8fa3734cbe911d4c2f21612db9",
       "version_major": 2,
       "version_minor": 0
      },
      "text/plain": [
       "  0%|          | 0/60166 [00:00<?, ?it/s]"
      ]
     },
     "metadata": {},
     "output_type": "display_data"
    },
    {
     "name": "stdout",
     "output_type": "stream",
     "text": [
      "Date:   2022-11-02  stopped at:  0\n",
      "Date:   2022-11-04  stopped at:  12\n",
      "Date:   2022-11-10  stopped at:  1\n",
      "Date:   2022-11-13  stopped at:  12\n",
      "Date:   2022-11-14  stopped at:  0\n",
      "Date:   2022-11-01  stopped at:  4\n",
      "Date:   2022-11-18  stopped at:  5\n",
      "Date:   2022-11-23  stopped at:  6\n",
      "Date:   2022-11-22  stopped at:  6\n",
      "Date:   2022-11-07  stopped at:  2\n",
      "Date:   2022-11-05  stopped at:  4\n",
      "Date:   2022-11-06  stopped at:  45\n",
      "Date:   2022-11-16  stopped at:  1\n",
      "Date:   2022-11-15  stopped at:  6\n",
      "Date:   2022-11-20  stopped at:  5\n",
      "Date:   2022-11-11  stopped at:  9\n",
      "Date:   2022-11-09  stopped at:  1\n",
      "Date:   2022-11-21  stopped at:  14\n",
      "Date:   2022-11-17  stopped at:  6\n",
      "Date:   2022-10-31  stopped at:  1\n",
      "Date:   2022-11-24  stopped at:  5\n",
      "Date:   2022-11-19  stopped at:  1\n",
      "Date:   2022-11-12  stopped at:  9\n",
      "Date:   2022-11-08  stopped at:  17\n",
      "Date:   2022-11-03  stopped at:  3\n",
      "Date:   2022-11-24  stopped at:  29\n",
      "Date:   2022-11-25  stopped at:  14\n",
      "Date:   2022-11-26  stopped at:  4\n",
      "Date:   2022-11-27  stopped at:  1\n",
      "Date:   2022-11-28  stopped at:  1\n",
      "Date:   2022-11-29  stopped at:  0\n",
      "Date:   2022-11-30  stopped at:  0\n"
     ]
    },
    {
     "data": {
      "application/vnd.jupyter.widget-view+json": {
       "model_id": "a3b0a63a82a345fdab1f1ac0bbb60e99",
       "version_major": 2,
       "version_minor": 0
      },
      "text/plain": [
       "  0%|          | 0/60166 [00:00<?, ?it/s]"
      ]
     },
     "metadata": {},
     "output_type": "display_data"
    },
    {
     "name": "stdout",
     "output_type": "stream",
     "text": [
      "Date:   2022-11-08  stopped at:  19\n",
      "Date:   2022-11-09  stopped at:  13\n",
      "Date:   2022-11-24  stopped at:  2\n",
      "Date:   2022-11-22  stopped at:  13\n",
      "Date:   2022-11-06  stopped at:  10\n",
      "Date:   2022-11-14  stopped at:  3\n",
      "Date:   2022-11-02  stopped at:  0\n",
      "Date:   2022-11-03  stopped at:  1\n",
      "Date:   2022-11-15  stopped at:  5\n",
      "Date:   2022-11-12  stopped at:  18\n",
      "Date:   2022-11-07  stopped at:  11\n",
      "Date:   2022-11-23  stopped at:  5\n",
      "Date:   2022-11-10  stopped at:  0\n",
      "Date:   2022-11-20  stopped at:  15\n",
      "Date:   2022-11-18  stopped at:  9\n",
      "Date:   2022-11-21  stopped at:  2\n",
      "Date:   2022-11-17  stopped at:  14\n",
      "Date:   2022-11-16  stopped at:  0\n",
      "Date:   2022-11-13  stopped at:  2\n",
      "Date:   2022-11-04  stopped at:  2\n",
      "Date:   2022-10-31  stopped at:  4\n",
      "Date:   2022-11-19  stopped at:  0\n",
      "Date:   2022-11-05  stopped at:  6\n",
      "Date:   2022-11-11  stopped at:  4\n",
      "Date:   2022-11-01  stopped at:  0\n",
      "Date:   2022-11-24  stopped at:  5\n",
      "Date:   2022-11-25  stopped at:  5\n",
      "Date:   2022-11-26  stopped at:  7\n",
      "Date:   2022-11-27  stopped at:  0\n",
      "Date:   2022-11-28  stopped at:  7\n",
      "Date:   2022-11-29  stopped at:  3\n",
      "Date:   2022-11-30  stopped at:  6\n"
     ]
    },
    {
     "data": {
      "application/vnd.jupyter.widget-view+json": {
       "model_id": "ecf0c7d524dc42aa8fede9fc493b577e",
       "version_major": 2,
       "version_minor": 0
      },
      "text/plain": [
       "  0%|          | 0/60166 [00:00<?, ?it/s]"
      ]
     },
     "metadata": {},
     "output_type": "display_data"
    },
    {
     "name": "stdout",
     "output_type": "stream",
     "text": [
      "Date:   2022-11-11  stopped at:  3\n",
      "Date:   2022-11-01  stopped at:  0\n",
      "Date:   2022-11-23  stopped at:  1\n",
      "Date:   2022-11-24  stopped at:  10\n",
      "Date:   2022-10-31  stopped at:  8\n",
      "Date:   2022-11-18  stopped at:  6\n",
      "Date:   2022-11-10  stopped at:  10\n",
      "Date:   2022-11-08  stopped at:  4\n",
      "Date:   2022-11-19  stopped at:  34\n",
      "Date:   2022-11-14  stopped at:  0\n",
      "Date:   2022-11-13  stopped at:  0\n",
      "Date:   2022-11-04  stopped at:  11\n",
      "Date:   2022-11-16  stopped at:  7\n",
      "Date:   2022-11-02  stopped at:  1\n",
      "Date:   2022-11-07  stopped at:  15\n",
      "Date:   2022-11-21  stopped at:  9\n",
      "Date:   2022-11-09  stopped at:  3\n",
      "Date:   2022-11-12  stopped at:  0\n",
      "Date:   2022-11-06  stopped at:  15\n",
      "Date:   2022-11-17  stopped at:  0\n",
      "Date:   2022-11-15  stopped at:  0\n",
      "Date:   2022-11-05  stopped at:  20\n",
      "Date:   2022-11-20  stopped at:  3\n",
      "Date:   2022-11-03  stopped at:  0\n",
      "Date:   2022-11-22  stopped at:  2\n",
      "Date:   2022-11-24  stopped at:  17\n",
      "Date:   2022-11-25  stopped at:  2\n",
      "Date:   2022-11-26  stopped at:  1\n",
      "Date:   2022-11-27  stopped at:  1\n",
      "Date:   2022-11-28  stopped at:  0\n",
      "Date:   2022-11-29  stopped at:  1\n",
      "Date:   2022-11-30  stopped at:  12\n"
     ]
    },
    {
     "data": {
      "application/vnd.jupyter.widget-view+json": {
       "model_id": "e5c9562e24ab41189120ddf093ec0113",
       "version_major": 2,
       "version_minor": 0
      },
      "text/plain": [
       "  0%|          | 0/60166 [00:00<?, ?it/s]"
      ]
     },
     "metadata": {},
     "output_type": "display_data"
    },
    {
     "name": "stdout",
     "output_type": "stream",
     "text": [
      "Date:   2022-10-31  stopped at:  0\n",
      "Date:   2022-11-21  stopped at:  3\n",
      "Date:   2022-11-08  stopped at:  5\n",
      "Date:   2022-11-17  stopped at:  34\n",
      "Date:   2022-11-07  stopped at:  20\n",
      "Date:   2022-11-23  stopped at:  0\n",
      "Date:   2022-11-13  stopped at:  0\n",
      "Date:   2022-11-11  stopped at:  26\n",
      "Date:   2022-11-04  stopped at:  1\n",
      "Date:   2022-11-24  stopped at:  0\n",
      "Date:   2022-11-03  stopped at:  3\n",
      "Date:   2022-11-14  stopped at:  0\n",
      "Date:   2022-11-06  stopped at:  4\n",
      "Date:   2022-11-15  stopped at:  1\n",
      "Date:   2022-11-01  stopped at:  2\n",
      "Date:   2022-11-10  stopped at:  7\n",
      "Date:   2022-11-09  stopped at:  8\n",
      "Date:   2022-11-12  stopped at:  7\n",
      "Date:   2022-11-05  stopped at:  11\n",
      "Date:   2022-11-16  stopped at:  0\n",
      "Date:   2022-11-02  stopped at:  2\n",
      "Date:   2022-11-18  stopped at:  2\n",
      "Date:   2022-11-19  stopped at:  16\n",
      "Date:   2022-11-20  stopped at:  5\n",
      "Date:   2022-11-22  stopped at:  1\n",
      "Date:   2022-11-24  stopped at:  27\n",
      "Date:   2022-11-25  stopped at:  0\n",
      "Date:   2022-11-26  stopped at:  2\n",
      "Date:   2022-11-27  stopped at:  1\n",
      "Date:   2022-11-28  stopped at:  1\n",
      "Date:   2022-11-29  stopped at:  5\n",
      "Date:   2022-11-30  stopped at:  2\n"
     ]
    },
    {
     "data": {
      "application/vnd.jupyter.widget-view+json": {
       "model_id": "977d8251205544d6bdb3a835d2ac5516",
       "version_major": 2,
       "version_minor": 0
      },
      "text/plain": [
       "  0%|          | 0/60166 [00:00<?, ?it/s]"
      ]
     },
     "metadata": {},
     "output_type": "display_data"
    },
    {
     "name": "stdout",
     "output_type": "stream",
     "text": [
      "Date:   2022-11-06  stopped at:  10\n",
      "Date:   2022-11-09  stopped at:  4\n",
      "Date:   2022-11-07  stopped at:  0\n",
      "Date:   2022-11-10  stopped at:  4\n",
      "Date:   2022-11-22  stopped at:  0\n",
      "Date:   2022-11-23  stopped at:  5\n",
      "Date:   2022-11-15  stopped at:  1\n",
      "Date:   2022-11-24  stopped at:  0\n",
      "Date:   2022-11-20  stopped at:  0\n",
      "Date:   2022-11-19  stopped at:  11\n",
      "Date:   2022-11-08  stopped at:  12\n",
      "Date:   2022-11-12  stopped at:  6\n",
      "Date:   2022-11-03  stopped at:  5\n",
      "Date:   2022-11-02  stopped at:  1\n",
      "Date:   2022-11-14  stopped at:  3\n",
      "Date:   2022-11-01  stopped at:  9\n",
      "Date:   2022-11-13  stopped at:  12\n",
      "Date:   2022-11-21  stopped at:  6\n",
      "Date:   2022-11-05  stopped at:  11\n",
      "Date:   2022-11-11  stopped at:  88\n",
      "Date:   2022-10-31  stopped at:  6\n",
      "Date:   2022-11-17  stopped at:  3\n",
      "Date:   2022-11-04  stopped at:  6\n",
      "Date:   2022-11-16  stopped at:  31\n",
      "Date:   2022-11-18  stopped at:  0\n",
      "Date:   2022-11-24  stopped at:  8\n",
      "Date:   2022-11-25  stopped at:  15\n",
      "Date:   2022-11-26  stopped at:  5\n",
      "Date:   2022-11-27  stopped at:  0\n",
      "Date:   2022-11-28  stopped at:  4\n",
      "Date:   2022-11-29  stopped at:  6\n",
      "Date:   2022-11-30  stopped at:  1\n"
     ]
    },
    {
     "data": {
      "application/vnd.jupyter.widget-view+json": {
       "model_id": "d30fb204027e442a9c421a41e16a8ad0",
       "version_major": 2,
       "version_minor": 0
      },
      "text/plain": [
       "  0%|          | 0/60166 [00:00<?, ?it/s]"
      ]
     },
     "metadata": {},
     "output_type": "display_data"
    },
    {
     "name": "stdout",
     "output_type": "stream",
     "text": [
      "Date:   2022-11-12  stopped at:  3\n",
      "Date:   2022-11-10  stopped at:  4\n",
      "Date:   2022-11-18  stopped at:  3\n",
      "Date:   2022-11-11  stopped at:  115\n",
      "Date:   2022-11-06  stopped at:  6\n",
      "Date:   2022-11-17  stopped at:  4\n",
      "Date:   2022-11-08  stopped at:  5\n",
      "Date:   2022-11-22  stopped at:  12\n",
      "Date:   2022-11-14  stopped at:  1\n",
      "Date:   2022-10-31  stopped at:  4\n",
      "Date:   2022-11-09  stopped at:  10\n",
      "Date:   2022-11-21  stopped at:  2\n",
      "Date:   2022-11-02  stopped at:  6\n",
      "Date:   2022-11-07  stopped at:  9\n",
      "Date:   2022-11-24  stopped at:  12\n",
      "Date:   2022-11-19  stopped at:  0\n",
      "Date:   2022-11-20  stopped at:  9\n",
      "Date:   2022-11-16  stopped at:  5\n",
      "Date:   2022-11-13  stopped at:  0\n",
      "Date:   2022-11-23  stopped at:  6\n",
      "Date:   2022-11-04  stopped at:  0\n",
      "Date:   2022-11-03  stopped at:  0\n",
      "Date:   2022-11-01  stopped at:  6\n",
      "Date:   2022-11-15  stopped at:  9\n",
      "Date:   2022-11-05  stopped at:  0\n",
      "Date:   2022-11-24  stopped at:  19\n",
      "Date:   2022-11-25  stopped at:  5\n",
      "Date:   2022-11-26  stopped at:  3\n",
      "Date:   2022-11-27  stopped at:  41\n",
      "Date:   2022-11-28  stopped at:  1\n",
      "Date:   2022-11-29  stopped at:  9\n",
      "Date:   2022-11-30  stopped at:  0\n"
     ]
    },
    {
     "data": {
      "application/vnd.jupyter.widget-view+json": {
       "model_id": "115f525c1d46462f952be863b75e36ff",
       "version_major": 2,
       "version_minor": 0
      },
      "text/plain": [
       "  0%|          | 0/60166 [00:00<?, ?it/s]"
      ]
     },
     "metadata": {},
     "output_type": "display_data"
    },
    {
     "name": "stdout",
     "output_type": "stream",
     "text": [
      "Date:   2022-11-08  stopped at:  69\n",
      "Date:   2022-11-12  stopped at:  22\n",
      "Date:   2022-11-23  stopped at:  4\n",
      "Date:   2022-11-11  stopped at:  22\n",
      "Date:   2022-11-18  stopped at:  6\n",
      "Date:   2022-11-22  stopped at:  0\n",
      "Date:   2022-11-03  stopped at:  6\n",
      "Date:   2022-11-02  stopped at:  4\n",
      "Date:   2022-11-19  stopped at:  0\n",
      "Date:   2022-11-07  stopped at:  0\n",
      "Date:   2022-11-13  stopped at:  2\n",
      "Date:   2022-11-17  stopped at:  15\n",
      "Date:   2022-11-20  stopped at:  3\n",
      "Date:   2022-10-31  stopped at:  3\n",
      "Date:   2022-11-14  stopped at:  4\n",
      "Date:   2022-11-05  stopped at:  1\n",
      "Date:   2022-11-04  stopped at:  4\n",
      "Date:   2022-11-10  stopped at:  1\n",
      "Date:   2022-11-16  stopped at:  18\n",
      "Date:   2022-11-09  stopped at:  8\n",
      "Date:   2022-11-24  stopped at:  3\n",
      "Date:   2022-11-15  stopped at:  2\n",
      "Date:   2022-11-21  stopped at:  1\n",
      "Date:   2022-11-06  stopped at:  0\n",
      "Date:   2022-11-01  stopped at:  4\n",
      "Date:   2022-11-24  stopped at:  45\n",
      "Date:   2022-11-25  stopped at:  3\n",
      "Date:   2022-11-26  stopped at:  1\n",
      "Date:   2022-11-27  stopped at:  6\n",
      "Date:   2022-11-28  stopped at:  6\n",
      "Date:   2022-11-29  stopped at:  0\n",
      "Date:   2022-11-30  stopped at:  0\n"
     ]
    },
    {
     "data": {
      "application/vnd.jupyter.widget-view+json": {
       "model_id": "3b66781e811c418ba7afc162ac18663c",
       "version_major": 2,
       "version_minor": 0
      },
      "text/plain": [
       "  0%|          | 0/60166 [00:00<?, ?it/s]"
      ]
     },
     "metadata": {},
     "output_type": "display_data"
    },
    {
     "name": "stdout",
     "output_type": "stream",
     "text": [
      "Date:   2022-11-23  stopped at:  2\n",
      "Date:   2022-11-18  stopped at:  7\n",
      "Date:   2022-10-31  stopped at:  5\n",
      "Date:   2022-11-15  stopped at:  4\n",
      "Date:   2022-11-11  stopped at:  11\n",
      "Date:   2022-11-17  stopped at:  5\n",
      "Date:   2022-11-13  stopped at:  2\n",
      "Date:   2022-11-01  stopped at:  3\n",
      "Date:   2022-11-02  stopped at:  2\n",
      "Date:   2022-11-09  stopped at:  1\n",
      "Date:   2022-11-22  stopped at:  2\n",
      "Date:   2022-11-03  stopped at:  1\n",
      "Date:   2022-11-04  stopped at:  3\n",
      "Date:   2022-11-24  stopped at:  1\n",
      "Date:   2022-11-05  stopped at:  5\n",
      "Date:   2022-11-20  stopped at:  5\n",
      "Date:   2022-11-10  stopped at:  1\n",
      "Date:   2022-11-16  stopped at:  4\n",
      "Date:   2022-11-06  stopped at:  2\n",
      "Date:   2022-11-08  stopped at:  5\n",
      "Date:   2022-11-21  stopped at:  0\n",
      "Date:   2022-11-19  stopped at:  4\n",
      "Date:   2022-11-12  stopped at:  5\n",
      "Date:   2022-11-14  stopped at:  10\n",
      "Date:   2022-11-07  stopped at:  0\n",
      "Date:   2022-11-24  stopped at:  11\n",
      "Date:   2022-11-25  stopped at:  14\n",
      "Date:   2022-11-26  stopped at:  5\n",
      "Date:   2022-11-27  stopped at:  4\n",
      "Date:   2022-11-28  stopped at:  0\n",
      "Date:   2022-11-29  stopped at:  2\n",
      "Date:   2022-11-30  stopped at:  1\n"
     ]
    },
    {
     "data": {
      "application/vnd.jupyter.widget-view+json": {
       "model_id": "4b4e21ac96244f8fb88e60be3882dec7",
       "version_major": 2,
       "version_minor": 0
      },
      "text/plain": [
       "  0%|          | 0/60166 [00:00<?, ?it/s]"
      ]
     },
     "metadata": {},
     "output_type": "display_data"
    },
    {
     "name": "stdout",
     "output_type": "stream",
     "text": [
      "Date:   2022-11-24  stopped at:  0\n",
      "Date:   2022-10-31  stopped at:  6\n",
      "Date:   2022-11-10  stopped at:  0\n",
      "Date:   2022-11-05  stopped at:  3\n",
      "Date:   2022-11-06  stopped at:  10\n",
      "Date:   2022-11-20  stopped at:  0\n",
      "Date:   2022-11-18  stopped at:  1\n",
      "Date:   2022-11-17  stopped at:  6\n",
      "Date:   2022-11-15  stopped at:  0\n",
      "Date:   2022-11-07  stopped at:  2\n",
      "Date:   2022-11-13  stopped at:  17\n",
      "Date:   2022-11-23  stopped at:  3\n",
      "Date:   2022-11-02  stopped at:  2\n",
      "Date:   2022-11-16  stopped at:  3\n",
      "Date:   2022-11-14  stopped at:  1\n",
      "Date:   2022-11-11  stopped at:  1\n",
      "Date:   2022-11-08  stopped at:  15\n",
      "Date:   2022-11-12  stopped at:  0\n",
      "Date:   2022-11-01  stopped at:  9\n",
      "Date:   2022-11-03  stopped at:  10\n",
      "Date:   2022-11-09  stopped at:  2\n",
      "Date:   2022-11-22  stopped at:  0\n",
      "Date:   2022-11-19  stopped at:  1\n",
      "Date:   2022-11-21  stopped at:  7\n",
      "Date:   2022-11-04  stopped at:  0\n",
      "Date:   2022-11-24  stopped at:  45\n",
      "Date:   2022-11-25  stopped at:  62\n",
      "Date:   2022-11-26  stopped at:  12\n",
      "Date:   2022-11-27  stopped at:  1\n",
      "Date:   2022-11-28  stopped at:  1\n",
      "Date:   2022-11-29  stopped at:  5\n",
      "Date:   2022-11-30  stopped at:  3\n",
      "Better mean reward! Saving...\n"
     ]
    },
    {
     "data": {
      "application/vnd.jupyter.widget-view+json": {
       "model_id": "886bedff9981418cb5acb658ca025c1e",
       "version_major": 2,
       "version_minor": 0
      },
      "text/plain": [
       "  0%|          | 0/60166 [00:00<?, ?it/s]"
      ]
     },
     "metadata": {},
     "output_type": "display_data"
    },
    {
     "name": "stdout",
     "output_type": "stream",
     "text": [
      "Date:   2022-11-19  stopped at:  19\n",
      "Date:   2022-11-07  stopped at:  12\n",
      "Date:   2022-11-08  stopped at:  10\n",
      "Date:   2022-11-01  stopped at:  2\n",
      "Date:   2022-11-11  stopped at:  87\n",
      "Date:   2022-11-18  stopped at:  2\n",
      "Date:   2022-11-21  stopped at:  3\n",
      "Date:   2022-11-12  stopped at:  22\n",
      "Date:   2022-11-22  stopped at:  15\n",
      "Date:   2022-11-15  stopped at:  19\n",
      "Date:   2022-11-14  stopped at:  1\n",
      "Date:   2022-11-23  stopped at:  3\n",
      "Date:   2022-11-09  stopped at:  1\n",
      "Date:   2022-11-20  stopped at:  9\n",
      "Date:   2022-11-10  stopped at:  2\n",
      "Date:   2022-10-31  stopped at:  2\n",
      "Date:   2022-11-17  stopped at:  4\n",
      "Date:   2022-11-24  stopped at:  17\n",
      "Date:   2022-11-13  stopped at:  3\n",
      "Date:   2022-11-05  stopped at:  3\n",
      "Date:   2022-11-06  stopped at:  6\n",
      "Date:   2022-11-03  stopped at:  0\n",
      "Date:   2022-11-04  stopped at:  0\n",
      "Date:   2022-11-16  stopped at:  0\n",
      "Date:   2022-11-02  stopped at:  0\n",
      "Date:   2022-11-24  stopped at:  19\n",
      "Date:   2022-11-25  stopped at:  52\n",
      "Date:   2022-11-26  stopped at:  4\n",
      "Date:   2022-11-27  stopped at:  0\n",
      "Date:   2022-11-28  stopped at:  1\n",
      "Date:   2022-11-29  stopped at:  0\n",
      "Date:   2022-11-30  stopped at:  0\n"
     ]
    },
    {
     "data": {
      "application/vnd.jupyter.widget-view+json": {
       "model_id": "63dfe58f815f44d2836fe30094bc2d7a",
       "version_major": 2,
       "version_minor": 0
      },
      "text/plain": [
       "  0%|          | 0/60166 [00:00<?, ?it/s]"
      ]
     },
     "metadata": {},
     "output_type": "display_data"
    },
    {
     "name": "stdout",
     "output_type": "stream",
     "text": [
      "Date:   2022-11-18  stopped at:  6\n",
      "Date:   2022-11-01  stopped at:  4\n",
      "Date:   2022-11-21  stopped at:  7\n",
      "Date:   2022-11-20  stopped at:  2\n",
      "Date:   2022-11-07  stopped at:  2\n",
      "Date:   2022-11-22  stopped at:  11\n",
      "Date:   2022-11-10  stopped at:  0\n",
      "Date:   2022-11-19  stopped at:  4\n",
      "Date:   2022-11-12  stopped at:  5\n",
      "Date:   2022-11-04  stopped at:  26\n",
      "Date:   2022-11-14  stopped at:  6\n",
      "Date:   2022-11-16  stopped at:  6\n",
      "Date:   2022-11-06  stopped at:  3\n",
      "Date:   2022-11-15  stopped at:  17\n",
      "Date:   2022-10-31  stopped at:  6\n",
      "Date:   2022-11-17  stopped at:  0\n",
      "Date:   2022-11-24  stopped at:  11\n",
      "Date:   2022-11-23  stopped at:  0\n",
      "Date:   2022-11-11  stopped at:  59\n",
      "Date:   2022-11-13  stopped at:  0\n",
      "Date:   2022-11-08  stopped at:  29\n",
      "Date:   2022-11-02  stopped at:  0\n",
      "Date:   2022-11-05  stopped at:  0\n",
      "Date:   2022-11-03  stopped at:  3\n",
      "Date:   2022-11-09  stopped at:  5\n",
      "Date:   2022-11-24  stopped at:  8\n",
      "Date:   2022-11-25  stopped at:  6\n",
      "Date:   2022-11-26  stopped at:  2\n",
      "Date:   2022-11-27  stopped at:  0\n",
      "Date:   2022-11-28  stopped at:  0\n",
      "Date:   2022-11-29  stopped at:  18\n",
      "Date:   2022-11-30  stopped at:  1\n"
     ]
    },
    {
     "data": {
      "application/vnd.jupyter.widget-view+json": {
       "model_id": "032c5d596be64c3eb3046a9ea4aa6bbe",
       "version_major": 2,
       "version_minor": 0
      },
      "text/plain": [
       "  0%|          | 0/60166 [00:00<?, ?it/s]"
      ]
     },
     "metadata": {},
     "output_type": "display_data"
    },
    {
     "name": "stdout",
     "output_type": "stream",
     "text": [
      "Date:   2022-11-07  stopped at:  1\n",
      "Date:   2022-11-03  stopped at:  3\n",
      "Date:   2022-11-12  stopped at:  1\n",
      "Date:   2022-11-11  stopped at:  9\n",
      "Date:   2022-11-16  stopped at:  14\n",
      "Date:   2022-11-23  stopped at:  2\n",
      "Date:   2022-11-18  stopped at:  0\n",
      "Date:   2022-11-17  stopped at:  0\n",
      "Date:   2022-11-22  stopped at:  0\n",
      "Date:   2022-10-31  stopped at:  7\n",
      "Date:   2022-11-21  stopped at:  6\n",
      "Date:   2022-11-24  stopped at:  1\n",
      "Date:   2022-11-05  stopped at:  0\n",
      "Date:   2022-11-06  stopped at:  7\n",
      "Date:   2022-11-19  stopped at:  3\n",
      "Date:   2022-11-02  stopped at:  7\n",
      "Date:   2022-11-09  stopped at:  7\n",
      "Date:   2022-11-10  stopped at:  6\n",
      "Date:   2022-11-01  stopped at:  0\n",
      "Date:   2022-11-04  stopped at:  7\n",
      "Date:   2022-11-15  stopped at:  15\n",
      "Date:   2022-11-08  stopped at:  3\n",
      "Date:   2022-11-14  stopped at:  5\n",
      "Date:   2022-11-20  stopped at:  5\n",
      "Date:   2022-11-13  stopped at:  1\n",
      "Date:   2022-11-24  stopped at:  78\n",
      "Date:   2022-11-25  stopped at:  14\n",
      "Date:   2022-11-26  stopped at:  0\n",
      "Date:   2022-11-27  stopped at:  3\n",
      "Date:   2022-11-28  stopped at:  1\n",
      "Date:   2022-11-29  stopped at:  0\n",
      "Date:   2022-11-30  stopped at:  1\n"
     ]
    },
    {
     "data": {
      "application/vnd.jupyter.widget-view+json": {
       "model_id": "782a7df16f6b4e02a6ff5dae19b11d31",
       "version_major": 2,
       "version_minor": 0
      },
      "text/plain": [
       "  0%|          | 0/60166 [00:00<?, ?it/s]"
      ]
     },
     "metadata": {},
     "output_type": "display_data"
    },
    {
     "name": "stdout",
     "output_type": "stream",
     "text": [
      "Date:   2022-11-07  stopped at:  3\n",
      "Date:   2022-11-05  stopped at:  2\n",
      "Date:   2022-11-14  stopped at:  1\n",
      "Date:   2022-11-04  stopped at:  2\n",
      "Date:   2022-11-08  stopped at:  9\n",
      "Date:   2022-11-15  stopped at:  0\n",
      "Date:   2022-11-11  stopped at:  12\n",
      "Date:   2022-11-01  stopped at:  3\n",
      "Date:   2022-11-09  stopped at:  4\n",
      "Date:   2022-11-16  stopped at:  10\n",
      "Date:   2022-11-23  stopped at:  3\n",
      "Date:   2022-11-18  stopped at:  15\n",
      "Date:   2022-11-21  stopped at:  2\n",
      "Date:   2022-11-03  stopped at:  1\n",
      "Date:   2022-10-31  stopped at:  8\n",
      "Date:   2022-11-24  stopped at:  3\n",
      "Date:   2022-11-02  stopped at:  3\n",
      "Date:   2022-11-06  stopped at:  1\n",
      "Date:   2022-11-10  stopped at:  6\n",
      "Date:   2022-11-19  stopped at:  10\n",
      "Date:   2022-11-17  stopped at:  0\n",
      "Date:   2022-11-22  stopped at:  32\n",
      "Date:   2022-11-20  stopped at:  8\n",
      "Date:   2022-11-12  stopped at:  26\n",
      "Date:   2022-11-13  stopped at:  9\n",
      "Date:   2022-11-24  stopped at:  5\n",
      "Date:   2022-11-25  stopped at:  14\n",
      "Date:   2022-11-26  stopped at:  5\n",
      "Date:   2022-11-27  stopped at:  4\n",
      "Date:   2022-11-28  stopped at:  9\n",
      "Date:   2022-11-29  stopped at:  0\n",
      "Date:   2022-11-30  stopped at:  0\n"
     ]
    },
    {
     "data": {
      "application/vnd.jupyter.widget-view+json": {
       "model_id": "670ad506080047a38ce3aa7de70559de",
       "version_major": 2,
       "version_minor": 0
      },
      "text/plain": [
       "  0%|          | 0/60166 [00:00<?, ?it/s]"
      ]
     },
     "metadata": {},
     "output_type": "display_data"
    },
    {
     "name": "stdout",
     "output_type": "stream",
     "text": [
      "Date:   2022-11-24  stopped at:  13\n",
      "Date:   2022-11-06  stopped at:  17\n",
      "Date:   2022-11-19  stopped at:  1\n",
      "Date:   2022-11-13  stopped at:  4\n",
      "Date:   2022-11-05  stopped at:  1\n",
      "Date:   2022-11-22  stopped at:  0\n",
      "Date:   2022-11-09  stopped at:  2\n",
      "Date:   2022-11-07  stopped at:  22\n",
      "Date:   2022-11-15  stopped at:  2\n",
      "Date:   2022-11-23  stopped at:  1\n",
      "Date:   2022-11-20  stopped at:  1\n",
      "Date:   2022-11-16  stopped at:  3\n",
      "Date:   2022-11-17  stopped at:  0\n",
      "Date:   2022-11-21  stopped at:  7\n",
      "Date:   2022-10-31  stopped at:  0\n",
      "Date:   2022-11-10  stopped at:  10\n",
      "Date:   2022-11-02  stopped at:  6\n",
      "Date:   2022-11-12  stopped at:  14\n",
      "Date:   2022-11-11  stopped at:  42\n",
      "Date:   2022-11-03  stopped at:  12\n",
      "Date:   2022-11-01  stopped at:  3\n",
      "Date:   2022-11-14  stopped at:  27\n",
      "Date:   2022-11-08  stopped at:  21\n",
      "Date:   2022-11-04  stopped at:  10\n",
      "Date:   2022-11-18  stopped at:  19\n",
      "Date:   2022-11-24  stopped at:  8\n",
      "Date:   2022-11-25  stopped at:  11\n",
      "Date:   2022-11-26  stopped at:  0\n",
      "Date:   2022-11-27  stopped at:  1\n",
      "Date:   2022-11-28  stopped at:  10\n",
      "Date:   2022-11-29  stopped at:  3\n",
      "Date:   2022-11-30  stopped at:  1\n"
     ]
    },
    {
     "data": {
      "application/vnd.jupyter.widget-view+json": {
       "model_id": "8a3b6f8dcef542cc8b9b6f4ffea04da7",
       "version_major": 2,
       "version_minor": 0
      },
      "text/plain": [
       "  0%|          | 0/60166 [00:00<?, ?it/s]"
      ]
     },
     "metadata": {},
     "output_type": "display_data"
    },
    {
     "name": "stdout",
     "output_type": "stream",
     "text": [
      "Date:   2022-11-06  stopped at:  11\n",
      "Date:   2022-11-16  stopped at:  31\n",
      "Date:   2022-11-08  stopped at:  14\n",
      "Date:   2022-11-05  stopped at:  15\n",
      "Date:   2022-11-18  stopped at:  2\n",
      "Date:   2022-11-23  stopped at:  0\n",
      "Date:   2022-11-02  stopped at:  3\n",
      "Date:   2022-10-31  stopped at:  2\n",
      "Date:   2022-11-12  stopped at:  3\n",
      "Date:   2022-11-04  stopped at:  12\n",
      "Date:   2022-11-24  stopped at:  13\n",
      "Date:   2022-11-20  stopped at:  2\n",
      "Date:   2022-11-22  stopped at:  0\n",
      "Date:   2022-11-13  stopped at:  2\n",
      "Date:   2022-11-01  stopped at:  1\n",
      "Date:   2022-11-10  stopped at:  7\n",
      "Date:   2022-11-14  stopped at:  17\n",
      "Date:   2022-11-17  stopped at:  9\n",
      "Date:   2022-11-15  stopped at:  6\n",
      "Date:   2022-11-03  stopped at:  2\n",
      "Date:   2022-11-09  stopped at:  27\n",
      "Date:   2022-11-11  stopped at:  144\n",
      "Date:   2022-11-19  stopped at:  12\n",
      "Date:   2022-11-07  stopped at:  6\n",
      "Date:   2022-11-21  stopped at:  7\n",
      "Date:   2022-11-24  stopped at:  11\n",
      "Date:   2022-11-25  stopped at:  4\n",
      "Date:   2022-11-26  stopped at:  1\n",
      "Date:   2022-11-27  stopped at:  8\n",
      "Date:   2022-11-28  stopped at:  16\n",
      "Date:   2022-11-29  stopped at:  35\n",
      "Date:   2022-11-30  stopped at:  6\n"
     ]
    },
    {
     "data": {
      "application/vnd.jupyter.widget-view+json": {
       "model_id": "bce3e479ac1d47ae988b9757ba03ac4a",
       "version_major": 2,
       "version_minor": 0
      },
      "text/plain": [
       "  0%|          | 0/60166 [00:00<?, ?it/s]"
      ]
     },
     "metadata": {},
     "output_type": "display_data"
    },
    {
     "name": "stdout",
     "output_type": "stream",
     "text": [
      "Date:   2022-11-08  stopped at:  1\n",
      "Date:   2022-10-31  stopped at:  4\n",
      "Date:   2022-11-09  stopped at:  3\n",
      "Date:   2022-11-15  stopped at:  5\n",
      "Date:   2022-11-21  stopped at:  5\n",
      "Date:   2022-11-24  stopped at:  0\n",
      "Date:   2022-11-05  stopped at:  7\n",
      "Date:   2022-11-14  stopped at:  3\n",
      "Date:   2022-11-11  stopped at:  26\n",
      "Date:   2022-11-19  stopped at:  1\n",
      "Date:   2022-11-12  stopped at:  4\n",
      "Date:   2022-11-07  stopped at:  8\n",
      "Date:   2022-11-23  stopped at:  0\n",
      "Date:   2022-11-04  stopped at:  0\n",
      "Date:   2022-11-18  stopped at:  0\n",
      "Date:   2022-11-02  stopped at:  10\n",
      "Date:   2022-11-13  stopped at:  8\n",
      "Date:   2022-11-16  stopped at:  31\n",
      "Date:   2022-11-06  stopped at:  16\n",
      "Date:   2022-11-17  stopped at:  16\n",
      "Date:   2022-11-10  stopped at:  2\n",
      "Date:   2022-11-01  stopped at:  0\n",
      "Date:   2022-11-20  stopped at:  4\n",
      "Date:   2022-11-22  stopped at:  0\n",
      "Date:   2022-11-03  stopped at:  6\n",
      "Date:   2022-11-24  stopped at:  9\n",
      "Date:   2022-11-25  stopped at:  4\n",
      "Date:   2022-11-26  stopped at:  21\n",
      "Date:   2022-11-27  stopped at:  0\n",
      "Date:   2022-11-28  stopped at:  2\n",
      "Date:   2022-11-29  stopped at:  55\n",
      "Date:   2022-11-30  stopped at:  0\n"
     ]
    },
    {
     "data": {
      "application/vnd.jupyter.widget-view+json": {
       "model_id": "b4e3841828da45a0bf6b9745d8e432a4",
       "version_major": 2,
       "version_minor": 0
      },
      "text/plain": [
       "  0%|          | 0/60166 [00:00<?, ?it/s]"
      ]
     },
     "metadata": {},
     "output_type": "display_data"
    },
    {
     "name": "stdout",
     "output_type": "stream",
     "text": [
      "Date:   2022-10-31  stopped at:  4\n",
      "Date:   2022-11-16  stopped at:  3\n",
      "Date:   2022-11-05  stopped at:  4\n",
      "Date:   2022-11-15  stopped at:  26\n",
      "Date:   2022-11-02  stopped at:  3\n",
      "Date:   2022-11-20  stopped at:  2\n",
      "Date:   2022-11-09  stopped at:  3\n",
      "Date:   2022-11-03  stopped at:  9\n",
      "Date:   2022-11-08  stopped at:  75\n",
      "Date:   2022-11-07  stopped at:  10\n",
      "Date:   2022-11-04  stopped at:  6\n",
      "Date:   2022-11-06  stopped at:  27\n",
      "Date:   2022-11-17  stopped at:  3\n",
      "Date:   2022-11-23  stopped at:  2\n",
      "Date:   2022-11-10  stopped at:  2\n",
      "Date:   2022-11-13  stopped at:  1\n",
      "Date:   2022-11-18  stopped at:  1\n",
      "Date:   2022-11-24  stopped at:  0\n",
      "Date:   2022-11-12  stopped at:  23\n",
      "Date:   2022-11-21  stopped at:  1\n",
      "Date:   2022-11-19  stopped at:  29\n",
      "Date:   2022-11-11  stopped at:  165\n",
      "Date:   2022-11-01  stopped at:  6\n",
      "Date:   2022-11-14  stopped at:  13\n",
      "Date:   2022-11-22  stopped at:  3\n",
      "Date:   2022-11-24  stopped at:  47\n",
      "Date:   2022-11-25  stopped at:  18\n",
      "Date:   2022-11-26  stopped at:  5\n",
      "Date:   2022-11-27  stopped at:  6\n",
      "Date:   2022-11-28  stopped at:  8\n",
      "Date:   2022-11-29  stopped at:  15\n",
      "Date:   2022-11-30  stopped at:  2\n"
     ]
    },
    {
     "data": {
      "application/vnd.jupyter.widget-view+json": {
       "model_id": "b96e34bf49c24b86ac41dc2a3cccbb85",
       "version_major": 2,
       "version_minor": 0
      },
      "text/plain": [
       "  0%|          | 0/60166 [00:00<?, ?it/s]"
      ]
     },
     "metadata": {},
     "output_type": "display_data"
    },
    {
     "name": "stdout",
     "output_type": "stream",
     "text": [
      "Date:   2022-11-12  stopped at:  15\n",
      "Date:   2022-11-13  stopped at:  25\n",
      "Date:   2022-11-19  stopped at:  7\n",
      "Date:   2022-11-18  stopped at:  2\n",
      "Date:   2022-11-21  stopped at:  2\n",
      "Date:   2022-11-02  stopped at:  6\n",
      "Date:   2022-10-31  stopped at:  4\n",
      "Date:   2022-11-15  stopped at:  16\n",
      "Date:   2022-11-04  stopped at:  0\n",
      "Date:   2022-11-05  stopped at:  0\n",
      "Date:   2022-11-09  stopped at:  7\n",
      "Date:   2022-11-24  stopped at:  5\n",
      "Date:   2022-11-14  stopped at:  11\n",
      "Date:   2022-11-22  stopped at:  2\n",
      "Date:   2022-11-03  stopped at:  0\n",
      "Date:   2022-11-10  stopped at:  5\n",
      "Date:   2022-11-11  stopped at:  146\n",
      "Date:   2022-11-07  stopped at:  0\n",
      "Date:   2022-11-16  stopped at:  4\n",
      "Date:   2022-11-08  stopped at:  72\n",
      "Date:   2022-11-01  stopped at:  1\n",
      "Date:   2022-11-20  stopped at:  7\n",
      "Date:   2022-11-23  stopped at:  3\n",
      "Date:   2022-11-17  stopped at:  3\n",
      "Date:   2022-11-06  stopped at:  1\n",
      "Date:   2022-11-24  stopped at:  67\n",
      "Date:   2022-11-25  stopped at:  2\n",
      "Date:   2022-11-26  stopped at:  1\n",
      "Date:   2022-11-27  stopped at:  0\n",
      "Date:   2022-11-28  stopped at:  1\n",
      "Date:   2022-11-29  stopped at:  0\n",
      "Date:   2022-11-30  stopped at:  0\n"
     ]
    },
    {
     "data": {
      "application/vnd.jupyter.widget-view+json": {
       "model_id": "ac8fdb1994804eae817c111e7ce6419c",
       "version_major": 2,
       "version_minor": 0
      },
      "text/plain": [
       "  0%|          | 0/60166 [00:00<?, ?it/s]"
      ]
     },
     "metadata": {},
     "output_type": "display_data"
    },
    {
     "name": "stdout",
     "output_type": "stream",
     "text": [
      "Date:   2022-11-20  stopped at:  5\n",
      "Date:   2022-11-04  stopped at:  4\n",
      "Date:   2022-10-31  stopped at:  4\n",
      "Date:   2022-11-03  stopped at:  0\n",
      "Date:   2022-11-21  stopped at:  1\n",
      "Date:   2022-11-05  stopped at:  2\n",
      "Date:   2022-11-06  stopped at:  9\n",
      "Date:   2022-11-08  stopped at:  35\n",
      "Date:   2022-11-23  stopped at:  8\n",
      "Date:   2022-11-22  stopped at:  2\n",
      "Date:   2022-11-17  stopped at:  6\n",
      "Date:   2022-11-18  stopped at:  0\n",
      "Date:   2022-11-01  stopped at:  17\n",
      "Date:   2022-11-12  stopped at:  0\n",
      "Date:   2022-11-09  stopped at:  4\n",
      "Date:   2022-11-07  stopped at:  3\n",
      "Date:   2022-11-24  stopped at:  7\n",
      "Date:   2022-11-16  stopped at:  30\n",
      "Date:   2022-11-19  stopped at:  2\n",
      "Date:   2022-11-02  stopped at:  5\n",
      "Date:   2022-11-14  stopped at:  0\n",
      "Date:   2022-11-10  stopped at:  3\n",
      "Date:   2022-11-15  stopped at:  4\n",
      "Date:   2022-11-13  stopped at:  7\n",
      "Date:   2022-11-11  stopped at:  173\n",
      "Date:   2022-11-24  stopped at:  98\n",
      "Date:   2022-11-25  stopped at:  3\n",
      "Date:   2022-11-26  stopped at:  1\n",
      "Date:   2022-11-27  stopped at:  1\n",
      "Date:   2022-11-28  stopped at:  9\n",
      "Date:   2022-11-29  stopped at:  3\n",
      "Date:   2022-11-30  stopped at:  1\n"
     ]
    },
    {
     "data": {
      "application/vnd.jupyter.widget-view+json": {
       "model_id": "e2bd64273cc64f4bb09d85f95c0c9cdb",
       "version_major": 2,
       "version_minor": 0
      },
      "text/plain": [
       "  0%|          | 0/60166 [00:00<?, ?it/s]"
      ]
     },
     "metadata": {},
     "output_type": "display_data"
    },
    {
     "name": "stdout",
     "output_type": "stream",
     "text": [
      "Date:   2022-11-09  stopped at:  6\n",
      "Date:   2022-11-03  stopped at:  8\n",
      "Date:   2022-11-12  stopped at:  29\n",
      "Date:   2022-11-08  stopped at:  1\n",
      "Date:   2022-11-06  stopped at:  2\n",
      "Date:   2022-11-14  stopped at:  2\n",
      "Date:   2022-11-02  stopped at:  5\n",
      "Date:   2022-10-31  stopped at:  5\n",
      "Date:   2022-11-21  stopped at:  3\n",
      "Date:   2022-11-22  stopped at:  0\n",
      "Date:   2022-11-17  stopped at:  20\n",
      "Date:   2022-11-20  stopped at:  2\n",
      "Date:   2022-11-23  stopped at:  2\n",
      "Date:   2022-11-19  stopped at:  25\n",
      "Date:   2022-11-05  stopped at:  0\n",
      "Date:   2022-11-15  stopped at:  0\n",
      "Date:   2022-11-01  stopped at:  16\n",
      "Date:   2022-11-18  stopped at:  2\n",
      "Date:   2022-11-24  stopped at:  1\n",
      "Date:   2022-11-13  stopped at:  5\n",
      "Date:   2022-11-11  stopped at:  123\n",
      "Date:   2022-11-16  stopped at:  48\n",
      "Date:   2022-11-04  stopped at:  4\n",
      "Date:   2022-11-10  stopped at:  3\n",
      "Date:   2022-11-07  stopped at:  4\n",
      "Date:   2022-11-24  stopped at:  39\n",
      "Date:   2022-11-25  stopped at:  12\n",
      "Date:   2022-11-26  stopped at:  27\n",
      "Date:   2022-11-27  stopped at:  29\n",
      "Date:   2022-11-28  stopped at:  24\n",
      "Date:   2022-11-29  stopped at:  20\n",
      "Date:   2022-11-30  stopped at:  10\n",
      "Better mean reward! Saving...\n"
     ]
    },
    {
     "data": {
      "application/vnd.jupyter.widget-view+json": {
       "model_id": "76d8202b344b4f95aa81dc28dce576fa",
       "version_major": 2,
       "version_minor": 0
      },
      "text/plain": [
       "  0%|          | 0/60166 [00:00<?, ?it/s]"
      ]
     },
     "metadata": {},
     "output_type": "display_data"
    },
    {
     "name": "stdout",
     "output_type": "stream",
     "text": [
      "Date:   2022-11-12  stopped at:  32\n",
      "Date:   2022-10-31  stopped at:  1\n",
      "Date:   2022-11-09  stopped at:  0\n",
      "Date:   2022-11-23  stopped at:  3\n",
      "Date:   2022-11-21  stopped at:  30\n",
      "Date:   2022-11-01  stopped at:  9\n",
      "Date:   2022-11-13  stopped at:  108\n",
      "Date:   2022-11-22  stopped at:  9\n",
      "Date:   2022-11-03  stopped at:  2\n",
      "Date:   2022-11-07  stopped at:  0\n",
      "Date:   2022-11-10  stopped at:  45\n",
      "Date:   2022-11-16  stopped at:  28\n",
      "Date:   2022-11-20  stopped at:  15\n",
      "Date:   2022-11-17  stopped at:  10\n",
      "Date:   2022-11-02  stopped at:  5\n",
      "Date:   2022-11-14  stopped at:  8\n",
      "Date:   2022-11-24  stopped at:  6\n",
      "Date:   2022-11-15  stopped at:  2\n",
      "Date:   2022-11-06  stopped at:  12\n",
      "Date:   2022-11-11  stopped at:  27\n",
      "Date:   2022-11-19  stopped at:  0\n",
      "Date:   2022-11-08  stopped at:  24\n",
      "Date:   2022-11-05  stopped at:  1\n",
      "Date:   2022-11-18  stopped at:  0\n",
      "Date:   2022-11-04  stopped at:  1\n",
      "Date:   2022-11-24  stopped at:  54\n",
      "Date:   2022-11-25  stopped at:  8\n",
      "Date:   2022-11-26  stopped at:  12\n",
      "Date:   2022-11-27  stopped at:  18\n",
      "Date:   2022-11-28  stopped at:  4\n",
      "Date:   2022-11-29  stopped at:  6\n",
      "Date:   2022-11-30  stopped at:  10\n"
     ]
    },
    {
     "data": {
      "application/vnd.jupyter.widget-view+json": {
       "model_id": "1ab2a20e7f474e9ab3b1a15f2c5463cd",
       "version_major": 2,
       "version_minor": 0
      },
      "text/plain": [
       "  0%|          | 0/60166 [00:00<?, ?it/s]"
      ]
     },
     "metadata": {},
     "output_type": "display_data"
    },
    {
     "name": "stdout",
     "output_type": "stream",
     "text": [
      "Date:   2022-11-21  stopped at:  1\n",
      "Date:   2022-11-24  stopped at:  6\n",
      "Date:   2022-11-01  stopped at:  8\n",
      "Date:   2022-11-10  stopped at:  0\n",
      "Date:   2022-11-05  stopped at:  0\n",
      "Date:   2022-11-14  stopped at:  0\n",
      "Date:   2022-11-08  stopped at:  44\n",
      "Date:   2022-11-23  stopped at:  2\n",
      "Date:   2022-11-20  stopped at:  7\n",
      "Date:   2022-11-04  stopped at:  6\n",
      "Date:   2022-11-19  stopped at:  1\n",
      "Date:   2022-11-09  stopped at:  15\n",
      "Date:   2022-11-15  stopped at:  8\n",
      "Date:   2022-11-18  stopped at:  1\n",
      "Date:   2022-11-22  stopped at:  8\n",
      "Date:   2022-10-31  stopped at:  0\n",
      "Date:   2022-11-06  stopped at:  6\n",
      "Date:   2022-11-07  stopped at:  17\n",
      "Date:   2022-11-02  stopped at:  4\n",
      "Date:   2022-11-17  stopped at:  31\n",
      "Date:   2022-11-13  stopped at:  0\n",
      "Date:   2022-11-11  stopped at:  13\n",
      "Date:   2022-11-12  stopped at:  9\n",
      "Date:   2022-11-16  stopped at:  59\n",
      "Date:   2022-11-03  stopped at:  4\n",
      "Date:   2022-11-24  stopped at:  89\n",
      "Date:   2022-11-25  stopped at:  1\n",
      "Date:   2022-11-26  stopped at:  29\n",
      "Date:   2022-11-27  stopped at:  3\n",
      "Date:   2022-11-28  stopped at:  1\n",
      "Date:   2022-11-29  stopped at:  1\n",
      "Date:   2022-11-30  stopped at:  13\n"
     ]
    },
    {
     "data": {
      "application/vnd.jupyter.widget-view+json": {
       "model_id": "e741763ddfd64238ab29309a18ce506a",
       "version_major": 2,
       "version_minor": 0
      },
      "text/plain": [
       "  0%|          | 0/60166 [00:00<?, ?it/s]"
      ]
     },
     "metadata": {},
     "output_type": "display_data"
    },
    {
     "name": "stdout",
     "output_type": "stream",
     "text": [
      "Date:   2022-11-05  stopped at:  3\n",
      "Date:   2022-10-31  stopped at:  0\n",
      "Date:   2022-11-14  stopped at:  8\n",
      "Date:   2022-11-13  stopped at:  9\n",
      "Date:   2022-11-03  stopped at:  5\n",
      "Date:   2022-11-06  stopped at:  1\n",
      "Date:   2022-11-24  stopped at:  2\n",
      "Date:   2022-11-21  stopped at:  6\n",
      "Date:   2022-11-08  stopped at:  111\n",
      "Date:   2022-11-17  stopped at:  46\n",
      "Date:   2022-11-15  stopped at:  3\n",
      "Date:   2022-11-07  stopped at:  2\n",
      "Date:   2022-11-16  stopped at:  25\n",
      "Date:   2022-11-02  stopped at:  5\n",
      "Date:   2022-11-20  stopped at:  21\n",
      "Date:   2022-11-11  stopped at:  17\n",
      "Date:   2022-11-04  stopped at:  3\n",
      "Date:   2022-11-01  stopped at:  4\n",
      "Date:   2022-11-09  stopped at:  4\n",
      "Date:   2022-11-23  stopped at:  5\n",
      "Date:   2022-11-10  stopped at:  5\n",
      "Date:   2022-11-12  stopped at:  26\n",
      "Date:   2022-11-18  stopped at:  7\n",
      "Date:   2022-11-19  stopped at:  19\n",
      "Date:   2022-11-22  stopped at:  1\n",
      "Date:   2022-11-24  stopped at:  1\n",
      "Date:   2022-11-25  stopped at:  13\n",
      "Date:   2022-11-26  stopped at:  10\n",
      "Date:   2022-11-27  stopped at:  4\n",
      "Date:   2022-11-28  stopped at:  7\n",
      "Date:   2022-11-29  stopped at:  4\n",
      "Date:   2022-11-30  stopped at:  2\n"
     ]
    },
    {
     "data": {
      "application/vnd.jupyter.widget-view+json": {
       "model_id": "cda444b5d45b4b178bd166ab1aa4b075",
       "version_major": 2,
       "version_minor": 0
      },
      "text/plain": [
       "  0%|          | 0/60166 [00:00<?, ?it/s]"
      ]
     },
     "metadata": {},
     "output_type": "display_data"
    },
    {
     "name": "stdout",
     "output_type": "stream",
     "text": [
      "Date:   2022-11-15  stopped at:  13\n",
      "Date:   2022-10-31  stopped at:  1\n",
      "Date:   2022-11-22  stopped at:  3\n",
      "Date:   2022-11-09  stopped at:  0\n",
      "Date:   2022-11-13  stopped at:  20\n",
      "Date:   2022-11-08  stopped at:  6\n",
      "Date:   2022-11-02  stopped at:  0\n",
      "Date:   2022-11-11  stopped at:  42\n",
      "Date:   2022-11-01  stopped at:  0\n",
      "Date:   2022-11-16  stopped at:  82\n",
      "Date:   2022-11-10  stopped at:  2\n",
      "Date:   2022-11-07  stopped at:  2\n",
      "Date:   2022-11-12  stopped at:  5\n",
      "Date:   2022-11-06  stopped at:  27\n",
      "Date:   2022-11-23  stopped at:  52\n",
      "Date:   2022-11-18  stopped at:  1\n",
      "Date:   2022-11-17  stopped at:  30\n",
      "Date:   2022-11-21  stopped at:  3\n",
      "Date:   2022-11-14  stopped at:  5\n",
      "Date:   2022-11-20  stopped at:  33\n",
      "Date:   2022-11-03  stopped at:  5\n",
      "Date:   2022-11-24  stopped at:  3\n",
      "Date:   2022-11-04  stopped at:  0\n",
      "Date:   2022-11-05  stopped at:  11\n",
      "Date:   2022-11-19  stopped at:  16\n",
      "Date:   2022-11-24  stopped at:  27\n",
      "Date:   2022-11-25  stopped at:  17\n",
      "Date:   2022-11-26  stopped at:  52\n",
      "Date:   2022-11-27  stopped at:  9\n",
      "Date:   2022-11-28  stopped at:  1\n",
      "Date:   2022-11-29  stopped at:  7\n",
      "Date:   2022-11-30  stopped at:  31\n"
     ]
    },
    {
     "data": {
      "application/vnd.jupyter.widget-view+json": {
       "model_id": "4965793869f1411dab781236dff2152f",
       "version_major": 2,
       "version_minor": 0
      },
      "text/plain": [
       "  0%|          | 0/60166 [00:00<?, ?it/s]"
      ]
     },
     "metadata": {},
     "output_type": "display_data"
    },
    {
     "name": "stdout",
     "output_type": "stream",
     "text": [
      "Date:   2022-11-09  stopped at:  15\n",
      "Date:   2022-11-21  stopped at:  6\n",
      "Date:   2022-11-03  stopped at:  5\n",
      "Date:   2022-11-14  stopped at:  14\n",
      "Date:   2022-11-08  stopped at:  8\n",
      "Date:   2022-11-13  stopped at:  10\n",
      "Date:   2022-11-15  stopped at:  38\n",
      "Date:   2022-11-07  stopped at:  16\n",
      "Date:   2022-11-01  stopped at:  0\n",
      "Date:   2022-11-10  stopped at:  9\n",
      "Date:   2022-11-17  stopped at:  17\n",
      "Date:   2022-11-04  stopped at:  15\n",
      "Date:   2022-11-22  stopped at:  18\n",
      "Date:   2022-11-06  stopped at:  30\n",
      "Date:   2022-11-12  stopped at:  5\n",
      "Date:   2022-11-16  stopped at:  31\n",
      "Date:   2022-11-19  stopped at:  12\n",
      "Date:   2022-11-20  stopped at:  41\n",
      "Date:   2022-11-24  stopped at:  6\n",
      "Date:   2022-11-11  stopped at:  2\n",
      "Date:   2022-10-31  stopped at:  20\n",
      "Date:   2022-11-23  stopped at:  10\n",
      "Date:   2022-11-02  stopped at:  25\n",
      "Date:   2022-11-05  stopped at:  1\n",
      "Date:   2022-11-18  stopped at:  4\n",
      "Date:   2022-11-24  stopped at:  96\n",
      "Date:   2022-11-25  stopped at:  11\n",
      "Date:   2022-11-26  stopped at:  11\n",
      "Date:   2022-11-27  stopped at:  18\n",
      "Date:   2022-11-28  stopped at:  1\n",
      "Date:   2022-11-29  stopped at:  36\n",
      "Date:   2022-11-30  stopped at:  0\n",
      "Better mean reward! Saving...\n"
     ]
    },
    {
     "data": {
      "application/vnd.jupyter.widget-view+json": {
       "model_id": "46bbd660be984478bc6b482ca8693a0d",
       "version_major": 2,
       "version_minor": 0
      },
      "text/plain": [
       "  0%|          | 0/60166 [00:00<?, ?it/s]"
      ]
     },
     "metadata": {},
     "output_type": "display_data"
    },
    {
     "name": "stdout",
     "output_type": "stream",
     "text": [
      "Date:   2022-11-22  stopped at:  14\n",
      "Date:   2022-11-16  stopped at:  6\n",
      "Date:   2022-11-04  stopped at:  3\n",
      "Date:   2022-11-14  stopped at:  42\n",
      "Date:   2022-11-20  stopped at:  30\n",
      "Date:   2022-11-10  stopped at:  16\n",
      "Date:   2022-11-15  stopped at:  14\n",
      "Date:   2022-11-23  stopped at:  10\n",
      "Date:   2022-11-11  stopped at:  0\n",
      "Date:   2022-11-13  stopped at:  3\n",
      "Date:   2022-11-19  stopped at:  15\n",
      "Date:   2022-11-17  stopped at:  13\n",
      "Date:   2022-10-31  stopped at:  9\n",
      "Date:   2022-11-01  stopped at:  5\n",
      "Date:   2022-11-08  stopped at:  68\n",
      "Date:   2022-11-21  stopped at:  5\n",
      "Date:   2022-11-24  stopped at:  17\n",
      "Date:   2022-11-18  stopped at:  6\n",
      "Date:   2022-11-09  stopped at:  42\n",
      "Date:   2022-11-03  stopped at:  6\n",
      "Date:   2022-11-12  stopped at:  50\n",
      "Date:   2022-11-05  stopped at:  0\n",
      "Date:   2022-11-06  stopped at:  9\n",
      "Date:   2022-11-07  stopped at:  12\n",
      "Date:   2022-11-02  stopped at:  3\n",
      "Date:   2022-11-24  stopped at:  18\n",
      "Date:   2022-11-25  stopped at:  22\n",
      "Date:   2022-11-26  stopped at:  80\n",
      "Date:   2022-11-27  stopped at:  3\n",
      "Date:   2022-11-28  stopped at:  6\n",
      "Date:   2022-11-29  stopped at:  4\n",
      "Date:   2022-11-30  stopped at:  13\n"
     ]
    },
    {
     "data": {
      "application/vnd.jupyter.widget-view+json": {
       "model_id": "3e9a65ff66494e0dba440dafe8e635b9",
       "version_major": 2,
       "version_minor": 0
      },
      "text/plain": [
       "  0%|          | 0/60166 [00:00<?, ?it/s]"
      ]
     },
     "metadata": {},
     "output_type": "display_data"
    },
    {
     "name": "stdout",
     "output_type": "stream",
     "text": [
      "Date:   2022-11-12  stopped at:  5\n",
      "Date:   2022-11-09  stopped at:  7\n",
      "Date:   2022-11-03  stopped at:  1\n",
      "Date:   2022-11-06  stopped at:  26\n",
      "Date:   2022-10-31  stopped at:  7\n",
      "Date:   2022-11-02  stopped at:  13\n",
      "Date:   2022-11-18  stopped at:  3\n",
      "Date:   2022-11-14  stopped at:  19\n",
      "Date:   2022-11-19  stopped at:  4\n",
      "Date:   2022-11-15  stopped at:  18\n",
      "Date:   2022-11-10  stopped at:  1\n",
      "Date:   2022-11-04  stopped at:  1\n",
      "Date:   2022-11-08  stopped at:  43\n",
      "Date:   2022-11-16  stopped at:  47\n",
      "Date:   2022-11-20  stopped at:  6\n",
      "Date:   2022-11-17  stopped at:  0\n",
      "Date:   2022-11-05  stopped at:  2\n",
      "Date:   2022-11-01  stopped at:  0\n",
      "Date:   2022-11-11  stopped at:  523\n",
      "Date:   2022-11-24  stopped at:  1\n",
      "Date:   2022-11-23  stopped at:  2\n",
      "Date:   2022-11-13  stopped at:  13\n",
      "Date:   2022-11-22  stopped at:  7\n",
      "Date:   2022-11-21  stopped at:  25\n",
      "Date:   2022-11-07  stopped at:  6\n",
      "Date:   2022-11-24  stopped at:  22\n",
      "Date:   2022-11-25  stopped at:  16\n",
      "Date:   2022-11-26  stopped at:  5\n",
      "Date:   2022-11-27  stopped at:  43\n",
      "Date:   2022-11-28  stopped at:  7\n",
      "Date:   2022-11-29  stopped at:  0\n",
      "Date:   2022-11-30  stopped at:  2\n"
     ]
    },
    {
     "data": {
      "application/vnd.jupyter.widget-view+json": {
       "model_id": "cb7e2722d71a490da01f691c6a3ad143",
       "version_major": 2,
       "version_minor": 0
      },
      "text/plain": [
       "  0%|          | 0/60166 [00:00<?, ?it/s]"
      ]
     },
     "metadata": {},
     "output_type": "display_data"
    },
    {
     "name": "stdout",
     "output_type": "stream",
     "text": [
      "Date:   2022-11-16  stopped at:  23\n",
      "Date:   2022-11-03  stopped at:  0\n",
      "Date:   2022-11-11  stopped at:  25\n",
      "Date:   2022-11-17  stopped at:  0\n",
      "Date:   2022-11-21  stopped at:  9\n",
      "Date:   2022-10-31  stopped at:  12\n",
      "Date:   2022-11-07  stopped at:  73\n",
      "Date:   2022-11-15  stopped at:  34\n",
      "Date:   2022-11-02  stopped at:  2\n",
      "Date:   2022-11-08  stopped at:  25\n",
      "Date:   2022-11-20  stopped at:  47\n",
      "Date:   2022-11-13  stopped at:  97\n",
      "Date:   2022-11-06  stopped at:  3\n",
      "Date:   2022-11-24  stopped at:  4\n",
      "Date:   2022-11-04  stopped at:  1\n",
      "Date:   2022-11-05  stopped at:  11\n",
      "Date:   2022-11-18  stopped at:  3\n",
      "Date:   2022-11-12  stopped at:  22\n",
      "Date:   2022-11-22  stopped at:  0\n",
      "Date:   2022-11-09  stopped at:  11\n",
      "Date:   2022-11-19  stopped at:  3\n",
      "Date:   2022-11-14  stopped at:  7\n",
      "Date:   2022-11-23  stopped at:  6\n",
      "Date:   2022-11-01  stopped at:  1\n",
      "Date:   2022-11-10  stopped at:  6\n",
      "Date:   2022-11-24  stopped at:  176\n",
      "Date:   2022-11-25  stopped at:  27\n",
      "Date:   2022-11-26  stopped at:  28\n",
      "Date:   2022-11-27  stopped at:  17\n",
      "Date:   2022-11-28  stopped at:  8\n",
      "Date:   2022-11-29  stopped at:  53\n",
      "Date:   2022-11-30  stopped at:  22\n",
      "Better mean reward! Saving...\n"
     ]
    },
    {
     "data": {
      "application/vnd.jupyter.widget-view+json": {
       "model_id": "7b8bdd2b29d6480fa7e8ddeefa86f66e",
       "version_major": 2,
       "version_minor": 0
      },
      "text/plain": [
       "  0%|          | 0/60166 [00:00<?, ?it/s]"
      ]
     },
     "metadata": {},
     "output_type": "display_data"
    },
    {
     "name": "stdout",
     "output_type": "stream",
     "text": [
      "Date:   2022-11-22  stopped at:  15\n",
      "Date:   2022-11-05  stopped at:  10\n",
      "Date:   2022-11-20  stopped at:  53\n",
      "Date:   2022-11-14  stopped at:  11\n",
      "Date:   2022-11-02  stopped at:  10\n",
      "Date:   2022-11-24  stopped at:  7\n",
      "Date:   2022-11-03  stopped at:  21\n",
      "Date:   2022-11-18  stopped at:  7\n",
      "Date:   2022-11-15  stopped at:  2\n",
      "Date:   2022-10-31  stopped at:  23\n",
      "Date:   2022-11-23  stopped at:  9\n",
      "Date:   2022-11-10  stopped at:  1\n",
      "Date:   2022-11-07  stopped at:  1\n",
      "Date:   2022-11-09  stopped at:  6\n",
      "Date:   2022-11-11  stopped at:  1337\n",
      "Date:   2022-11-01  stopped at:  1\n",
      "Date:   2022-11-17  stopped at:  78\n",
      "Date:   2022-11-08  stopped at:  41\n",
      "Date:   2022-11-06  stopped at:  20\n",
      "Date:   2022-11-21  stopped at:  3\n",
      "Date:   2022-11-19  stopped at:  62\n",
      "Date:   2022-11-13  stopped at:  57\n",
      "Date:   2022-11-04  stopped at:  9\n",
      "Date:   2022-11-16  stopped at:  295\n",
      "Date:   2022-11-12  stopped at:  4\n",
      "Date:   2022-11-24  stopped at:  0\n",
      "Date:   2022-11-25  stopped at:  39\n",
      "Date:   2022-11-26  stopped at:  1\n",
      "Date:   2022-11-27  stopped at:  7\n",
      "Date:   2022-11-28  stopped at:  8\n",
      "Date:   2022-11-29  stopped at:  3\n",
      "Date:   2022-11-30  stopped at:  12\n"
     ]
    },
    {
     "data": {
      "application/vnd.jupyter.widget-view+json": {
       "model_id": "38d2e620559b4266aa53892661009e0b",
       "version_major": 2,
       "version_minor": 0
      },
      "text/plain": [
       "  0%|          | 0/60166 [00:00<?, ?it/s]"
      ]
     },
     "metadata": {},
     "output_type": "display_data"
    },
    {
     "name": "stdout",
     "output_type": "stream",
     "text": [
      "Date:   2022-11-05  stopped at:  4\n",
      "Date:   2022-11-16  stopped at:  376\n",
      "Date:   2022-11-14  stopped at:  96\n",
      "Date:   2022-11-12  stopped at:  25\n",
      "Date:   2022-11-11  stopped at:  432\n",
      "Date:   2022-11-10  stopped at:  0\n",
      "Date:   2022-11-03  stopped at:  18\n",
      "Date:   2022-11-06  stopped at:  27\n",
      "Date:   2022-11-13  stopped at:  36\n",
      "Date:   2022-11-08  stopped at:  12\n",
      "Date:   2022-11-23  stopped at:  31\n",
      "Date:   2022-11-24  stopped at:  11\n",
      "Date:   2022-11-22  stopped at:  6\n",
      "Date:   2022-11-19  stopped at:  441\n",
      "Date:   2022-11-09  stopped at:  127\n",
      "Date:   2022-11-02  stopped at:  46\n",
      "Date:   2022-11-04  stopped at:  14\n",
      "Date:   2022-11-18  stopped at:  3\n",
      "Date:   2022-11-01  stopped at:  20\n",
      "Date:   2022-11-15  stopped at:  1256\n",
      "Should have stopped at:  2141\n",
      "Should have stopped at:  2142\n",
      "Should have stopped at:  2143\n",
      "Should have stopped at:  2144\n",
      "Should have stopped at:  2145\n",
      "Should have stopped at:  2146\n",
      "Should have stopped at:  2147\n",
      "Should have stopped at:  2148\n",
      "Should have stopped at:  2149\n",
      "Should have stopped at:  2150\n",
      "Should have stopped at:  2151\n",
      "Should have stopped at:  2152\n",
      "Should have stopped at:  2153\n",
      "Should have stopped at:  2154\n",
      "Should have stopped at:  2155\n",
      "Should have stopped at:  2156\n",
      "Should have stopped at:  2157\n",
      "Should have stopped at:  2158\n",
      "Should have stopped at:  2159\n",
      "Should have stopped at:  2160\n",
      "Should have stopped at:  2161\n",
      "Should have stopped at:  2162\n",
      "Should have stopped at:  2163\n",
      "Should have stopped at:  2164\n",
      "Should have stopped at:  2165\n",
      "Should have stopped at:  2166\n",
      "Should have stopped at:  2167\n",
      "Should have stopped at:  2168\n",
      "Should have stopped at:  2169\n",
      "Should have stopped at:  2170\n",
      "Should have stopped at:  2171\n",
      "Should have stopped at:  2172\n",
      "Should have stopped at:  2173\n",
      "Should have stopped at:  2174\n",
      "Should have stopped at:  2175\n",
      "Should have stopped at:  2176\n",
      "Should have stopped at:  2177\n",
      "Should have stopped at:  2178\n",
      "Should have stopped at:  2179\n",
      "Should have stopped at:  2180\n",
      "Should have stopped at:  2181\n",
      "Should have stopped at:  2182\n",
      "Should have stopped at:  2183\n",
      "Should have stopped at:  2184\n",
      "Should have stopped at:  2185\n",
      "Should have stopped at:  2186\n",
      "Should have stopped at:  2187\n",
      "Should have stopped at:  2188\n",
      "Should have stopped at:  2189\n",
      "Should have stopped at:  2190\n",
      "Should have stopped at:  2191\n",
      "Should have stopped at:  2192\n",
      "Should have stopped at:  2193\n",
      "Should have stopped at:  2194\n",
      "Should have stopped at:  2195\n",
      "Date:   2022-11-21  stopped at:  1495\n",
      "Date:   2022-11-24  stopped at:  161\n",
      "Date:   2022-11-25  stopped at:  597\n",
      "Should have stopped at:  275\n",
      "Should have stopped at:  276\n",
      "Should have stopped at:  277\n",
      "Should have stopped at:  278\n",
      "Should have stopped at:  279\n",
      "Should have stopped at:  280\n",
      "Should have stopped at:  281\n",
      "Should have stopped at:  282\n",
      "Should have stopped at:  283\n",
      "Should have stopped at:  284\n",
      "Should have stopped at:  285\n",
      "Should have stopped at:  286\n",
      "Should have stopped at:  287\n",
      "Should have stopped at:  288\n",
      "Should have stopped at:  289\n",
      "Should have stopped at:  290\n",
      "Should have stopped at:  291\n",
      "Should have stopped at:  292\n",
      "Should have stopped at:  293\n",
      "Should have stopped at:  294\n",
      "Should have stopped at:  295\n",
      "Should have stopped at:  296\n",
      "Should have stopped at:  297\n",
      "Should have stopped at:  298\n",
      "Should have stopped at:  299\n",
      "Should have stopped at:  300\n",
      "Should have stopped at:  301\n",
      "Should have stopped at:  302\n",
      "Should have stopped at:  303\n",
      "Should have stopped at:  304\n",
      "Should have stopped at:  305\n",
      "Should have stopped at:  306\n",
      "Should have stopped at:  307\n",
      "Should have stopped at:  308\n",
      "Should have stopped at:  309\n",
      "Should have stopped at:  310\n",
      "Should have stopped at:  311\n",
      "Should have stopped at:  312\n",
      "Should have stopped at:  313\n",
      "Should have stopped at:  314\n",
      "Should have stopped at:  315\n",
      "Should have stopped at:  316\n",
      "Should have stopped at:  317\n",
      "Should have stopped at:  318\n",
      "Should have stopped at:  319\n",
      "Should have stopped at:  320\n",
      "Should have stopped at:  321\n",
      "Should have stopped at:  322\n",
      "Should have stopped at:  323\n",
      "Should have stopped at:  324\n",
      "Should have stopped at:  325\n",
      "Should have stopped at:  326\n",
      "Should have stopped at:  327\n",
      "Should have stopped at:  328\n",
      "Should have stopped at:  329\n",
      "Should have stopped at:  330\n",
      "Should have stopped at:  331\n",
      "Should have stopped at:  332\n",
      "Should have stopped at:  333\n",
      "Date:   2022-11-26  stopped at:  348\n",
      "Date:   2022-11-27  stopped at:  37\n",
      "Should have stopped at:  282\n",
      "Should have stopped at:  283\n",
      "Should have stopped at:  284\n",
      "Should have stopped at:  285\n",
      "Should have stopped at:  286\n",
      "Should have stopped at:  287\n",
      "Should have stopped at:  288\n",
      "Should have stopped at:  289\n",
      "Date:   2022-11-28  stopped at:  290\n",
      "Date:   2022-11-29  stopped at:  290\n",
      "Date:   2022-11-30  stopped at:  33\n",
      "Better mean reward! Saving...\n"
     ]
    },
    {
     "data": {
      "application/vnd.jupyter.widget-view+json": {
       "model_id": "78c9e8d035294b309cb30a9632d6c6c0",
       "version_major": 2,
       "version_minor": 0
      },
      "text/plain": [
       "  0%|          | 0/60166 [00:00<?, ?it/s]"
      ]
     },
     "metadata": {},
     "output_type": "display_data"
    },
    {
     "name": "stdout",
     "output_type": "stream",
     "text": [
      "Date:   2022-11-03  stopped at:  180\n"
     ]
    }
   ],
   "source": [
    "for dir in os.listdir('../data'):\n",
    "    if dir in ['nitrogen-generator','wrapper-machine']:\n",
    "        continue\n",
    "\n",
    "    print(dir.upper())\n",
    "    # Data loading\n",
    "    data_dir_path = os.path.join('../data', dir)\n",
    "    \n",
    "    X_train = pickle.load(open(os.path.join('../data',dir,'preprocessed/X_train.pkl'), 'rb'))\n",
    "    X_valid = pickle.load(open(os.path.join('../data',dir,'preprocessed/X_valid.pkl'), 'rb'))\n",
    "    X_test = pickle.load(open(os.path.join('../data',dir,'preprocessed/X_test.pkl'), 'rb'))\n",
    "    y_train = pickle.load(open(os.path.join('../data',dir,'preprocessed/y_train.pkl'), 'rb'))\n",
    "    y_valid = pickle.load(open(os.path.join('../data',dir,'preprocessed/y_valid.pkl'), 'rb'))\n",
    "    y_test = pickle.load(open(os.path.join('../data',dir,'preprocessed/y_test.pkl'), 'rb'))\n",
    "    \n",
    "\n",
    "    # Data loading\n",
    "    data_dir_path = os.path.join('../data', dir)\n",
    "    if dir == 'nitrogen-generator':\n",
    "        tf = '%Y-%m-%d %H:%M:%S'\n",
    "    else:\n",
    "        tf = '%Y-%m-%d %H:%M:%S.%f'\n",
    "\n",
    "    train_ts = TimeSeries.from_csv(\n",
    "        'pandas',\n",
    "        os.path.join(data_dir_path, 'train.csv')\n",
    "    )\n",
    "    valid_ts = TimeSeries.from_csv(\n",
    "        'pandas',\n",
    "        os.path.join(data_dir_path, 'val.csv')\n",
    "    )\n",
    "    test_ts = TimeSeries.from_csv(\n",
    "        'pandas',\n",
    "        os.path.join(data_dir_path, 'test.csv')\n",
    "    )\n",
    "\n",
    "    # Data prep\n",
    "    train_ts.parse_datetime('timestamp', tf)\n",
    "    valid_ts.parse_datetime('timestamp', tf)\n",
    "    test_ts.parse_datetime('timestamp', tf)\n",
    "\n",
    "    train_ts.split_by_day()\n",
    "    valid_ts.split_by_day()\n",
    "    test_ts.split_by_day()\n",
    "\n",
    "    temp = pd.concat(\n",
    "        train_ts.time_series[k].drop(\n",
    "            columns=['timestamp','PW_0.5h','date','time']\n",
    "        ) for k in train_ts.time_series.keys()\n",
    "    )\n",
    "\n",
    "    FEATURE_COLS = [\n",
    "        c for c in temp.columns if np.std(temp[c])!=0\n",
    "    ]\n",
    "    LABEL_COL = 'PW_0.5h'\n",
    "\n",
    "    temp = None\n",
    "    del temp\n",
    "\n",
    "    # Make environments\n",
    "    train_env = TimeSeriesEnv(train_ts, FEATURE_COLS, LABEL_COL, True)\n",
    "    valid_env = TimeSeriesEnv(valid_ts, FEATURE_COLS, LABEL_COL, False)\n",
    "    test_env = TimeSeriesEnv(test_ts, FEATURE_COLS, LABEL_COL, False)\n",
    "\n",
    "    # Model prep\n",
    "    hid_dim = 0\n",
    "    for i in range(10):\n",
    "        if 2**i > len(FEATURE_COLS):\n",
    "            hid_dim = 2**(i+1)\n",
    "            break\n",
    "    print('Features: ', len(FEATURE_COLS))\n",
    "    print('Hidden Dim: ',hid_dim)\n",
    "    ppo = rl.PPOAgent(\n",
    "        in_dim=len(FEATURE_COLS),\n",
    "        hid_dim=hid_dim,\n",
    "        clip=0.2,\n",
    "        update_freq=10,\n",
    "        save_dir=os.path.join('../results/rl',dir),\n",
    "        lr=3e-4,\n",
    "        gamma=0.99,\n",
    "        bsz=64,\n",
    "        device='cuda'\n",
    "    )\n",
    "\n",
    "    # Train\n",
    "    epochs = 1000\n",
    "    train_actions, train_rewards = ppo.train(epochs, train_env, valid_env)\n",
    "\n",
    "    # Load and test best model\n",
    "    ppo.policy_net.load_state_dict(\n",
    "        torch.load(\n",
    "            os.path.join('../results/rl',dir,'ppo-policy-network.pt')\n",
    "        )\n",
    "    )\n",
    "    test_actions, test_rewards = ppo.run(test_env)\n",
    "    \n",
    "    # Save output\n",
    "    pickle.dump(train_actions, open(os.path.join('../results/rl',dir,'ppo_train_actions.pkl'), 'wb'))\n",
    "    pickle.dump(train_rewards, open(os.path.join('../results/rl',dir,'ppo_train_rewards.pkl'), 'wb'))\n",
    "    pickle.dump(test_actions, open(os.path.join('../results/rl',dir,'ppo_test_actions.pkl'), 'wb'))\n",
    "    pickle.dump(test_rewards, open(os.path.join('../results/rl',dir,'ppo_test_rewards.pkl'), 'wb'))\n",
    "\n",
    "print(\"<< PROCESS COMPELTE >>\")"
   ]
  },
  {
   "cell_type": "code",
   "execution_count": null,
   "id": "74a82700",
   "metadata": {},
   "outputs": [],
   "source": [
    "sns.lineplot(train_rewards)"
   ]
  },
  {
   "cell_type": "code",
   "execution_count": null,
   "id": "059b5642",
   "metadata": {},
   "outputs": [],
   "source": [
    "sns.lineplot(train_actions)"
   ]
  },
  {
   "cell_type": "code",
   "execution_count": null,
   "id": "a17f0baa",
   "metadata": {},
   "outputs": [],
   "source": [
    "test_actions"
   ]
  },
  {
   "cell_type": "code",
   "execution_count": null,
   "id": "b6a6d1de",
   "metadata": {},
   "outputs": [],
   "source": []
  }
 ],
 "metadata": {
  "kernelspec": {
   "display_name": "Python 3 (ipykernel)",
   "language": "python",
   "name": "python3"
  },
  "language_info": {
   "codemirror_mode": {
    "name": "ipython",
    "version": 3
   },
   "file_extension": ".py",
   "mimetype": "text/x-python",
   "name": "python",
   "nbconvert_exporter": "python",
   "pygments_lexer": "ipython3",
   "version": "3.10.12"
  }
 },
 "nbformat": 4,
 "nbformat_minor": 5
}
