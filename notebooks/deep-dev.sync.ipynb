{
 "cells": [
  {
   "cell_type": "code",
   "execution_count": 1,
   "id": "29a2f953",
   "metadata": {},
   "outputs": [
    {
     "name": "stderr",
     "output_type": "stream",
     "text": [
      "/home/dalton/projects/practicum/env/lib/python3.10/site-packages/transformers/utils/generic.py:311: UserWarning: torch.utils._pytree._register_pytree_node is deprecated. Please use torch.utils._pytree.register_pytree_node instead.\n",
      "  torch.utils._pytree._register_pytree_node(\n"
     ]
    }
   ],
   "source": [
    "import os\n",
    "from string import Template\n",
    "from collections import namedtuple\n",
    "\n",
    "import matplotlib.pyplot as plt\n",
    "import seaborn as sns\n",
    "\n",
    "import numpy as np\n",
    "import pandas as pd\n",
    "import torch\n",
    "from torch.utils.data import DataLoader\n",
    "\n",
    "import sys\n",
    "sys.path.insert(0, '..')\n",
    "from src.data import TimeSeries\n",
    "from src.methods.deep import (\n",
    "    DeepStoppingModel,\n",
    "    TimeSeriesDataset\n",
    ")\n",
    "from src.eval import (\n",
    "    mean_time_from_event,\n",
    "    classification_metrics\n",
    ")"
   ]
  },
  {
   "cell_type": "code",
   "execution_count": null,
   "id": "dcd50b68",
   "metadata": {},
   "outputs": [],
   "source": [
    "\n",
    "br_train = TimeSeries.from_csv(\n",
    "    'pandas',\n",
    "    '../data/blood-refrigerator/train.csv'\n",
    ")\n",
    "br_dev = TimeSeries.from_csv(\n",
    "    'pandas',\n",
    "    '../data/blood-refrigerator/val.csv'\n",
    ")\n",
    "br_test = TimeSeries.from_csv(\n",
    "    'pandas',\n",
    "    '../data/blood-refrigerator/test.csv'\n",
    ")\n",
    "print(br_train.shape, br_dev.shape, br_test.shape)\n",
    "br_dev.head()"
   ]
  },
  {
   "cell_type": "code",
   "execution_count": null,
   "id": "d9d234cf",
   "metadata": {},
   "outputs": [],
   "source": [
    "br_train.parse_datetime('timestamp')\n",
    "br_dev.parse_datetime('timestamp')\n",
    "br_test.parse_datetime('timestamp')\n",
    "\n",
    "br_train.split_by_day()\n",
    "br_dev.split_by_day()\n",
    "br_test.split_by_day()\n",
    "\n",
    "len(br_train.time_series), len(br_dev.time_series), len(br_test.time_series)"
   ]
  },
  {
   "cell_type": "code",
   "execution_count": null,
   "id": "3eee8379",
   "metadata": {},
   "outputs": [],
   "source": [
    "splits = [0.25, 0.5, 0.75, 1.0]\n",
    "br_train_splits = {}\n",
    "\n",
    "for pct in splits:\n",
    "    n_days = len(br_train.time_series)\n",
    "    train_days = list(br_train.time_series.keys())[-int(pct*n_days):]\n",
    "    y = pd.concat([\n",
    "        br_train.time_series[k]['PW_0.5h'] for k in train_days\n",
    "    ])\n",
    "    X = pd.concat([\n",
    "        br_train.time_series[k].drop(\n",
    "            columns=['timestamp','PW_0.5h','date','time']\n",
    "        ) for k in train_days\n",
    "    ])\n",
    "\n",
    "    # Drop std=0 variables\n",
    "    X = X[\n",
    "        [c for c in X.columns if np.std(X[c]) != 0]\n",
    "    ]\n",
    "\n",
    "    if pct == 0.25:\n",
    "        keep_cols = X.columns\n",
    "        \n",
    "    br_train_splits.update(\n",
    "        {\n",
    "            str(pct):\n",
    "            {\n",
    "                'X': X.values,\n",
    "                'y': y.values,\n",
    "                'cols': keep_cols.tolist()\n",
    "            }\n",
    "        }\n",
    "    )\n",
    "    print(f\"{pct}\\t-\\t{X.shape}\\t-\\t{y.shape}\\t-\\n{keep_cols.tolist()}\\n\")"
   ]
  },
  {
   "cell_type": "code",
   "execution_count": null,
   "id": "b7567e6c",
   "metadata": {},
   "outputs": [],
   "source": [
    "br_dev_data = {\n",
    "    'X': {dt: x[keep_cols].values for dt, x in br_dev.time_series.items()},\n",
    "    'y': {dt: x['PW_0.5h'].values for dt, x in br_dev.time_series.items()}\n",
    "}\n",
    "br_test_data = {\n",
    "    'X': {dt: x[keep_cols].values for dt, x in br_test.time_series.items()},\n",
    "    'y': {dt: x['PW_0.5h'].values for dt, x in br_test.time_series.items()}\n",
    "}"
   ]
  },
  {
   "cell_type": "code",
   "execution_count": null,
   "id": "ea6daf28",
   "metadata": {},
   "outputs": [],
   "source": [
    "br_train_X = []\n",
    "br_train_y = []\n",
    "\n",
    "br_025 = br_train_splits['0.25']\n",
    "\n",
    "print(br_025['X'].shape)\n",
    "\n",
    "br_train_X = np.lib.stride_tricks.sliding_window_view(\n",
    "    br_025['X'],\n",
    "    (512, 12)\n",
    ")\n",
    "br_train_y = np.lib.stride_tricks.sliding_window_view(\n",
    "    br_025['y'],\n",
    "    (512)\n",
    ")\n",
    "    \n",
    "br_train_X = torch.tensor(br_train_X).squeeze().reshape(-1,12,512).type(torch.float32).requires_grad_()\n",
    "br_train_y = torch.tensor(br_train_y).squeeze().type(torch.long)\n",
    "print(br_train_X.type(), br_train_y.type())\n",
    "br_train_X.shape, br_train_y.shape"
   ]
  },
  {
   "cell_type": "code",
   "execution_count": null,
   "id": "ab606090",
   "metadata": {},
   "outputs": [],
   "source": [
    "br_val_X = torch.tensor(np.lib.stride_tricks.sliding_window_view(\n",
    "    np.concatenate(\n",
    "        list(br_dev_data['X'].values())\n",
    "    ),\n",
    "    (512,12)\n",
    ")).squeeze().reshape(-1,12,512).type(torch.float32).requires_grad_()\n",
    "br_val_y = torch.tensor(np.lib.stride_tricks.sliding_window_view(\n",
    "    np.concatenate(\n",
    "        list(br_dev_data['y'].values())\n",
    "    ),\n",
    "    (512)\n",
    ")).type(torch.long)\n",
    "br_test_X = torch.tensor(np.lib.stride_tricks.sliding_window_view(\n",
    "    np.concatenate(\n",
    "        list(br_test_data['X'].values())\n",
    "    ),\n",
    "    (512,12)\n",
    ")).squeeze().reshape(-1,12,512).type(torch.float32).requires_grad_()\n",
    "br_test_y = torch.tensor(np.lib.stride_tricks.sliding_window_view(\n",
    "    np.concatenate(\n",
    "        list(br_test_data['y'].values())\n",
    "    ),\n",
    "    (512)\n",
    ")).type(torch.long)\n",
    "\n",
    "print(br_val_X.type(), br_val_y.type(), br_test_X.type(), br_test_y.type())\n",
    "br_val_X.shape, br_val_y.shape, br_test_X.shape, br_test_y.shape"
   ]
  },
  {
   "cell_type": "code",
   "execution_count": null,
   "id": "fe83f62d",
   "metadata": {},
   "outputs": [],
   "source": [
    "br025_ds = TimeSeriesDataset(br_train_X, br_train_y)\n",
    "train_dl = DataLoader(\n",
    "    br025_ds,\n",
    "    batch_size=8,\n",
    "    shuffle=True\n",
    ")"
   ]
  },
  {
   "cell_type": "code",
   "execution_count": null,
   "id": "b25df0fc",
   "metadata": {},
   "outputs": [],
   "source": [
    "br_dev_ds = TimeSeriesDataset(br_val_X, br_val_y)\n",
    "br_test_ds = TimeSeriesDataset(br_test_X, br_test_y)\n",
    "\n",
    "valid_dl = DataLoader(\n",
    "    br_dev_ds,\n",
    "    batch_size=1,\n",
    "    shuffle=False\n",
    ")\n",
    "test_dl = DataLoader(\n",
    "    br_test_ds,\n",
    "    batch_size=1,\n",
    "    shuffle=False\n",
    ")"
   ]
  },
  {
   "cell_type": "code",
   "execution_count": null,
   "id": "9d41aac7",
   "metadata": {},
   "outputs": [],
   "source": [
    "model = DeepStoppingModel(\n",
    "    'transformer',\n",
    "    12,\n",
    "    device='cuda'\n",
    ")"
   ]
  },
  {
   "cell_type": "code",
   "execution_count": null,
   "id": "bf6bd671",
   "metadata": {},
   "outputs": [],
   "source": [
    "# Expects tensors in [bsz, in_channels, seqlen]\n",
    "model.train(\n",
    "    5,\n",
    "    train_dl,\n",
    "    valid_dl,\n",
    "    lr=0.0001,\n",
    "    momentum=0.9,\n",
    "    dampening=0.0,\n",
    "    weight_decay=0.01,\n",
    "    nesterov=False\n",
    ")"
   ]
  }
 ],
 "metadata": {
  "kernelspec": {
   "display_name": "Python 3 (ipykernel)",
   "language": "python",
   "name": "python3"
  },
  "language_info": {
   "codemirror_mode": {
    "name": "ipython",
    "version": 3
   },
   "file_extension": ".py",
   "mimetype": "text/x-python",
   "name": "python",
   "nbconvert_exporter": "python",
   "pygments_lexer": "ipython3",
   "version": "3.10.12"
  }
 },
 "nbformat": 4,
 "nbformat_minor": 5
}
