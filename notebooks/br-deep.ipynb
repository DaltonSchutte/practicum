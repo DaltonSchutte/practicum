{
 "cells": [
  {
   "cell_type": "code",
   "execution_count": null,
   "id": "a5fa1926",
   "metadata": {},
   "outputs": [],
   "source": [
    "import os\n",
    "from string import Template\n",
    "from collections import namedtuple\n",
    "\n",
    "import matplotlib.pyplot as plt\n",
    "import seaborn as sns\n",
    "\n",
    "import numpy as np\n",
    "import pandas as pd\n",
    "\n",
    "import sys\n",
    "sys.path.insert(0, '..')\n",
    "from src.data import TimeSeries\n",
    "from src.methods.deep import DeepStoppingModel\n",
    "from src.eval import (\n",
    "    mean_time_from_event,\n",
    "    classification_metrics\n",
    ")"
   ]
  },
  {
   "cell_type": "code",
   "execution_count": null,
   "id": "8ba7c20c",
   "metadata": {},
   "outputs": [],
   "source": [
    "br_train = TimeSeries.from_csv(\n",
    "    'pandas',\n",
    "    '../data/blood-refrigerator/train.csv'\n",
    ")\n",
    "br_dev = TimeSeries.from_csv(\n",
    "    'pandas',\n",
    "    '../data/blood-refrigerator/val.csv'\n",
    ")\n",
    "br_test = TimeSeries.from_csv(\n",
    "    'pandas',\n",
    "    '../data/blood-refrigerator/test.csv'\n",
    ")\n",
    "print(br_train.shape, br_dev.shape, br_test.shape)\n",
    "br_dev.head()"
   ]
  },
  {
   "cell_type": "code",
   "execution_count": null,
   "id": "06bb609f",
   "metadata": {},
   "outputs": [],
   "source": [
    "br_train.parse_datetime('timestamp')\n",
    "br_dev.parse_datetime('timestamp')\n",
    "br_test.parse_datetime('timestamp')\n",
    "\n",
    "br_train.split_by_day()\n",
    "br_dev.split_by_day()\n",
    "br_test.split_by_day()\n",
    "\n",
    "len(br_train.time_series), len(br_dev.time_series), len(br_test.time_series)"
   ]
  },
  {
   "cell_type": "code",
   "execution_count": null,
   "id": "b42ed68c",
   "metadata": {},
   "outputs": [],
   "source": [
    "splits = [0.25, 0.5, 0.75, 1.0]\n",
    "br_train_splits = {}\n",
    "\n",
    "for pct in splits:\n",
    "    n_days = len(br_train.time_series)\n",
    "    train_days = list(br_train.time_series.keys())[-int(pct*n_days):]\n",
    "    y = pd.concat([\n",
    "        br_train.time_series[k]['PW_0.5h'] for k in train_days\n",
    "    ])\n",
    "    X = pd.concat([\n",
    "        br_train.time_series[k].drop(\n",
    "            columns=['timestamp','PW_0.5h','date','time']\n",
    "        ) for k in train_days\n",
    "    ])\n",
    "\n",
    "    # Drop std=0 variables\n",
    "    X = X[\n",
    "        [c for c in X.columns if np.std(X[c]) != 0]\n",
    "    ]\n",
    "\n",
    "    if pct == 0.25:\n",
    "        keep_cols = X.columns\n",
    "        \n",
    "    br_train_splits.update(\n",
    "        {\n",
    "            str(pct):\n",
    "            {\n",
    "                'X': X.values,\n",
    "                'y': y.values,\n",
    "                'cols': keep_cols.tolist()\n",
    "            }\n",
    "        }\n",
    "    )\n",
    "    print(f\"{pct}\\t-\\t{X.shape}\\t-\\t{y.shape}\\t-\\n{keep_cols.tolist()}\\n\")"
   ]
  },
  {
   "cell_type": "code",
   "execution_count": null,
   "id": "d765fca4",
   "metadata": {},
   "outputs": [],
   "source": [
    "br_dev_data = {\n",
    "    'X': {dt: x[keep_cols].values for dt, x in br_dev.time_series.items()},\n",
    "    'y': {dt: x['PW_0.5h'].values for dt, x in br_dev.time_series.items()}\n",
    "}\n",
    "br_test_data = {\n",
    "    'X': {dt: x[keep_cols].values for dt, x in br_test.time_series.items()},\n",
    "    'y': {dt: x['PW_0.5h'].values for dt, x in br_test.time_series.items()}\n",
    "}"
   ]
  },
  {
   "cell_type": "code",
   "execution_count": null,
   "id": "79f5ae63",
   "metadata": {},
   "outputs": [],
   "source": [
    "model = DeepStoppingModel(\n",
    "    'transformer',\n",
    "    12\n",
    ")"
   ]
  },
  {
   "cell_type": "code",
   "execution_count": null,
   "id": "deef6bfb",
   "metadata": {},
   "outputs": [],
   "source": []
  }
 ],
 "metadata": {
  "kernelspec": {
   "display_name": "Python 3 (ipykernel)",
   "language": "python",
   "name": "python3"
  },
  "language_info": {
   "codemirror_mode": {
    "name": "ipython",
    "version": 3
   },
   "file_extension": ".py",
   "mimetype": "text/x-python",
   "name": "python",
   "nbconvert_exporter": "python",
   "pygments_lexer": "ipython3",
   "version": "3.11.9"
  }
 },
 "nbformat": 4,
 "nbformat_minor": 5
}
