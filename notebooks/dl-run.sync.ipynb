{
 "cells": [
  {
   "cell_type": "code",
   "execution_count": 1,
   "id": "5b1b5ead",
   "metadata": {},
   "outputs": [
    {
     "name": "stderr",
     "output_type": "stream",
     "text": [
      "/home/dalton/projects/practicum/env/lib/python3.10/site-packages/transformers/utils/generic.py:311: UserWarning: torch.utils._pytree._register_pytree_node is deprecated. Please use torch.utils._pytree.register_pytree_node instead.\n",
      "  torch.utils._pytree._register_pytree_node(\n"
     ]
    }
   ],
   "source": [
    "import os\n",
    "import pickle\n",
    "import random\n",
    "import datetime\n",
    "import warnings\n",
    "from string import Template\n",
    "from collections import namedtuple\n",
    "\n",
    "from tqdm.auto import tqdm\n",
    "\n",
    "import numpy as np\n",
    "import pandas as pd\n",
    "\n",
    "from sklearn.metrics import classification_report\n",
    "\n",
    "import torch\n",
    "from torch import nn\n",
    "from torch.utils.data import Dataset, DataLoader\n",
    "\n",
    "import sys\n",
    "sys.path.insert(0, '..')\n",
    "from src.data import TimeSeries\n",
    "from src.methods.deep import (\n",
    "    DeepStoppingModel,\n",
    "    TimeSeriesDataset,\n",
    "    DLDataset,\n",
    "    collator\n",
    ")\n",
    "from src.eval import (\n",
    "    mean_time_from_event, classification_metrics\n",
    ")"
   ]
  },
  {
   "cell_type": "code",
   "execution_count": 2,
   "id": "102781b4",
   "metadata": {},
   "outputs": [],
   "source": [
    "SEED = 3141\n",
    "random.seed(SEED)\n",
    "np.random.seed(SEED)\n",
    "torch.manual_seed(SEED)\n",
    "\n",
    "BATCH_SIZE = 8\n",
    "\n",
    "warnings.filterwarnings('ignore',category=UserWarning)"
   ]
  },
  {
   "cell_type": "code",
   "execution_count": 3,
   "id": "aed92ef2",
   "metadata": {},
   "outputs": [],
   "source": [
    "def get_time_windows(df, tf, window={'minutes': 20}):\n",
    "    windows = []\n",
    "    window_size = datetime.timedelta(**window)\n",
    "    df.reset_index(drop=True, inplace=True)\n",
    "    for i, row in df.iterrows():\n",
    "        start_t = datetime.datetime.strptime(row['timestamp'], tf)\n",
    "        for j, row2 in df.iloc[i:].iterrows():\n",
    "            end_t = datetime.datetime.strptime(row2['timestamp'], tf)\n",
    "            if end_t - start_t >= window_size:\n",
    "                try:\n",
    "                    # label = df['PW_0.5h'].iloc[j+1]\n",
    "                    label = df['PW_0.5h'].iloc[j]\n",
    "                except IndexError:\n",
    "                    label = df['PW_0.5h'].iloc[-1]\n",
    "                except err:\n",
    "                    print(err)\n",
    "                windows.append(\n",
    "                    (df.iloc[i:j+1], label)\n",
    "                )\n",
    "                break\n",
    "    return windows\n",
    "\n",
    "\n",
    "def normalizer(x, max_, min_, mean_):\n",
    "    return (x-mean_) / (max_-min_)"
   ]
  },
  {
   "cell_type": "code",
   "execution_count": null,
   "id": "7a621536",
   "metadata": {
    "scrolled": false
   },
   "outputs": [
    {
     "name": "stdout",
     "output_type": "stream",
     "text": [
      "BLOOD-REFRIGERATOR\n",
      "Loading...\n",
      "{'train': (59266, 59266, 0.011878648803698579), 'valid': (13740, 13740, 0.06091703056768559), 'test': (64791, 64791, 0.009908783627355651)}\n",
      "tensor([0.0119, 0.9881], dtype=torch.float64)\n"
     ]
    },
    {
     "data": {
      "application/vnd.jupyter.widget-view+json": {
       "model_id": "1e6e470542ca46e08bf4a05974e67610",
       "version_major": 2,
       "version_minor": 0
      },
      "text/plain": [
       "  0%|          | 0/5 [00:00<?, ?it/s]"
      ]
     },
     "metadata": {},
     "output_type": "display_data"
    },
    {
     "data": {
      "application/vnd.jupyter.widget-view+json": {
       "model_id": "7ad9d9b9fc7f496eaff528b1a7972787",
       "version_major": 2,
       "version_minor": 0
      },
      "text/plain": [
       "  0%|          | 0/7408 [00:00<?, ?it/s]"
      ]
     },
     "metadata": {},
     "output_type": "display_data"
    },
    {
     "data": {
      "application/vnd.jupyter.widget-view+json": {
       "model_id": "192af4c5f85e4121a31bdf9ef414c9aa",
       "version_major": 2,
       "version_minor": 0
      },
      "text/plain": [
       "  0%|          | 0/13740 [00:00<?, ?it/s]"
      ]
     },
     "metadata": {},
     "output_type": "display_data"
    },
    {
     "name": "stdout",
     "output_type": "stream",
     "text": [
      "              precision    recall  f1-score   support\n",
      "\n",
      "           0       0.95      0.63      0.76     12903\n",
      "           1       0.09      0.54      0.15       837\n",
      "\n",
      "    accuracy                           0.62     13740\n",
      "   macro avg       0.52      0.59      0.45     13740\n",
      "weighted avg       0.90      0.62      0.72     13740\n",
      "\n"
     ]
    },
    {
     "data": {
      "application/vnd.jupyter.widget-view+json": {
       "model_id": "1f09738e68cc4648975e62bdc8c84fad",
       "version_major": 2,
       "version_minor": 0
      },
      "text/plain": [
       "  0%|          | 0/7408 [00:00<?, ?it/s]"
      ]
     },
     "metadata": {},
     "output_type": "display_data"
    },
    {
     "data": {
      "application/vnd.jupyter.widget-view+json": {
       "model_id": "ef34bfaca5f643ca8212a04d0438cfb1",
       "version_major": 2,
       "version_minor": 0
      },
      "text/plain": [
       "  0%|          | 0/13740 [00:00<?, ?it/s]"
      ]
     },
     "metadata": {},
     "output_type": "display_data"
    },
    {
     "name": "stdout",
     "output_type": "stream",
     "text": [
      "              precision    recall  f1-score   support\n",
      "\n",
      "           0       0.96      0.04      0.07     12903\n",
      "           1       0.06      0.97      0.12       837\n",
      "\n",
      "    accuracy                           0.09     13740\n",
      "   macro avg       0.51      0.51      0.09     13740\n",
      "weighted avg       0.90      0.09      0.07     13740\n",
      "\n"
     ]
    },
    {
     "data": {
      "application/vnd.jupyter.widget-view+json": {
       "model_id": "998c8d6a7d9c4a94967cb1dec7d08e3f",
       "version_major": 2,
       "version_minor": 0
      },
      "text/plain": [
       "  0%|          | 0/7408 [00:00<?, ?it/s]"
      ]
     },
     "metadata": {},
     "output_type": "display_data"
    }
   ],
   "source": [
    "for dir in os.listdir('../data'):\n",
    "    if dir == 'wrapper-machine':\n",
    "        continue\n",
    "\n",
    "    print(dir.upper())\n",
    "    # Data loading\n",
    "    data_dir_path = os.path.join('../data', dir)\n",
    "    if dir == 'nitrogen-generator':\n",
    "        tf = '%Y-%m-%d %H:%M:%S'\n",
    "    else:\n",
    "        tf = '%Y-%m-%d %H:%M:%S.%f'\n",
    "\n",
    "    train_ts = TimeSeries.from_csv(\n",
    "        'pandas',\n",
    "        os.path.join(data_dir_path, 'train.csv')\n",
    "    )\n",
    "    valid_ts = TimeSeries.from_csv(\n",
    "        'pandas',\n",
    "        os.path.join(data_dir_path, 'val.csv')\n",
    "    )\n",
    "    test_ts = TimeSeries.from_csv(\n",
    "        'pandas',\n",
    "        os.path.join(data_dir_path, 'test.csv')\n",
    "    )\n",
    "\n",
    "    # Data prep\n",
    "    train_ts.parse_datetime('timestamp', tf)\n",
    "    valid_ts.parse_datetime('timestamp', tf)\n",
    "    test_ts.parse_datetime('timestamp', tf)\n",
    "    \n",
    "    train_ts.split_by_day()\n",
    "    valid_ts.split_by_day()\n",
    "    test_ts.split_by_day()\n",
    "\n",
    "    temp = pd.concat(\n",
    "        train_ts.time_series[k].drop(\n",
    "            columns=['timestamp','PW_0.5h','date','time']\n",
    "        ) for k in train_ts.time_series.keys()\n",
    "    )\n",
    "\n",
    "    FEATURE_COLS = [\n",
    "        c for c in temp.columns if np.std(temp[c])!=0\n",
    "    ]\n",
    "    LABEL_COL = 'PW_0.5h'\n",
    "\n",
    "    temp = None\n",
    "    del temp\n",
    "    \n",
    "    # Normalize to [-1,1]\n",
    "    X_train_max = train_ts.data[FEATURE_COLS].max()\n",
    "    X_train_min = train_ts.data[FEATURE_COLS].min()\n",
    "    X_train_mean = train_ts.data[FEATURE_COLS].mean()\n",
    "\n",
    "    save_dir = os.path.join('../data',dir,'preprocessed')\n",
    "    if not os.path.isfile(os.path.join(save_dir, 'X_train.pkl')):\n",
    "        print('Making datasets...')\n",
    "\n",
    "        for dset in [train_ts, valid_ts, test_ts]:\n",
    "            for dt, ts in dset.time_series.items():\n",
    "                ts.loc[:,FEATURE_COLS] = normalizer(ts.loc[:,FEATURE_COLS], X_train_max,X_train_min,X_train_mean)\n",
    "                dset.time_series.update({dt:ts})\n",
    "\n",
    "        train_windows = {\n",
    "            dt: get_time_windows(ts, tf) for dt, ts in train_ts.time_series.items()\n",
    "        }\n",
    "\n",
    "        valid_windows = {\n",
    "            dt: get_time_windows(ts, tf) for dt, ts in valid_ts.time_series.items()\n",
    "        }\n",
    "        test_windows = {\n",
    "            dt: get_time_windows(ts, tf) for dt, ts in test_ts.time_series.items()\n",
    "        }\n",
    "\n",
    "        X_train = [\n",
    "            df[FEATURE_COLS].values for pr in train_windows.values() for (df,_) in pr\n",
    "        ]\n",
    "        y_train = [\n",
    "            l for pr in train_windows.values() for (_,l) in pr\n",
    "        ]\n",
    "        X_valid = [\n",
    "            df[FEATURE_COLS].values for pr in valid_windows.values() for (df,_) in pr\n",
    "        ]\n",
    "        y_valid = [\n",
    "            l for pr in valid_windows.values() for (_,l) in pr\n",
    "        ]\n",
    "        X_test = [\n",
    "            df[FEATURE_COLS].values for pr in test_windows.values() for (df,_) in pr\n",
    "        ]\n",
    "        y_test = [\n",
    "            l for pr in test_windows.values() for (_,l) in pr\n",
    "        ]\n",
    "\n",
    "        pickle.dump(X_train, open(os.path.join(save_dir, 'X_train.pkl'), 'wb'))\n",
    "        pickle.dump(y_train, open(os.path.join(save_dir, 'y_train.pkl'), 'wb'))\n",
    "        pickle.dump(X_valid, open(os.path.join(save_dir, 'X_valid.pkl'), 'wb'))\n",
    "        pickle.dump(y_valid, open(os.path.join(save_dir, 'y_valid.pkl'), 'wb'))\n",
    "        pickle.dump(X_test, open(os.path.join(save_dir, 'X_test.pkl'), 'wb'))\n",
    "        pickle.dump(y_test, open(os.path.join(save_dir, 'y_test.pkl'), 'wb'))\n",
    "    else:\n",
    "        print('Loading...')\n",
    "        X_train = pickle.load(open(os.path.join(save_dir, 'X_train.pkl'), 'rb'))\n",
    "        y_train = pickle.load(open(os.path.join(save_dir, 'y_train.pkl'), 'rb'))\n",
    "        X_valid = pickle.load(open(os.path.join(save_dir, 'X_valid.pkl'), 'rb'))\n",
    "        y_valid = pickle.load(open(os.path.join(save_dir, 'y_valid.pkl'), 'rb'))\n",
    "        X_test = pickle.load(open(os.path.join(save_dir, 'X_test.pkl'), 'rb'))\n",
    "        y_test = pickle.load(open(os.path.join(save_dir, 'y_test.pkl'), 'rb'))\n",
    "\n",
    "\n",
    "    print({\n",
    "        'train': (len(X_train), len(y_train), np.mean(y_train)),\n",
    "        'valid': (len(X_valid), len(y_valid), np.mean(y_valid)),\n",
    "        'test': (len(X_test), len(y_test), np.mean(y_test))\n",
    "    })\n",
    "\n",
    "    train_ds = DLDataset(X_train, y_train)\n",
    "    valid_ds = DLDataset(X_valid, y_valid)\n",
    "    test_ds = DLDataset(X_test, y_test)\n",
    "\n",
    "    train_dl = DataLoader(\n",
    "        train_ds,\n",
    "        batch_size=BATCH_SIZE,\n",
    "        shuffle=True,\n",
    "        collate_fn=collator,\n",
    "        drop_last=True\n",
    "    )\n",
    "    valid_dl = DataLoader(\n",
    "        valid_ds,\n",
    "        collate_fn=collator\n",
    "    )\n",
    "    test_dl = DataLoader(\n",
    "        test_ds,\n",
    "        shuffle=False,\n",
    "        collate_fn=collator\n",
    "    )\n",
    "\n",
    "    model = DeepStoppingModel(\n",
    "        'transformer',\n",
    "        len(FEATURE_COLS),\n",
    "        device='cuda',\n",
    "        save_dir=os.path.join('../results/deep',dir,'transformer.pt'),\n",
    "        bsz=BATCH_SIZE\n",
    "    )\n",
    "\n",
    "    # Loss weighting to manage class imbalance\n",
    "    pw1 = np.mean(train_ds.y)\n",
    "    pw0 = 1-pw1\n",
    "    pw0,pw1\n",
    "    weights = torch.tensor([1/pw0,1/pw1])\n",
    "    weights /= weights.sum()\n",
    "    weights\n",
    "    print(weights)\n",
    "\n",
    "    # Train\n",
    "    model.train(\n",
    "        5,\n",
    "        train_dl,\n",
    "        valid_dl,\n",
    "        class_weight=weights,\n",
    "        lr=1e-3,\n",
    "        eta_min=1e-6,\n",
    "        weight_decay=0.1,\n",
    "#        debug=True\n",
    "    )\n",
    "\n",
    "    # Load and test best model\n",
    "    model.load_state_dict(\n",
    "        torch.load(\n",
    "            os.path.join('../results/deep',dir,'transformer.pt')\n",
    "        )\n",
    "   )\n",
    "    preds = {}\n",
    "    test_windows = {\n",
    "        dt: get_time_windows(ts, tf) for dt, ts in test_ts.time_series.items()\n",
    "    }\n",
    "    all_preds = []\n",
    "    all_labels = []\n",
    "    with torch.no_grad():\n",
    "        for dt, windows in tqdm(test_windows.items()):\n",
    "            preds.update({dt:[]})\n",
    "            for window, l in windows:\n",
    "                all_labels.append(l)\n",
    "                n = len(window)\n",
    "                mask = torch.cat([\n",
    "                    torch.ones(n),torch.zeros(512-n)\n",
    "                ]).unsqueeze(0)\n",
    "                X = torch.cat([\n",
    "                    torch.tensor(window[FEATURE_COLS].values),\n",
    "                    torch.zeros(512-n,len(FEATURE_COLS))\n",
    "                ]).unsqueeze(0).permute(0,2,1).to(dtype=torch.float32, device=model.device)\n",
    "                y = torch.tensor([l], dtype=torch.long, device=model.device)\n",
    "                mask = mask.to(model.device)\n",
    "                pred, _ = model.predict(X, None, mask=mask, infer=True)\n",
    "                all_preds.append(pred.cpu().item())\n",
    "                preds[dt].append(pred.cpu().item())\n",
    "\n",
    "    # Save predictions\n",
    "    pickle.dump(\n",
    "        preds,\n",
    "        open(os.path.join('../results/deep', dir, 'preds.pkl'), 'wb')\n",
    "    )\n",
    "print(classification_report(all_labels, all_preds, zero_division=0.0))"
   ]
  }
 ],
 "metadata": {
  "kernelspec": {
   "display_name": "Python 3 (ipykernel)",
   "language": "python",
   "name": "python3"
  },
  "language_info": {
   "codemirror_mode": {
    "name": "ipython",
    "version": 3
   },
   "file_extension": ".py",
   "mimetype": "text/x-python",
   "name": "python",
   "nbconvert_exporter": "python",
   "pygments_lexer": "ipython3",
   "version": "3.10.12"
  }
 },
 "nbformat": 4,
 "nbformat_minor": 5
}
