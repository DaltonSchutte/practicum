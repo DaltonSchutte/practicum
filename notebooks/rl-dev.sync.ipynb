{
 "cells": [
  {
   "cell_type": "code",
   "execution_count": 19,
   "id": "713fb0c1",
   "metadata": {},
   "outputs": [],
   "source": [
    "import os\n",
    "import pickle \n",
    "import random\n",
    "import warnings\n",
    "\n",
    "import matplotlib.pyplot as plt\n",
    "import seaborn as sns\n",
    "\n",
    "import numpy as np\n",
    "import pandas as pd\n",
    "\n",
    "import torch\n",
    "\n",
    "import sys\n",
    "sys.path.insert(0, '..')\n",
    "from src.data import TimeSeries\n",
    "from src.methods import rl\n",
    "from src.environment import TimeSeriesEnv"
   ]
  },
  {
   "cell_type": "code",
   "execution_count": 2,
   "id": "98d5b268",
   "metadata": {},
   "outputs": [],
   "source": [
    "# GLOBALS\n",
    "SEED = 3141\n",
    "random.seed(SEED)\n",
    "np.random.seed(SEED)\n",
    "torch.manual_seed(SEED)\n",
    "\n",
    "warnings.filterwarnings('ignore', category=FutureWarning)"
   ]
  },
  {
   "cell_type": "code",
   "execution_count": 3,
   "id": "97d9f7e0",
   "metadata": {},
   "outputs": [],
   "source": [
    "train_ts = TimeSeries.from_csv(\n",
    "    'pandas',\n",
    "    '../data/blood-refrigerator/train.csv'\n",
    ")\n",
    "valid_ts = TimeSeries.from_csv(\n",
    "    'pandas',\n",
    "    '../data/blood-refrigerator/val.csv'\n",
    ")\n",
    "test_ts = TimeSeries.from_csv(\n",
    "    'pandas',\n",
    "    '../data/blood-refrigerator/test.csv'\n",
    ")\n",
    "\n",
    "train_ts.parse_datetime('timestamp')\n",
    "valid_ts.parse_datetime('timestamp')\n",
    "test_ts.parse_datetime('timestamp')\n",
    "\n",
    "train_ts.split_by_day()\n",
    "valid_ts.split_by_day()\n",
    "test_ts.split_by_day()"
   ]
  },
  {
   "cell_type": "code",
   "execution_count": 4,
   "id": "62eb0584",
   "metadata": {},
   "outputs": [
    {
     "data": {
      "text/plain": [
       "12"
      ]
     },
     "execution_count": 4,
     "metadata": {},
     "output_type": "execute_result"
    }
   ],
   "source": [
    "temp = pd.concat(\n",
    "    train_ts.time_series[k].drop(\n",
    "        columns=['timestamp','PW_0.5h','date','time']\n",
    "    ) for k in train_ts.time_series.keys()\n",
    ")\n",
    "\n",
    "FEATURE_COLS = [\n",
    "    c for c in temp.columns if np.std(temp[c])!=0\n",
    "]\n",
    "LABEL_COL = 'PW_0.5h'\n",
    "\n",
    "temp = None\n",
    "del temp\n",
    "len(FEATURE_COLS)"
   ]
  },
  {
   "cell_type": "code",
   "execution_count": 5,
   "id": "c470f48d",
   "metadata": {},
   "outputs": [],
   "source": [
    "train_env = TimeSeriesEnv(train_ts, FEATURE_COLS, LABEL_COL)\n",
    "valid_env = TimeSeriesEnv(valid_ts, FEATURE_COLS, LABEL_COL)\n",
    "test_env = TimeSeriesEnv(test_ts, FEATURE_COLS, LABEL_COL)"
   ]
  },
  {
   "cell_type": "code",
   "execution_count": 6,
   "id": "1f44a26a",
   "metadata": {},
   "outputs": [],
   "source": [
    "alpha_stop = rl.NeuralNetGuidedMCTS(\n",
    "    in_dim=len(FEATURE_COLS),\n",
    "    hid_dim=64,\n",
    "    save_dir='../results/rl/br',\n",
    "    n_actions=2,\n",
    "    n_sim=10,\n",
    "    lr=1e-3,\n",
    "    weight_decay=0.1,\n",
    "    gamma=0.999,\n",
    "    bsz=32,\n",
    "    device='cpu'\n",
    ")"
   ]
  },
  {
   "cell_type": "code",
   "execution_count": 7,
   "id": "4b8d9551",
   "metadata": {},
   "outputs": [
    {
     "data": {
      "application/vnd.jupyter.widget-view+json": {
       "model_id": "b5b6c5a35b7d459ea6e295f2c4c16aff",
       "version_major": 2,
       "version_minor": 0
      },
      "text/plain": [
       "Epochs:   0%|          | 0/5 [00:00<?, ?it/s]"
      ]
     },
     "metadata": {},
     "output_type": "display_data"
    },
    {
     "data": {
      "application/vnd.jupyter.widget-view+json": {
       "model_id": "2fdfda2054274da9bc95193840a75ad4",
       "version_major": 2,
       "version_minor": 0
      },
      "text/plain": [
       "  0%|          | 0/60166 [00:00<?, ?it/s]"
      ]
     },
     "metadata": {},
     "output_type": "display_data"
    },
    {
     "name": "stdout",
     "output_type": "stream",
     "text": [
      "Better mean reward! Saving...\n"
     ]
    },
    {
     "data": {
      "application/vnd.jupyter.widget-view+json": {
       "model_id": "6eacef5e384445868a71c1fa5bccc092",
       "version_major": 2,
       "version_minor": 0
      },
      "text/plain": [
       "  0%|          | 0/60166 [00:00<?, ?it/s]"
      ]
     },
     "metadata": {},
     "output_type": "display_data"
    },
    {
     "name": "stdout",
     "output_type": "stream",
     "text": [
      "Better mean reward! Saving...\n"
     ]
    },
    {
     "data": {
      "application/vnd.jupyter.widget-view+json": {
       "model_id": "c818a68f2b8843feb5a2d9a9b82bd81a",
       "version_major": 2,
       "version_minor": 0
      },
      "text/plain": [
       "  0%|          | 0/60166 [00:00<?, ?it/s]"
      ]
     },
     "metadata": {},
     "output_type": "display_data"
    },
    {
     "data": {
      "application/vnd.jupyter.widget-view+json": {
       "model_id": "bca8d8d2ea0e4c9188b061cfce65e1a8",
       "version_major": 2,
       "version_minor": 0
      },
      "text/plain": [
       "  0%|          | 0/60166 [00:00<?, ?it/s]"
      ]
     },
     "metadata": {},
     "output_type": "display_data"
    },
    {
     "data": {
      "application/vnd.jupyter.widget-view+json": {
       "model_id": "4deb4245b63f4e6d8259b9c08e6fd7ce",
       "version_major": 2,
       "version_minor": 0
      },
      "text/plain": [
       "  0%|          | 0/60166 [00:00<?, ?it/s]"
      ]
     },
     "metadata": {},
     "output_type": "display_data"
    }
   ],
   "source": [
    "train_actions, train_rewards = alpha_stop.train(5, train_env, valid_env)"
   ]
  },
  {
   "cell_type": "code",
   "execution_count": 8,
   "id": "7f546c98",
   "metadata": {},
   "outputs": [
    {
     "name": "stdout",
     "output_type": "stream",
     "text": [
      "2022-10-31 0 1.0500000000000007\n",
      "2022-11-01 0 25.300000000001155\n",
      "2022-11-02 0 25.310000000001157\n",
      "2022-11-03 0 25.300000000001155\n",
      "2022-11-04 0 25.310000000001157\n",
      "2022-11-05 0 25.300000000001155\n",
      "2022-11-06 0 25.300000000001155\n",
      "2022-11-07 0 22.630000000000738\n",
      "2022-11-08 1 -74.70999999998706\n",
      "2022-11-09 0 1.340000000000001\n",
      "2022-11-10 1 -74.70999999998706\n",
      "2022-11-11 0 25.310000000001157\n",
      "2022-11-12 0 -1406.230000000009\n",
      "2022-11-13 0 25.300000000001155\n",
      "2022-11-14 0 25.310000000001157\n",
      "2022-11-15 0 25.300000000001155\n",
      "2022-11-16 0 -4440.6299999997955\n",
      "2022-11-17 0 -1515.2500000000025\n",
      "2022-11-18 0 -1353.2100000000025\n",
      "2022-11-19 0 25.300000000001155\n",
      "2022-11-20 0 25.300000000001155\n",
      "2022-11-21 0 25.310000000001157\n",
      "2022-11-22 0 -5540.749999999797\n",
      "2022-11-23 0 25.310000000001157\n",
      "2022-11-24 1 -9986.41\n"
     ]
    }
   ],
   "source": [
    "for (dt, a) in train_actions.items():\n",
    "    rs = train_rewards[dt]\n",
    "    print(dt, sum(a), sum(rs))"
   ]
  },
  {
   "cell_type": "code",
   "execution_count": 9,
   "id": "521eed39",
   "metadata": {},
   "outputs": [],
   "source": [
    "test_actions, test_rewards = alpha_stop.run(test_env)"
   ]
  },
  {
   "cell_type": "code",
   "execution_count": 20,
   "id": "4b226c2d",
   "metadata": {},
   "outputs": [],
   "source": [
    "pickle.dump(train_actions, open(os.path.join('../results/rl/br','train_actions.pkl'), 'wb'))\n",
    "pickle.dump(train_rewards, open(os.path.join('../results/rl/br','train_rewards.pkl'), 'wb'))\n",
    "pickle.dump(test_actions, open(os.path.join('../results/rl/br','test_actions.pkl'), 'wb'))\n",
    "pickle.dump(test_rewards, open(os.path.join('../results/rl/br','test_rewards.pkl'), 'wb'))"
   ]
  },
  {
   "cell_type": "code",
   "execution_count": 13,
   "id": "8773f223",
   "metadata": {},
   "outputs": [
    {
     "data": {
      "text/plain": [
       "<Axes: >"
      ]
     },
     "execution_count": 13,
     "metadata": {},
     "output_type": "execute_result"
    },
    {
     "data": {
      "image/png": "[encoded data removed]",
      "text/plain": [
       "<Figure size 640x480 with 1 Axes>"
      ]
     },
     "metadata": {},
     "output_type": "display_data"
    }
   ],
   "source": [
    "sns.lineplot(\n",
    "    {dt: sum(r) for dt, r in test_rewards.items()}\n",
    ")"
   ]
  }
 ],
 "metadata": {
  "kernelspec": {
   "display_name": "Python 3 (ipykernel)",
   "language": "python",
   "name": "python3"
  },
  "language_info": {
   "codemirror_mode": {
    "name": "ipython",
    "version": 3
   },
   "file_extension": ".py",
   "mimetype": "text/x-python",
   "name": "python",
   "nbconvert_exporter": "python",
   "pygments_lexer": "ipython3",
   "version": "3.10.12"
  }
 },
 "nbformat": 4,
 "nbformat_minor": 5
}
