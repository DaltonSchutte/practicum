{
 "cells": [
  {
   "cell_type": "code",
   "execution_count": null,
   "id": "713fb0c1",
   "metadata": {},
   "outputs": [],
   "source": [
    "import os\n",
    "import pickle \n",
    "import random\n",
    "import warnings\n",
    "\n",
    "import matplotlib.pyplot as plt\n",
    "import seaborn as sns\n",
    "\n",
    "import numpy as np\n",
    "import pandas as pd\n",
    "\n",
    "import torch\n",
    "\n",
    "import sys\n",
    "sys.path.insert(0, '..')\n",
    "from src.data import TimeSeries\n",
    "from src.methods import rl\n",
    "from src.environment import TimeSeriesEnv"
   ]
  },
  {
   "cell_type": "code",
   "execution_count": null,
   "id": "98d5b268",
   "metadata": {},
   "outputs": [],
   "source": [
    "# GLOBALS\n",
    "SEED = 3141\n",
    "random.seed(SEED)\n",
    "np.random.seed(SEED)\n",
    "torch.manual_seed(SEED)\n",
    "\n",
    "warnings.filterwarnings('ignore', category=FutureWarning)"
   ]
  },
  {
   "cell_type": "code",
   "execution_count": null,
   "id": "97d9f7e0",
   "metadata": {},
   "outputs": [],
   "source": [
    "train_ts = TimeSeries.from_csv(\n",
    "    'pandas',\n",
    "    '../data/blood-refrigerator/train.csv'\n",
    ")\n",
    "valid_ts = TimeSeries.from_csv(\n",
    "    'pandas',\n",
    "    '../data/blood-refrigerator/val.csv'\n",
    ")\n",
    "test_ts = TimeSeries.from_csv(\n",
    "    'pandas',\n",
    "    '../data/blood-refrigerator/test.csv'\n",
    ")\n",
    "\n",
    "train_ts.parse_datetime('timestamp')\n",
    "valid_ts.parse_datetime('timestamp')\n",
    "test_ts.parse_datetime('timestamp')\n",
    "\n",
    "train_ts.split_by_day()\n",
    "valid_ts.split_by_day()\n",
    "test_ts.split_by_day()"
   ]
  },
  {
   "cell_type": "code",
   "execution_count": null,
   "id": "62eb0584",
   "metadata": {},
   "outputs": [],
   "source": [
    "temp = pd.concat(\n",
    "    train_ts.time_series[k].drop(\n",
    "        columns=['timestamp','PW_0.5h','date','time']\n",
    "    ) for k in train_ts.time_series.keys()\n",
    ")\n",
    "\n",
    "FEATURE_COLS = [\n",
    "    c for c in temp.columns if np.std(temp[c])!=0\n",
    "]\n",
    "LABEL_COL = 'PW_0.5h'\n",
    "\n",
    "temp = None\n",
    "del temp\n",
    "len(FEATURE_COLS)"
   ]
  },
  {
   "cell_type": "code",
   "execution_count": null,
   "id": "c470f48d",
   "metadata": {},
   "outputs": [],
   "source": [
    "train_env = TimeSeriesEnv(train_ts, FEATURE_COLS, LABEL_COL)\n",
    "valid_env = TimeSeriesEnv(valid_ts, FEATURE_COLS, LABEL_COL)\n",
    "test_env = TimeSeriesEnv(test_ts, FEATURE_COLS, LABEL_COL)"
   ]
  },
  {
   "cell_type": "code",
   "execution_count": null,
   "id": "1f44a26a",
   "metadata": {},
   "outputs": [],
   "source": [
    "alpha_stop = rl.NeuralNetGuidedMCTS(\n",
    "    in_dim=len(FEATURE_COLS),\n",
    "    hid_dim=64,\n",
    "    save_dir='../results/rl/br',\n",
    "    n_actions=2,\n",
    "    n_sim=10,\n",
    "    lr=1e-3,\n",
    "    weight_decay=0.1,\n",
    "    gamma=0.999,\n",
    "    bsz=32,\n",
    "    device='cpu'\n",
    ")"
   ]
  },
  {
   "cell_type": "code",
   "execution_count": null,
   "id": "4b8d9551",
   "metadata": {},
   "outputs": [],
   "source": [
    "train_actions, train_rewards = alpha_stop.train(5, train_env, valid_env)"
   ]
  },
  {
   "cell_type": "code",
   "execution_count": null,
   "id": "7f546c98",
   "metadata": {},
   "outputs": [],
   "source": [
    "for (dt, a) in train_actions.items():\n",
    "    rs = train_rewards[dt]\n",
    "    print(dt, sum(a), sum(rs))"
   ]
  },
  {
   "cell_type": "code",
   "execution_count": null,
   "id": "521eed39",
   "metadata": {},
   "outputs": [],
   "source": [
    "test_actions, test_rewards = alpha_stop.run(test_env)"
   ]
  },
  {
   "cell_type": "code",
   "execution_count": null,
   "id": "4b226c2d",
   "metadata": {},
   "outputs": [],
   "source": [
    "pickle.dump(train_actions, open(os.path.join('../results/rl/br','train_actions.pkl'), 'wb'))\n",
    "pickle.dump(train_rewards, open(os.path.join('../results/rl/br','train_rewards.pkl'), 'wb'))\n",
    "pickle.dump(test_actions, open(os.path.join('../results/rl/br','test_actions.pkl'), 'wb'))\n",
    "pickle.dump(test_rewards, open(os.path.join('../results/rl/br','test_rewards.pkl'), 'wb'))"
   ]
  },
  {
   "cell_type": "code",
   "execution_count": null,
   "id": "8773f223",
   "metadata": {},
   "outputs": [],
   "source": [
    "sns.lineplot(\n",
    "    {dt: sum(r) for dt, r in test_rewards.items()}\n",
    ")"
   ]
  }
 ],
 "metadata": {
  "kernelspec": {
   "display_name": "Python 3 (ipykernel)",
   "language": "python",
   "name": "python3"
  },
  "language_info": {
   "codemirror_mode": {
    "name": "ipython",
    "version": 3
   },
   "file_extension": ".py",
   "mimetype": "text/x-python",
   "name": "python",
   "nbconvert_exporter": "python",
   "pygments_lexer": "ipython3",
   "version": "3.11.9"
  }
 },
 "nbformat": 4,
 "nbformat_minor": 5
}
