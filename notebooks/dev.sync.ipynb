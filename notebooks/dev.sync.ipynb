{
 "cells": [
  {
   "cell_type": "code",
   "execution_count": null,
   "id": "6cc84ff2",
   "metadata": {},
   "outputs": [],
   "source": [
    "import os\n",
    "\n",
    "import numpy as np\n",
    "import pandas as pd\n",
    "\n",
    "import sys\n",
    "sys.path.insert(0, '../')\n",
    "from src.data import (\n",
    "    TimeSeries,\n",
    "    parse_datetime\n",
    ")\n",
    "from src.methods import spc"
   ]
  },
  {
   "cell_type": "code",
   "execution_count": null,
   "id": "7951d0c7",
   "metadata": {},
   "outputs": [],
   "source": [
    "SEED = 3141"
   ]
  },
  {
   "cell_type": "code",
   "execution_count": null,
   "id": "b6572261",
   "metadata": {},
   "outputs": [],
   "source": [
    "br = {\n",
    "    'train': TimeSeries.from_csv(\n",
    "        'pandas',\n",
    "        '../data/blood-refrigerator/train.csv',\n",
    "        sep=',',\n",
    "    ),\n",
    "    'test': TimeSeries.from_csv(\n",
    "        'pandas',\n",
    "        '../data/blood-refrigerator/test.csv',\n",
    "        sep=',',\n",
    "    )\n",
    "}"
   ]
  },
  {
   "cell_type": "code",
   "execution_count": null,
   "id": "dce7dcca",
   "metadata": {},
   "outputs": [],
   "source": [
    "for t,d in br.items():\n",
    "    print(t, d.shape)"
   ]
  },
  {
   "cell_type": "code",
   "execution_count": null,
   "id": "9902b1fc",
   "metadata": {},
   "outputs": [],
   "source": [
    "for t,d in br.items():\n",
    "    d.parse_datetime('timestamp')"
   ]
  },
  {
   "cell_type": "code",
   "execution_count": null,
   "id": "21c20c1e",
   "metadata": {},
   "outputs": [],
   "source": [
    "days = 0\n",
    "for t,d in br.items():\n",
    "    d.split_by_day()\n",
    "    days += len(d.time_series)\n",
    "days"
   ]
  },
  {
   "cell_type": "code",
   "execution_count": null,
   "id": "ba1a040d",
   "metadata": {},
   "outputs": [],
   "source": [
    "counts = []\n",
    "totals = []\n",
    "for t, df in br.items():\n",
    "    for date, d in df.time_series.items():\n",
    "        counts.append(len(d[d['PW_0.5h']==1]))\n",
    "        totals.append(len(d))\n",
    "counts[:10], totals[:10]"
   ]
  },
  {
   "cell_type": "code",
   "execution_count": null,
   "id": "6e8c0f99",
   "metadata": {},
   "outputs": [],
   "source": [
    "id2day = {i:d for i,d in enumerate(br['train'].time_series.keys())}\n",
    "train_days = [id2day[i] for i,c in enumerate(counts[:len(id2day)]) if c == 0]\n",
    "\n",
    "y = pd.concat([\n",
    "    br['train'].time_series[k]['PW_0.5h'] for k in train_days\n",
    "])\n",
    "X = pd.concat([\n",
    "    br['train'].time_series[k].drop(\n",
    "        columns=['timestamp','PW_0.5h','date','time']\n",
    "    ) for k in train_days\n",
    "])\n",
    "\n",
    "# Drop std=0 variables\n",
    "X = X[\n",
    "    [c for c in X.columns if np.std(X[c]) != 0]\n",
    "]\n",
    "\n",
    "keep_cols = X.columns\n",
    "\n",
    "print(X.shape)\n",
    "np.mean(X, axis=0)"
   ]
  },
  {
   "cell_type": "code",
   "execution_count": null,
   "id": "a2bdea09",
   "metadata": {},
   "outputs": [],
   "source": [
    "def exceeds_5_breaches(values:np.ndarray, ucl):\n",
    "    if (values > ucl).sum() >= 5:\n",
    "        return True\n",
    "    return False"
   ]
  },
  {
   "cell_type": "code",
   "execution_count": null,
   "id": "7013fbae",
   "metadata": {},
   "outputs": [],
   "source": [
    "chart = spc.FControlChart()\n",
    "\n",
    "chart.determine_parameters(X.values)\n",
    "\n",
    "exceeds_5per15 = spc.PatternFunction(\n",
    "    exceeds_5_breaches,\n",
    "    15,\n",
    "    {'ucl': chart.ucl}\n",
    ")\n",
    "\n",
    "chart.add_patterns({'5per15at0.05':exceeds_5per15})"
   ]
  },
  {
   "cell_type": "code",
   "execution_count": null,
   "id": "763eba45",
   "metadata": {},
   "outputs": [],
   "source": [
    "eval_keys = list(br['test'].time_series.keys())\n",
    "k = eval_keys[0]\n",
    "test_vals = br['test'].time_series[k][keep_cols].values\n",
    "test_y = br['test'].time_series[k]['PW_0.5h']\n",
    "\n",
    "hits = chart.check_patterns(test_vals)\n",
    "hits"
   ]
  },
  {
   "cell_type": "code",
   "execution_count": null,
   "id": "3c9fd336",
   "metadata": {},
   "outputs": [],
   "source": [
    "test_y.sum()"
   ]
  }
 ],
 "metadata": {
  "kernelspec": {
   "display_name": "Python 3 (ipykernel)",
   "language": "python",
   "name": "python3"
  },
  "language_info": {
   "codemirror_mode": {
    "name": "ipython",
    "version": 3
   },
   "file_extension": ".py",
   "mimetype": "text/x-python",
   "name": "python",
   "nbconvert_exporter": "python",
   "pygments_lexer": "ipython3",
   "version": "3.11.9"
  }
 },
 "nbformat": 4,
 "nbformat_minor": 5
}
