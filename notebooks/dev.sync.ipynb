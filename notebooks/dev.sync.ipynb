{
 "cells": [
  {
   "cell_type": "code",
   "execution_count": 17,
   "id": "6cc84ff2",
   "metadata": {},
   "outputs": [],
   "source": [
    "import os\n",
    "\n",
    "import numpy as np\n",
    "import pandas as pd\n",
    "\n",
    "import sys\n",
    "sys.path.insert(0, '../')\n",
    "from src.data import (\n",
    "    TimeSeries,\n",
    "    parse_datetime\n",
    ")\n",
    "from src.methods import spc"
   ]
  },
  {
   "cell_type": "code",
   "execution_count": 18,
   "id": "7951d0c7",
   "metadata": {},
   "outputs": [],
   "source": [
    "SEED = 3141"
   ]
  },
  {
   "cell_type": "code",
   "execution_count": 19,
   "id": "b6572261",
   "metadata": {},
   "outputs": [],
   "source": [
    "br = {\n",
    "    'train': TimeSeries.from_csv(\n",
    "        'pandas',\n",
    "        '../data/blood-refrigerator/train.csv',\n",
    "        sep=',',\n",
    "    ),\n",
    "    'test': TimeSeries.from_csv(\n",
    "        'pandas',\n",
    "        '../data/blood-refrigerator/test.csv',\n",
    "        sep=',',\n",
    "    )\n",
    "}"
   ]
  },
  {
   "cell_type": "code",
   "execution_count": 20,
   "id": "dce7dcca",
   "metadata": {},
   "outputs": [
    {
     "name": "stdout",
     "output_type": "stream",
     "text": [
      "train (60166, 14)\n",
      "test (65763, 14)\n"
     ]
    }
   ],
   "source": [
    "for t,d in br.items():\n",
    "    print(t, d.shape)"
   ]
  },
  {
   "cell_type": "code",
   "execution_count": 21,
   "id": "9902b1fc",
   "metadata": {},
   "outputs": [],
   "source": [
    "for t,d in br.items():\n",
    "    d.parse_datetime('timestamp')"
   ]
  },
  {
   "cell_type": "code",
   "execution_count": 22,
   "id": "21c20c1e",
   "metadata": {},
   "outputs": [
    {
     "data": {
      "text/plain": [
       "52"
      ]
     },
     "execution_count": 22,
     "metadata": {},
     "output_type": "execute_result"
    }
   ],
   "source": [
    "days = 0\n",
    "for t,d in br.items():\n",
    "    d.split_by_day()\n",
    "    days += len(d.time_series)\n",
    "days"
   ]
  },
  {
   "cell_type": "code",
   "execution_count": 23,
   "id": "ba1a040d",
   "metadata": {},
   "outputs": [
    {
     "data": {
      "text/plain": [
       "([0, 0, 0, 0, 0, 0, 0, 0, 0, 55],\n",
       " [106, 2530, 2531, 2530, 2531, 2530, 2530, 2531, 2530, 2531])"
      ]
     },
     "execution_count": 23,
     "metadata": {},
     "output_type": "execute_result"
    }
   ],
   "source": [
    "counts = []\n",
    "totals = []\n",
    "for t, df in br.items():\n",
    "    for date, d in df.time_series.items():\n",
    "        counts.append(len(d[d['PW_0.5h']==1]))\n",
    "        totals.append(len(d))\n",
    "counts[:10], totals[:10]"
   ]
  },
  {
   "cell_type": "code",
   "execution_count": 46,
   "id": "6e8c0f99",
   "metadata": {},
   "outputs": [
    {
     "name": "stdout",
     "output_type": "stream",
     "text": [
      "(43123, 11)\n"
     ]
    },
    {
     "data": {
      "text/plain": [
       "Product temperature base [°C]       -0.214097\n",
       "Evaportator temperature base [°C]   -0.118012\n",
       "Power supply [V]                    -0.227221\n",
       "Condenser temperature base [°C]     -0.060278\n",
       "Instant power consumption [W]        0.158707\n",
       "Signal [DBM]                        -0.215734\n",
       "Door_close                           0.999977\n",
       "Door_open                            0.000023\n",
       "Machine_cooling                      0.353709\n",
       "Machine_defrost                      0.001623\n",
       "Machine_pause                        0.644668\n",
       "dtype: float64"
      ]
     },
     "execution_count": 46,
     "metadata": {},
     "output_type": "execute_result"
    }
   ],
   "source": [
    "id2day = {i:d for i,d in enumerate(br['train'].time_series.keys())}\n",
    "train_days = [id2day[i] for i,c in enumerate(counts[:len(id2day)]) if c == 0]\n",
    "\n",
    "y = pd.concat([\n",
    "    br['train'].time_series[k]['PW_0.5h'] for k in train_days\n",
    "])\n",
    "X = pd.concat([\n",
    "    br['train'].time_series[k].drop(\n",
    "        columns=['timestamp','PW_0.5h','date','time']\n",
    "    ) for k in train_days\n",
    "])\n",
    "\n",
    "# Drop std=0 variables\n",
    "X = X[\n",
    "    [c for c in X.columns if np.std(X[c]) != 0]\n",
    "]\n",
    "\n",
    "keep_cols = X.columns\n",
    "\n",
    "print(X.shape)\n",
    "np.mean(X, axis=0)"
   ]
  },
  {
   "cell_type": "code",
   "execution_count": 47,
   "id": "a2bdea09",
   "metadata": {},
   "outputs": [],
   "source": [
    "def exceeds_5_breaches(values:np.ndarray, ucl):\n",
    "    if (values > ucl).sum() >= 5:\n",
    "        return True\n",
    "    return False"
   ]
  },
  {
   "cell_type": "code",
   "execution_count": 48,
   "id": "7013fbae",
   "metadata": {},
   "outputs": [],
   "source": [
    "chart = spc.FControlChart()\n",
    "\n",
    "chart.determine_parameters(X.values)\n",
    "\n",
    "exceeds_5per15 = spc.PatternFunction(\n",
    "    exceeds_5_breaches,\n",
    "    15,\n",
    "    {'ucl': chart.ucl}\n",
    ")\n",
    "\n",
    "chart.add_patterns({'5per15at0.05':exceeds_5per15})"
   ]
  },
  {
   "cell_type": "code",
   "execution_count": 49,
   "id": "763eba45",
   "metadata": {},
   "outputs": [
    {
     "ename": "KeyboardInterrupt",
     "evalue": "",
     "output_type": "error",
     "traceback": [
      "\u001b[0;31m---------------------------------------------------------------------------\u001b[0m",
      "\u001b[0;31mKeyboardInterrupt\u001b[0m                         Traceback (most recent call last)",
      "Cell \u001b[0;32mIn[49], line 6\u001b[0m\n\u001b[1;32m      3\u001b[0m test_vals \u001b[38;5;241m=\u001b[39m br[\u001b[38;5;124m'\u001b[39m\u001b[38;5;124mtest\u001b[39m\u001b[38;5;124m'\u001b[39m]\u001b[38;5;241m.\u001b[39mtime_series[k][keep_cols]\u001b[38;5;241m.\u001b[39mvalues\n\u001b[1;32m      4\u001b[0m test_y \u001b[38;5;241m=\u001b[39m br[\u001b[38;5;124m'\u001b[39m\u001b[38;5;124mtest\u001b[39m\u001b[38;5;124m'\u001b[39m]\u001b[38;5;241m.\u001b[39mtime_series[k][\u001b[38;5;124m'\u001b[39m\u001b[38;5;124mPW_0.5h\u001b[39m\u001b[38;5;124m'\u001b[39m]\n\u001b[0;32m----> 6\u001b[0m hits \u001b[38;5;241m=\u001b[39m \u001b[43mchart\u001b[49m\u001b[38;5;241;43m.\u001b[39;49m\u001b[43mcheck_patterns\u001b[49m\u001b[43m(\u001b[49m\u001b[43mtest_vals\u001b[49m\u001b[43m)\u001b[49m\n\u001b[1;32m      7\u001b[0m hits\n",
      "File \u001b[0;32m~/projects/practicum/notebooks/../src/methods/spc.py:121\u001b[0m, in \u001b[0;36mFControlChart.check_patterns\u001b[0;34m(self, X)\u001b[0m\n\u001b[1;32m    118\u001b[0m matches \u001b[38;5;241m=\u001b[39m {}\n\u001b[1;32m    120\u001b[0m \u001b[38;5;28;01mfor\u001b[39;00m pname, pfunc \u001b[38;5;129;01min\u001b[39;00m \u001b[38;5;28mself\u001b[39m\u001b[38;5;241m.\u001b[39mpatterns\u001b[38;5;241m.\u001b[39mitems():\n\u001b[0;32m--> 121\u001b[0m     results \u001b[38;5;241m=\u001b[39m \u001b[43mpfunc\u001b[49m\u001b[43m(\u001b[49m\u001b[43mQ\u001b[49m\u001b[43m)\u001b[49m\n\u001b[1;32m    122\u001b[0m     matches\u001b[38;5;241m.\u001b[39mupdate(\n\u001b[1;32m    123\u001b[0m         {pname: results}\n\u001b[1;32m    124\u001b[0m     )\n\u001b[1;32m    126\u001b[0m \u001b[38;5;28;01mreturn\u001b[39;00m matches\n",
      "File \u001b[0;32m~/projects/practicum/notebooks/../src/methods/spc.py:33\u001b[0m, in \u001b[0;36mPatternFunction.__call__\u001b[0;34m(self, x)\u001b[0m\n\u001b[1;32m     30\u001b[0m         \u001b[38;5;28;01myield\u001b[39;00m x[i:i\u001b[38;5;241m+\u001b[39mt]\n\u001b[1;32m     32\u001b[0m \u001b[38;5;28;01mfor\u001b[39;00m i, window \u001b[38;5;129;01min\u001b[39;00m \u001b[38;5;28menumerate\u001b[39m(rolling(x, \u001b[38;5;28mself\u001b[39m\u001b[38;5;241m.\u001b[39mt)):\n\u001b[0;32m---> 33\u001b[0m     is_match \u001b[38;5;241m=\u001b[39m \u001b[38;5;28;43mself\u001b[39;49m\u001b[38;5;241;43m.\u001b[39;49m\u001b[43mfunc\u001b[49m\u001b[43m(\u001b[49m\u001b[43mwindow\u001b[49m\u001b[43m,\u001b[49m\u001b[43m \u001b[49m\u001b[38;5;241;43m*\u001b[39;49m\u001b[38;5;241;43m*\u001b[39;49m\u001b[38;5;28;43mself\u001b[39;49m\u001b[38;5;241;43m.\u001b[39;49m\u001b[43mfargs\u001b[49m\u001b[43m)\u001b[49m\n\u001b[1;32m     35\u001b[0m     \u001b[38;5;28;01mif\u001b[39;00m is_match:\n\u001b[1;32m     36\u001b[0m         \u001b[38;5;28;01mreturn\u001b[39;00m (i, \u001b[38;5;28;01mTrue\u001b[39;00m)\n",
      "Cell \u001b[0;32mIn[47], line 2\u001b[0m, in \u001b[0;36mexceeds_5_breaches\u001b[0;34m(values, ucl)\u001b[0m\n\u001b[1;32m      1\u001b[0m \u001b[38;5;28;01mdef\u001b[39;00m \u001b[38;5;21mexceeds_5_breaches\u001b[39m(values:np\u001b[38;5;241m.\u001b[39mndarray, ucl):\n\u001b[0;32m----> 2\u001b[0m     \u001b[38;5;28;01mif\u001b[39;00m \u001b[43m(\u001b[49m\u001b[43mvalues\u001b[49m\u001b[43m \u001b[49m\u001b[38;5;241;43m>\u001b[39;49m\u001b[43m \u001b[49m\u001b[43mucl\u001b[49m\u001b[43m)\u001b[49m\u001b[38;5;241;43m.\u001b[39;49m\u001b[43msum\u001b[49m\u001b[43m(\u001b[49m\u001b[43m)\u001b[49m \u001b[38;5;241m>\u001b[39m\u001b[38;5;241m=\u001b[39m \u001b[38;5;241m5\u001b[39m:\n\u001b[1;32m      3\u001b[0m         \u001b[38;5;28;01mreturn\u001b[39;00m \u001b[38;5;28;01mTrue\u001b[39;00m\n\u001b[1;32m      4\u001b[0m     \u001b[38;5;28;01mreturn\u001b[39;00m \u001b[38;5;28;01mFalse\u001b[39;00m\n",
      "File \u001b[0;32m~/projects/practicum/env/lib/python3.10/site-packages/numpy/core/_methods.py:49\u001b[0m, in \u001b[0;36m_sum\u001b[0;34m(a, axis, dtype, out, keepdims, initial, where)\u001b[0m\n\u001b[1;32m     47\u001b[0m \u001b[38;5;28;01mdef\u001b[39;00m \u001b[38;5;21m_sum\u001b[39m(a, axis\u001b[38;5;241m=\u001b[39m\u001b[38;5;28;01mNone\u001b[39;00m, dtype\u001b[38;5;241m=\u001b[39m\u001b[38;5;28;01mNone\u001b[39;00m, out\u001b[38;5;241m=\u001b[39m\u001b[38;5;28;01mNone\u001b[39;00m, keepdims\u001b[38;5;241m=\u001b[39m\u001b[38;5;28;01mFalse\u001b[39;00m,\n\u001b[1;32m     48\u001b[0m          initial\u001b[38;5;241m=\u001b[39m_NoValue, where\u001b[38;5;241m=\u001b[39m\u001b[38;5;28;01mTrue\u001b[39;00m):\n\u001b[0;32m---> 49\u001b[0m     \u001b[38;5;28;01mreturn\u001b[39;00m \u001b[43mumr_sum\u001b[49m\u001b[43m(\u001b[49m\u001b[43ma\u001b[49m\u001b[43m,\u001b[49m\u001b[43m \u001b[49m\u001b[43maxis\u001b[49m\u001b[43m,\u001b[49m\u001b[43m \u001b[49m\u001b[43mdtype\u001b[49m\u001b[43m,\u001b[49m\u001b[43m \u001b[49m\u001b[43mout\u001b[49m\u001b[43m,\u001b[49m\u001b[43m \u001b[49m\u001b[43mkeepdims\u001b[49m\u001b[43m,\u001b[49m\u001b[43m \u001b[49m\u001b[43minitial\u001b[49m\u001b[43m,\u001b[49m\u001b[43m \u001b[49m\u001b[43mwhere\u001b[49m\u001b[43m)\u001b[49m\n",
      "\u001b[0;31mKeyboardInterrupt\u001b[0m: "
     ]
    }
   ],
   "source": [
    "eval_keys = list(br['test'].time_series.keys())\n",
    "k = eval_keys[0]\n",
    "test_vals = br['test'].time_series[k][keep_cols].values\n",
    "test_y = br['test'].time_series[k]['PW_0.5h']\n",
    "\n",
    "hits = chart.check_patterns(test_vals)\n",
    "hits"
   ]
  },
  {
   "cell_type": "code",
   "execution_count": 36,
   "id": "3c9fd336",
   "metadata": {},
   "outputs": [
    {
     "data": {
      "text/plain": [
       "0"
      ]
     },
     "execution_count": 36,
     "metadata": {},
     "output_type": "execute_result"
    }
   ],
   "source": [
    "test_y.sum()"
   ]
  }
 ],
 "metadata": {
  "kernelspec": {
   "display_name": "Python 3 (ipykernel)",
   "language": "python",
   "name": "python3"
  },
  "language_info": {
   "codemirror_mode": {
    "name": "ipython",
    "version": 3
   },
   "file_extension": ".py",
   "mimetype": "text/x-python",
   "name": "python",
   "nbconvert_exporter": "python",
   "pygments_lexer": "ipython3",
   "version": "3.11.9"
  }
 },
 "nbformat": 4,
 "nbformat_minor": 5
}
