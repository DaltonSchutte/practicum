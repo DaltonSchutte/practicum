{
 "cells": [
  {
   "cell_type": "code",
   "execution_count": null,
   "id": "0df54c1b",
   "metadata": {},
   "outputs": [],
   "source": [
    "import os\n",
    "import pickle\n",
    "from string import Template\n",
    "from collections import namedtuple\n",
    "\n",
    "import matplotlib.pyplot as plt\n",
    "import seaborn as sns\n",
    "\n",
    "import numpy as np\n",
    "import pandas as pd\n",
    "\n",
    "import sys\n",
    "sys.path.insert(0, '..')\n",
    "from src.data import TimeSeries\n",
    "from src.methods.spc import FControlChart, PatternFunction\n",
    "from src.eval import (\n",
    "    mean_time_from_event,\n",
    "    classification_metrics\n",
    ")"
   ]
  },
  {
   "cell_type": "code",
   "execution_count": null,
   "id": "c8bbec90",
   "metadata": {},
   "outputs": [],
   "source": [
    "data = {}\n",
    "for dir in os.listdir('../data'):\n",
    "    if dir == 'wrapper-machine':\n",
    "        continue\n",
    "\n",
    "    print(dir.upper())\n",
    "    # Data loading\n",
    "    data_dir_path = os.path.join('../data', dir)\n",
    "    if dir == 'nitrogen-generator':\n",
    "        tf = '%Y-%m-%d %H:%M:%S'\n",
    "    else:\n",
    "        tf = '%Y-%m-%d %H:%M:%S.%f'\n",
    "\n",
    "    train_ts = TimeSeries.from_csv(\n",
    "        'pandas',\n",
    "        os.path.join(data_dir_path, 'train.csv')\n",
    "    )\n",
    "    test_ts = TimeSeries.from_csv(\n",
    "        'pandas',\n",
    "        os.path.join(data_dir_path, 'test.csv')\n",
    "    )\n",
    "\n",
    "    # Data prep\n",
    "    train_ts.parse_datetime('timestamp', tf)\n",
    "    test_ts.parse_datetime('timestamp', tf)\n",
    "\n",
    "    train_ts.split_by_day()\n",
    "    test_ts.split_by_day()\n",
    "    \n",
    "    \n",
    "\n",
    "    temp = pd.concat(\n",
    "        train_ts.time_series[k].drop(\n",
    "            columns=['timestamp','PW_0.5h','date','time']\n",
    "        ) for k in train_ts.time_series.keys()\n",
    "    )\n",
    "\n",
    "    FEATURE_COLS = [\n",
    "        c for c in temp.columns if np.std(temp[c])!=0\n",
    "    ]\n",
    "    LABEL_COL = 'PW_0.5h'\n",
    "    data.update({dir: {'train': train_ts, 'test': test_ts, 'cols': FEATURE_COLS}})\n",
    "    temp = None\n",
    "    del temp"
   ]
  },
  {
   "cell_type": "code",
   "execution_count": null,
   "id": "f061c593",
   "metadata": {},
   "outputs": [],
   "source": [
    "for ds, ts in data.items():\n",
    "    train_count = 0\n",
    "    train_stop = 0\n",
    "    test_count = 0\n",
    "    test_stop = 0\n",
    "    print(ds, len(ts['train'].time_series), len(ts['test'].time_series))\n",
    "    for t in ts['train'].time_series.values():\n",
    "        train_count += len(t)\n",
    "        train_stop += t['PW_0.5h'].sum()\n",
    "    for t in ts['test'].time_series.values():\n",
    "        test_count += len(t)\n",
    "        test_stop += t['PW_0.5h'].sum()\n",
    "    print(train_count, test_count)\n",
    "    print(train_stop, test_stop)"
   ]
  },
  {
   "cell_type": "code",
   "execution_count": null,
   "id": "f0bcb154",
   "metadata": {
    "scrolled": false
   },
   "outputs": [],
   "source": [
    "for ds, ts in data.items():\n",
    "    print(ts)\n",
    "    print(ts['cols'])\n",
    "    print(ts['train'].data.describe())\n",
    "    print(ts['test'].data.describe())"
   ]
  },
  {
   "cell_type": "code",
   "execution_count": null,
   "id": "cad9d873",
   "metadata": {},
   "outputs": [],
   "source": []
  }
 ],
 "metadata": {
  "kernelspec": {
   "display_name": "Python 3 (ipykernel)",
   "language": "python",
   "name": "python3"
  },
  "language_info": {
   "codemirror_mode": {
    "name": "ipython",
    "version": 3
   },
   "file_extension": ".py",
   "mimetype": "text/x-python",
   "name": "python",
   "nbconvert_exporter": "python",
   "pygments_lexer": "ipython3",
   "version": "3.11.9"
  }
 },
 "nbformat": 4,
 "nbformat_minor": 5
}
